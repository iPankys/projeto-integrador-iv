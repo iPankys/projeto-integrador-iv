{
  "nbformat": 4,
  "nbformat_minor": 0,
  "metadata": {
    "colab": {
      "provenance": [],
      "authorship_tag": "ABX9TyN6h1n/4ubEtz3RDtnBOdpL",
      "include_colab_link": true
    },
    "kernelspec": {
      "name": "python3",
      "display_name": "Python 3"
    },
    "language_info": {
      "name": "python"
    }
  },
  "cells": [
    {
      "cell_type": "markdown",
      "metadata": {
        "id": "view-in-github",
        "colab_type": "text"
      },
      "source": [
        "<a href=\"https://colab.research.google.com/github/casjunior93/projeto-integrador-iv/blob/main/PI_IV.ipynb\" target=\"_parent\"><img src=\"https://colab.research.google.com/assets/colab-badge.svg\" alt=\"Open In Colab\"/></a>"
      ]
    },
    {
      "cell_type": "markdown",
      "source": [
        "# Bibliotecas fundamentais"
      ],
      "metadata": {
        "id": "UKmUBDfxYWhV"
      }
    },
    {
      "cell_type": "code",
      "execution_count": 1,
      "metadata": {
        "id": "zAa_7m4sX_jj"
      },
      "outputs": [],
      "source": [
        "import numpy as np\n",
        "import pandas as pd\n",
        "import seaborn as sns\n",
        "import matplotlib.pyplot as plt\n",
        "import warnings\n",
        "from datetime import datetime\n",
        "warnings.filterwarnings('ignore')\n",
        "import scipy.stats as stats\n",
        "\n",
        "#Configura o pandas para não exibir resultados em notação científica\n",
        "pd.options.display.float_format = '{:.2f}'.format\n",
        "\n",
        "#Semente aleatória do Numpy\n",
        "np.random.seed(42)\n",
        "\n",
        "#Data local\n",
        "import locale\n",
        "# Colab não suporta\n",
        "#locale.setlocale(locale.LC_ALL, 'pt_BR.utf8')"
      ]
    },
    {
      "cell_type": "markdown",
      "source": [
        "# URL base da api de dados"
      ],
      "metadata": {
        "id": "Gn9k6cBnYr5o"
      }
    },
    {
      "cell_type": "code",
      "source": [
        "url_base = 'https://univesp-analytics.vercel.app/api/get'"
      ],
      "metadata": {
        "id": "4wvfnoQZYqoR"
      },
      "execution_count": 2,
      "outputs": []
    },
    {
      "cell_type": "markdown",
      "source": [
        "# Lendo Json com Pandas"
      ],
      "metadata": {
        "id": "SNrbsbj3ZEVU"
      }
    },
    {
      "cell_type": "code",
      "source": [
        "import urllib.request, json \n",
        "from pandas.io.json import json_normalize\n",
        "\n",
        "pagina = 1\n",
        "limite = 10000"
      ],
      "metadata": {
        "id": "iGV8GDMbetSS"
      },
      "execution_count": 3,
      "outputs": []
    },
    {
      "cell_type": "code",
      "source": [
        "%%time\n",
        "''' fim_iteracao_api = False\n",
        "df_dados_api_original = pd.DataFrame([])\n",
        "\n",
        "print(f'Início das requisições')\n",
        "while fim_iteracao_api == False:\n",
        "  with urllib.request.urlopen(url_base + '?page=' + str(pagina) + '&limite=' + str(limite)) as url:\n",
        "    data = json.loads(url.read().decode())\n",
        "    df = pd.DataFrame(json_normalize(data))\n",
        "    if len(data) == 0:\n",
        "      print(f'Fim. Total de {pagina - 1} páginas.')\n",
        "      fim_iteracao_api = True\n",
        "    else:\n",
        "      if pagina % 100 == 0:\n",
        "        print(f'Fim leitura página {pagina}')\n",
        "      pagina += 1\n",
        "      df_dados_api_original = pd.concat([df_dados_api_original, df], ignore_index = True) '''"
      ],
      "metadata": {
        "colab": {
          "base_uri": "https://localhost:8080/",
          "height": 122
        },
        "id": "ZSRr7t3yZGpc",
        "outputId": "3a43a954-e352-4132-9ee3-a23f6ee22085"
      },
      "execution_count": 4,
      "outputs": [
        {
          "output_type": "stream",
          "name": "stdout",
          "text": [
            "CPU times: user 4 µs, sys: 0 ns, total: 4 µs\n",
            "Wall time: 7.63 µs\n"
          ]
        },
        {
          "output_type": "execute_result",
          "data": {
            "text/plain": [
              "\" fim_iteracao_api = False\\ndf_dados_api_original = pd.DataFrame([])\\n\\nprint(f'Início das requisições')\\nwhile fim_iteracao_api == False:\\n  with urllib.request.urlopen(url_base + '?page=' + str(pagina) + '&limite=' + str(limite)) as url:\\n    data = json.loads(url.read().decode())\\n    df = pd.DataFrame(json_normalize(data))\\n    if len(data) == 0:\\n      print(f'Fim. Total de {pagina - 1} páginas.')\\n      fim_iteracao_api = True\\n    else:\\n      if pagina % 100 == 0:\\n        print(f'Fim leitura página {pagina}')\\n      pagina += 1\\n      df_dados_api_original = pd.concat([df_dados_api_original, df], ignore_index = True) \""
            ],
            "application/vnd.google.colaboratory.intrinsic+json": {
              "type": "string"
            }
          },
          "metadata": {},
          "execution_count": 4
        }
      ]
    },
    {
      "cell_type": "code",
      "source": [
        "%%time\n",
        "with urllib.request.urlopen(url_base + '?page=' + str(pagina) + '&limite=' + str(limite)) as url:\n",
        "    data = json.loads(url.read().decode())\n",
        "    df_dados_api_original = pd.DataFrame(json_normalize(data))"
      ],
      "metadata": {
        "id": "eeQKaZ4RvhTg",
        "outputId": "99135f5e-b6d2-4c19-eadf-f6214c3cbebe",
        "colab": {
          "base_uri": "https://localhost:8080/"
        }
      },
      "execution_count": 5,
      "outputs": [
        {
          "output_type": "stream",
          "name": "stdout",
          "text": [
            "CPU times: user 195 ms, sys: 20.2 ms, total: 215 ms\n",
            "Wall time: 2.57 s\n"
          ]
        }
      ]
    },
    {
      "cell_type": "markdown",
      "source": [
        "Cópia dos dados da api"
      ],
      "metadata": {
        "id": "M0FN-spo5keG"
      }
    },
    {
      "cell_type": "code",
      "source": [
        "df_dados_api = df_dados_api_original.copy()"
      ],
      "metadata": {
        "id": "fIAWLuOD5n-Q"
      },
      "execution_count": 6,
      "outputs": []
    },
    {
      "cell_type": "markdown",
      "source": [
        "Dimensão dos dados - Linhas, colunas"
      ],
      "metadata": {
        "id": "KF33X72JaT2U"
      }
    },
    {
      "cell_type": "code",
      "source": [
        "df_dados_api.shape"
      ],
      "metadata": {
        "colab": {
          "base_uri": "https://localhost:8080/"
        },
        "id": "mmytl9adclVt",
        "outputId": "38c810ef-7da7-44f0-8820-2e45097ba679"
      },
      "execution_count": 7,
      "outputs": [
        {
          "output_type": "execute_result",
          "data": {
            "text/plain": [
              "(9598, 8)"
            ]
          },
          "metadata": {},
          "execution_count": 7
        }
      ]
    },
    {
      "cell_type": "markdown",
      "source": [
        "# Visualizando dados originais"
      ],
      "metadata": {
        "id": "MRxYVNlwftwH"
      }
    },
    {
      "cell_type": "markdown",
      "source": [
        "Mudando ordenação dos dados"
      ],
      "metadata": {
        "id": "vv_ycGm8wWsS"
      }
    },
    {
      "cell_type": "code",
      "source": [
        "df_dados_api.sort_index(ascending=False, inplace=True, ignore_index=True)"
      ],
      "metadata": {
        "id": "qTJqOSqAwWRI"
      },
      "execution_count": 8,
      "outputs": []
    },
    {
      "cell_type": "markdown",
      "source": [
        "Cinco primeiros registros do dataframe - Em ordem da disposição na API"
      ],
      "metadata": {
        "id": "J5-GrIvHa_1v"
      }
    },
    {
      "cell_type": "code",
      "source": [
        "df_dados_api.head()"
      ],
      "metadata": {
        "colab": {
          "base_uri": "https://localhost:8080/",
          "height": 206
        },
        "id": "Sxa4dR8GeH9g",
        "outputId": "74c509b8-918f-49d4-eeb8-4d0295358c88"
      },
      "execution_count": 9,
      "outputs": [
        {
          "output_type": "execute_result",
          "data": {
            "text/plain": [
              "                        _id temp_ar umid_ar   type              time.time_js  \\\n",
              "0  63fea0720dd58484fc266c80     NaN     NaN    NaN                       NaN   \n",
              "1  63ffdbb91a4eb0dfdd6a11a7       2       3  teste  2023-03-01T23:11:53.036Z   \n",
              "2  63ffdbde1a4eb0dfdd6a11a8      10      10  teste  2023-03-01T23:12:30.063Z   \n",
              "3  63ffdea6722bef68acc5bb72     333     333  teste  2023-03-01T23:24:21.438Z   \n",
              "4  63ffed2b38c8784e07b788f2      15      15  teste       01/03/2023 21:26:19   \n",
              "\n",
              "    time.data time.hora  teste  \n",
              "0         NaN       NaN 123.00  \n",
              "1  01/03/2023  20:11:53    NaN  \n",
              "2  01/03/2023  20:12:30    NaN  \n",
              "3  01/03/2023  23:24:21    NaN  \n",
              "4  01/03/2023  21:26:19    NaN  "
            ],
            "text/html": [
              "\n",
              "  <div id=\"df-4f46f9cb-537e-4fbb-81d4-b93fe259d322\">\n",
              "    <div class=\"colab-df-container\">\n",
              "      <div>\n",
              "<style scoped>\n",
              "    .dataframe tbody tr th:only-of-type {\n",
              "        vertical-align: middle;\n",
              "    }\n",
              "\n",
              "    .dataframe tbody tr th {\n",
              "        vertical-align: top;\n",
              "    }\n",
              "\n",
              "    .dataframe thead th {\n",
              "        text-align: right;\n",
              "    }\n",
              "</style>\n",
              "<table border=\"1\" class=\"dataframe\">\n",
              "  <thead>\n",
              "    <tr style=\"text-align: right;\">\n",
              "      <th></th>\n",
              "      <th>_id</th>\n",
              "      <th>temp_ar</th>\n",
              "      <th>umid_ar</th>\n",
              "      <th>type</th>\n",
              "      <th>time.time_js</th>\n",
              "      <th>time.data</th>\n",
              "      <th>time.hora</th>\n",
              "      <th>teste</th>\n",
              "    </tr>\n",
              "  </thead>\n",
              "  <tbody>\n",
              "    <tr>\n",
              "      <th>0</th>\n",
              "      <td>63fea0720dd58484fc266c80</td>\n",
              "      <td>NaN</td>\n",
              "      <td>NaN</td>\n",
              "      <td>NaN</td>\n",
              "      <td>NaN</td>\n",
              "      <td>NaN</td>\n",
              "      <td>NaN</td>\n",
              "      <td>123.00</td>\n",
              "    </tr>\n",
              "    <tr>\n",
              "      <th>1</th>\n",
              "      <td>63ffdbb91a4eb0dfdd6a11a7</td>\n",
              "      <td>2</td>\n",
              "      <td>3</td>\n",
              "      <td>teste</td>\n",
              "      <td>2023-03-01T23:11:53.036Z</td>\n",
              "      <td>01/03/2023</td>\n",
              "      <td>20:11:53</td>\n",
              "      <td>NaN</td>\n",
              "    </tr>\n",
              "    <tr>\n",
              "      <th>2</th>\n",
              "      <td>63ffdbde1a4eb0dfdd6a11a8</td>\n",
              "      <td>10</td>\n",
              "      <td>10</td>\n",
              "      <td>teste</td>\n",
              "      <td>2023-03-01T23:12:30.063Z</td>\n",
              "      <td>01/03/2023</td>\n",
              "      <td>20:12:30</td>\n",
              "      <td>NaN</td>\n",
              "    </tr>\n",
              "    <tr>\n",
              "      <th>3</th>\n",
              "      <td>63ffdea6722bef68acc5bb72</td>\n",
              "      <td>333</td>\n",
              "      <td>333</td>\n",
              "      <td>teste</td>\n",
              "      <td>2023-03-01T23:24:21.438Z</td>\n",
              "      <td>01/03/2023</td>\n",
              "      <td>23:24:21</td>\n",
              "      <td>NaN</td>\n",
              "    </tr>\n",
              "    <tr>\n",
              "      <th>4</th>\n",
              "      <td>63ffed2b38c8784e07b788f2</td>\n",
              "      <td>15</td>\n",
              "      <td>15</td>\n",
              "      <td>teste</td>\n",
              "      <td>01/03/2023 21:26:19</td>\n",
              "      <td>01/03/2023</td>\n",
              "      <td>21:26:19</td>\n",
              "      <td>NaN</td>\n",
              "    </tr>\n",
              "  </tbody>\n",
              "</table>\n",
              "</div>\n",
              "      <button class=\"colab-df-convert\" onclick=\"convertToInteractive('df-4f46f9cb-537e-4fbb-81d4-b93fe259d322')\"\n",
              "              title=\"Convert this dataframe to an interactive table.\"\n",
              "              style=\"display:none;\">\n",
              "        \n",
              "  <svg xmlns=\"http://www.w3.org/2000/svg\" height=\"24px\"viewBox=\"0 0 24 24\"\n",
              "       width=\"24px\">\n",
              "    <path d=\"M0 0h24v24H0V0z\" fill=\"none\"/>\n",
              "    <path d=\"M18.56 5.44l.94 2.06.94-2.06 2.06-.94-2.06-.94-.94-2.06-.94 2.06-2.06.94zm-11 1L8.5 8.5l.94-2.06 2.06-.94-2.06-.94L8.5 2.5l-.94 2.06-2.06.94zm10 10l.94 2.06.94-2.06 2.06-.94-2.06-.94-.94-2.06-.94 2.06-2.06.94z\"/><path d=\"M17.41 7.96l-1.37-1.37c-.4-.4-.92-.59-1.43-.59-.52 0-1.04.2-1.43.59L10.3 9.45l-7.72 7.72c-.78.78-.78 2.05 0 2.83L4 21.41c.39.39.9.59 1.41.59.51 0 1.02-.2 1.41-.59l7.78-7.78 2.81-2.81c.8-.78.8-2.07 0-2.86zM5.41 20L4 18.59l7.72-7.72 1.47 1.35L5.41 20z\"/>\n",
              "  </svg>\n",
              "      </button>\n",
              "      \n",
              "  <style>\n",
              "    .colab-df-container {\n",
              "      display:flex;\n",
              "      flex-wrap:wrap;\n",
              "      gap: 12px;\n",
              "    }\n",
              "\n",
              "    .colab-df-convert {\n",
              "      background-color: #E8F0FE;\n",
              "      border: none;\n",
              "      border-radius: 50%;\n",
              "      cursor: pointer;\n",
              "      display: none;\n",
              "      fill: #1967D2;\n",
              "      height: 32px;\n",
              "      padding: 0 0 0 0;\n",
              "      width: 32px;\n",
              "    }\n",
              "\n",
              "    .colab-df-convert:hover {\n",
              "      background-color: #E2EBFA;\n",
              "      box-shadow: 0px 1px 2px rgba(60, 64, 67, 0.3), 0px 1px 3px 1px rgba(60, 64, 67, 0.15);\n",
              "      fill: #174EA6;\n",
              "    }\n",
              "\n",
              "    [theme=dark] .colab-df-convert {\n",
              "      background-color: #3B4455;\n",
              "      fill: #D2E3FC;\n",
              "    }\n",
              "\n",
              "    [theme=dark] .colab-df-convert:hover {\n",
              "      background-color: #434B5C;\n",
              "      box-shadow: 0px 1px 3px 1px rgba(0, 0, 0, 0.15);\n",
              "      filter: drop-shadow(0px 1px 2px rgba(0, 0, 0, 0.3));\n",
              "      fill: #FFFFFF;\n",
              "    }\n",
              "  </style>\n",
              "\n",
              "      <script>\n",
              "        const buttonEl =\n",
              "          document.querySelector('#df-4f46f9cb-537e-4fbb-81d4-b93fe259d322 button.colab-df-convert');\n",
              "        buttonEl.style.display =\n",
              "          google.colab.kernel.accessAllowed ? 'block' : 'none';\n",
              "\n",
              "        async function convertToInteractive(key) {\n",
              "          const element = document.querySelector('#df-4f46f9cb-537e-4fbb-81d4-b93fe259d322');\n",
              "          const dataTable =\n",
              "            await google.colab.kernel.invokeFunction('convertToInteractive',\n",
              "                                                     [key], {});\n",
              "          if (!dataTable) return;\n",
              "\n",
              "          const docLinkHtml = 'Like what you see? Visit the ' +\n",
              "            '<a target=\"_blank\" href=https://colab.research.google.com/notebooks/data_table.ipynb>data table notebook</a>'\n",
              "            + ' to learn more about interactive tables.';\n",
              "          element.innerHTML = '';\n",
              "          dataTable['output_type'] = 'display_data';\n",
              "          await google.colab.output.renderOutput(dataTable, element);\n",
              "          const docLink = document.createElement('div');\n",
              "          docLink.innerHTML = docLinkHtml;\n",
              "          element.appendChild(docLink);\n",
              "        }\n",
              "      </script>\n",
              "    </div>\n",
              "  </div>\n",
              "  "
            ]
          },
          "metadata": {},
          "execution_count": 9
        }
      ]
    },
    {
      "cell_type": "markdown",
      "source": [
        "Cinco últimos registros do dataframe"
      ],
      "metadata": {
        "id": "M8_VwOBLbCOE"
      }
    },
    {
      "cell_type": "code",
      "source": [
        "df_dados_api.tail()"
      ],
      "metadata": {
        "colab": {
          "base_uri": "https://localhost:8080/",
          "height": 206
        },
        "id": "Bv7hPedkff32",
        "outputId": "02b0efe9-0595-42d4-9eb2-65986cac6760"
      },
      "execution_count": 10,
      "outputs": [
        {
          "output_type": "execute_result",
          "data": {
            "text/plain": [
              "                           _id temp_ar umid_ar   type          time.time_js  \\\n",
              "9593  641fae22708e4c1bfdcb373f   26.70      55  teste  25/03/2023, 23:29:54   \n",
              "9594  641fae4c708e4c1bfdcb3740   26.70      56  teste  25/03/2023, 23:30:36   \n",
              "9595  641fae76708e4c1bfdcb3741   26.70      56  teste  25/03/2023, 23:31:18   \n",
              "9596  641faea0708e4c1bfdcb3742   26.70      56  teste  25/03/2023, 23:32:00   \n",
              "9597  641faeca708e4c1bfdcb3743   26.70      56  teste  25/03/2023, 23:32:42   \n",
              "\n",
              "        time.data time.hora  teste  \n",
              "9593  25/03/2023,  23:29:54    NaN  \n",
              "9594  25/03/2023,  23:30:36    NaN  \n",
              "9595  25/03/2023,  23:31:18    NaN  \n",
              "9596  25/03/2023,  23:32:00    NaN  \n",
              "9597  25/03/2023,  23:32:42    NaN  "
            ],
            "text/html": [
              "\n",
              "  <div id=\"df-8c567bb4-dde3-4de9-89b4-f91b56f0235e\">\n",
              "    <div class=\"colab-df-container\">\n",
              "      <div>\n",
              "<style scoped>\n",
              "    .dataframe tbody tr th:only-of-type {\n",
              "        vertical-align: middle;\n",
              "    }\n",
              "\n",
              "    .dataframe tbody tr th {\n",
              "        vertical-align: top;\n",
              "    }\n",
              "\n",
              "    .dataframe thead th {\n",
              "        text-align: right;\n",
              "    }\n",
              "</style>\n",
              "<table border=\"1\" class=\"dataframe\">\n",
              "  <thead>\n",
              "    <tr style=\"text-align: right;\">\n",
              "      <th></th>\n",
              "      <th>_id</th>\n",
              "      <th>temp_ar</th>\n",
              "      <th>umid_ar</th>\n",
              "      <th>type</th>\n",
              "      <th>time.time_js</th>\n",
              "      <th>time.data</th>\n",
              "      <th>time.hora</th>\n",
              "      <th>teste</th>\n",
              "    </tr>\n",
              "  </thead>\n",
              "  <tbody>\n",
              "    <tr>\n",
              "      <th>9593</th>\n",
              "      <td>641fae22708e4c1bfdcb373f</td>\n",
              "      <td>26.70</td>\n",
              "      <td>55</td>\n",
              "      <td>teste</td>\n",
              "      <td>25/03/2023, 23:29:54</td>\n",
              "      <td>25/03/2023,</td>\n",
              "      <td>23:29:54</td>\n",
              "      <td>NaN</td>\n",
              "    </tr>\n",
              "    <tr>\n",
              "      <th>9594</th>\n",
              "      <td>641fae4c708e4c1bfdcb3740</td>\n",
              "      <td>26.70</td>\n",
              "      <td>56</td>\n",
              "      <td>teste</td>\n",
              "      <td>25/03/2023, 23:30:36</td>\n",
              "      <td>25/03/2023,</td>\n",
              "      <td>23:30:36</td>\n",
              "      <td>NaN</td>\n",
              "    </tr>\n",
              "    <tr>\n",
              "      <th>9595</th>\n",
              "      <td>641fae76708e4c1bfdcb3741</td>\n",
              "      <td>26.70</td>\n",
              "      <td>56</td>\n",
              "      <td>teste</td>\n",
              "      <td>25/03/2023, 23:31:18</td>\n",
              "      <td>25/03/2023,</td>\n",
              "      <td>23:31:18</td>\n",
              "      <td>NaN</td>\n",
              "    </tr>\n",
              "    <tr>\n",
              "      <th>9596</th>\n",
              "      <td>641faea0708e4c1bfdcb3742</td>\n",
              "      <td>26.70</td>\n",
              "      <td>56</td>\n",
              "      <td>teste</td>\n",
              "      <td>25/03/2023, 23:32:00</td>\n",
              "      <td>25/03/2023,</td>\n",
              "      <td>23:32:00</td>\n",
              "      <td>NaN</td>\n",
              "    </tr>\n",
              "    <tr>\n",
              "      <th>9597</th>\n",
              "      <td>641faeca708e4c1bfdcb3743</td>\n",
              "      <td>26.70</td>\n",
              "      <td>56</td>\n",
              "      <td>teste</td>\n",
              "      <td>25/03/2023, 23:32:42</td>\n",
              "      <td>25/03/2023,</td>\n",
              "      <td>23:32:42</td>\n",
              "      <td>NaN</td>\n",
              "    </tr>\n",
              "  </tbody>\n",
              "</table>\n",
              "</div>\n",
              "      <button class=\"colab-df-convert\" onclick=\"convertToInteractive('df-8c567bb4-dde3-4de9-89b4-f91b56f0235e')\"\n",
              "              title=\"Convert this dataframe to an interactive table.\"\n",
              "              style=\"display:none;\">\n",
              "        \n",
              "  <svg xmlns=\"http://www.w3.org/2000/svg\" height=\"24px\"viewBox=\"0 0 24 24\"\n",
              "       width=\"24px\">\n",
              "    <path d=\"M0 0h24v24H0V0z\" fill=\"none\"/>\n",
              "    <path d=\"M18.56 5.44l.94 2.06.94-2.06 2.06-.94-2.06-.94-.94-2.06-.94 2.06-2.06.94zm-11 1L8.5 8.5l.94-2.06 2.06-.94-2.06-.94L8.5 2.5l-.94 2.06-2.06.94zm10 10l.94 2.06.94-2.06 2.06-.94-2.06-.94-.94-2.06-.94 2.06-2.06.94z\"/><path d=\"M17.41 7.96l-1.37-1.37c-.4-.4-.92-.59-1.43-.59-.52 0-1.04.2-1.43.59L10.3 9.45l-7.72 7.72c-.78.78-.78 2.05 0 2.83L4 21.41c.39.39.9.59 1.41.59.51 0 1.02-.2 1.41-.59l7.78-7.78 2.81-2.81c.8-.78.8-2.07 0-2.86zM5.41 20L4 18.59l7.72-7.72 1.47 1.35L5.41 20z\"/>\n",
              "  </svg>\n",
              "      </button>\n",
              "      \n",
              "  <style>\n",
              "    .colab-df-container {\n",
              "      display:flex;\n",
              "      flex-wrap:wrap;\n",
              "      gap: 12px;\n",
              "    }\n",
              "\n",
              "    .colab-df-convert {\n",
              "      background-color: #E8F0FE;\n",
              "      border: none;\n",
              "      border-radius: 50%;\n",
              "      cursor: pointer;\n",
              "      display: none;\n",
              "      fill: #1967D2;\n",
              "      height: 32px;\n",
              "      padding: 0 0 0 0;\n",
              "      width: 32px;\n",
              "    }\n",
              "\n",
              "    .colab-df-convert:hover {\n",
              "      background-color: #E2EBFA;\n",
              "      box-shadow: 0px 1px 2px rgba(60, 64, 67, 0.3), 0px 1px 3px 1px rgba(60, 64, 67, 0.15);\n",
              "      fill: #174EA6;\n",
              "    }\n",
              "\n",
              "    [theme=dark] .colab-df-convert {\n",
              "      background-color: #3B4455;\n",
              "      fill: #D2E3FC;\n",
              "    }\n",
              "\n",
              "    [theme=dark] .colab-df-convert:hover {\n",
              "      background-color: #434B5C;\n",
              "      box-shadow: 0px 1px 3px 1px rgba(0, 0, 0, 0.15);\n",
              "      filter: drop-shadow(0px 1px 2px rgba(0, 0, 0, 0.3));\n",
              "      fill: #FFFFFF;\n",
              "    }\n",
              "  </style>\n",
              "\n",
              "      <script>\n",
              "        const buttonEl =\n",
              "          document.querySelector('#df-8c567bb4-dde3-4de9-89b4-f91b56f0235e button.colab-df-convert');\n",
              "        buttonEl.style.display =\n",
              "          google.colab.kernel.accessAllowed ? 'block' : 'none';\n",
              "\n",
              "        async function convertToInteractive(key) {\n",
              "          const element = document.querySelector('#df-8c567bb4-dde3-4de9-89b4-f91b56f0235e');\n",
              "          const dataTable =\n",
              "            await google.colab.kernel.invokeFunction('convertToInteractive',\n",
              "                                                     [key], {});\n",
              "          if (!dataTable) return;\n",
              "\n",
              "          const docLinkHtml = 'Like what you see? Visit the ' +\n",
              "            '<a target=\"_blank\" href=https://colab.research.google.com/notebooks/data_table.ipynb>data table notebook</a>'\n",
              "            + ' to learn more about interactive tables.';\n",
              "          element.innerHTML = '';\n",
              "          dataTable['output_type'] = 'display_data';\n",
              "          await google.colab.output.renderOutput(dataTable, element);\n",
              "          const docLink = document.createElement('div');\n",
              "          docLink.innerHTML = docLinkHtml;\n",
              "          element.appendChild(docLink);\n",
              "        }\n",
              "      </script>\n",
              "    </div>\n",
              "  </div>\n",
              "  "
            ]
          },
          "metadata": {},
          "execution_count": 10
        }
      ]
    },
    {
      "cell_type": "markdown",
      "source": [
        "Verificando dados nulos"
      ],
      "metadata": {
        "id": "4cLgMb6-bODj"
      }
    },
    {
      "cell_type": "code",
      "source": [
        "df_dados_api.isnull().sum()"
      ],
      "metadata": {
        "colab": {
          "base_uri": "https://localhost:8080/"
        },
        "id": "5NFFuzGlgIf-",
        "outputId": "31b7e82a-6438-473b-da1c-7c44ef3af662"
      },
      "execution_count": 11,
      "outputs": [
        {
          "output_type": "execute_result",
          "data": {
            "text/plain": [
              "_id                0\n",
              "temp_ar            3\n",
              "umid_ar            3\n",
              "type               1\n",
              "time.time_js       1\n",
              "time.data          1\n",
              "time.hora          1\n",
              "teste           9597\n",
              "dtype: int64"
            ]
          },
          "metadata": {},
          "execution_count": 11
        }
      ]
    },
    {
      "cell_type": "markdown",
      "source": [
        "Excluindo colunas desnecessárias"
      ],
      "metadata": {
        "id": "ZzGy6YB2bRhK"
      }
    },
    {
      "cell_type": "code",
      "source": [
        "del df_dados_api['teste']\n",
        "del df_dados_api['_id']\n",
        "del df_dados_api['type']\n",
        "del df_dados_api['time.time_js']\n",
        "df_dados_api.head()"
      ],
      "metadata": {
        "colab": {
          "base_uri": "https://localhost:8080/",
          "height": 206
        },
        "id": "RslKoU3xknHr",
        "outputId": "ec1445da-afd1-4b72-e309-f308ab4397a9"
      },
      "execution_count": 12,
      "outputs": [
        {
          "output_type": "execute_result",
          "data": {
            "text/plain": [
              "  temp_ar umid_ar   time.data time.hora\n",
              "0     NaN     NaN         NaN       NaN\n",
              "1       2       3  01/03/2023  20:11:53\n",
              "2      10      10  01/03/2023  20:12:30\n",
              "3     333     333  01/03/2023  23:24:21\n",
              "4      15      15  01/03/2023  21:26:19"
            ],
            "text/html": [
              "\n",
              "  <div id=\"df-74ee815b-275c-4427-9e22-00ac829716e5\">\n",
              "    <div class=\"colab-df-container\">\n",
              "      <div>\n",
              "<style scoped>\n",
              "    .dataframe tbody tr th:only-of-type {\n",
              "        vertical-align: middle;\n",
              "    }\n",
              "\n",
              "    .dataframe tbody tr th {\n",
              "        vertical-align: top;\n",
              "    }\n",
              "\n",
              "    .dataframe thead th {\n",
              "        text-align: right;\n",
              "    }\n",
              "</style>\n",
              "<table border=\"1\" class=\"dataframe\">\n",
              "  <thead>\n",
              "    <tr style=\"text-align: right;\">\n",
              "      <th></th>\n",
              "      <th>temp_ar</th>\n",
              "      <th>umid_ar</th>\n",
              "      <th>time.data</th>\n",
              "      <th>time.hora</th>\n",
              "    </tr>\n",
              "  </thead>\n",
              "  <tbody>\n",
              "    <tr>\n",
              "      <th>0</th>\n",
              "      <td>NaN</td>\n",
              "      <td>NaN</td>\n",
              "      <td>NaN</td>\n",
              "      <td>NaN</td>\n",
              "    </tr>\n",
              "    <tr>\n",
              "      <th>1</th>\n",
              "      <td>2</td>\n",
              "      <td>3</td>\n",
              "      <td>01/03/2023</td>\n",
              "      <td>20:11:53</td>\n",
              "    </tr>\n",
              "    <tr>\n",
              "      <th>2</th>\n",
              "      <td>10</td>\n",
              "      <td>10</td>\n",
              "      <td>01/03/2023</td>\n",
              "      <td>20:12:30</td>\n",
              "    </tr>\n",
              "    <tr>\n",
              "      <th>3</th>\n",
              "      <td>333</td>\n",
              "      <td>333</td>\n",
              "      <td>01/03/2023</td>\n",
              "      <td>23:24:21</td>\n",
              "    </tr>\n",
              "    <tr>\n",
              "      <th>4</th>\n",
              "      <td>15</td>\n",
              "      <td>15</td>\n",
              "      <td>01/03/2023</td>\n",
              "      <td>21:26:19</td>\n",
              "    </tr>\n",
              "  </tbody>\n",
              "</table>\n",
              "</div>\n",
              "      <button class=\"colab-df-convert\" onclick=\"convertToInteractive('df-74ee815b-275c-4427-9e22-00ac829716e5')\"\n",
              "              title=\"Convert this dataframe to an interactive table.\"\n",
              "              style=\"display:none;\">\n",
              "        \n",
              "  <svg xmlns=\"http://www.w3.org/2000/svg\" height=\"24px\"viewBox=\"0 0 24 24\"\n",
              "       width=\"24px\">\n",
              "    <path d=\"M0 0h24v24H0V0z\" fill=\"none\"/>\n",
              "    <path d=\"M18.56 5.44l.94 2.06.94-2.06 2.06-.94-2.06-.94-.94-2.06-.94 2.06-2.06.94zm-11 1L8.5 8.5l.94-2.06 2.06-.94-2.06-.94L8.5 2.5l-.94 2.06-2.06.94zm10 10l.94 2.06.94-2.06 2.06-.94-2.06-.94-.94-2.06-.94 2.06-2.06.94z\"/><path d=\"M17.41 7.96l-1.37-1.37c-.4-.4-.92-.59-1.43-.59-.52 0-1.04.2-1.43.59L10.3 9.45l-7.72 7.72c-.78.78-.78 2.05 0 2.83L4 21.41c.39.39.9.59 1.41.59.51 0 1.02-.2 1.41-.59l7.78-7.78 2.81-2.81c.8-.78.8-2.07 0-2.86zM5.41 20L4 18.59l7.72-7.72 1.47 1.35L5.41 20z\"/>\n",
              "  </svg>\n",
              "      </button>\n",
              "      \n",
              "  <style>\n",
              "    .colab-df-container {\n",
              "      display:flex;\n",
              "      flex-wrap:wrap;\n",
              "      gap: 12px;\n",
              "    }\n",
              "\n",
              "    .colab-df-convert {\n",
              "      background-color: #E8F0FE;\n",
              "      border: none;\n",
              "      border-radius: 50%;\n",
              "      cursor: pointer;\n",
              "      display: none;\n",
              "      fill: #1967D2;\n",
              "      height: 32px;\n",
              "      padding: 0 0 0 0;\n",
              "      width: 32px;\n",
              "    }\n",
              "\n",
              "    .colab-df-convert:hover {\n",
              "      background-color: #E2EBFA;\n",
              "      box-shadow: 0px 1px 2px rgba(60, 64, 67, 0.3), 0px 1px 3px 1px rgba(60, 64, 67, 0.15);\n",
              "      fill: #174EA6;\n",
              "    }\n",
              "\n",
              "    [theme=dark] .colab-df-convert {\n",
              "      background-color: #3B4455;\n",
              "      fill: #D2E3FC;\n",
              "    }\n",
              "\n",
              "    [theme=dark] .colab-df-convert:hover {\n",
              "      background-color: #434B5C;\n",
              "      box-shadow: 0px 1px 3px 1px rgba(0, 0, 0, 0.15);\n",
              "      filter: drop-shadow(0px 1px 2px rgba(0, 0, 0, 0.3));\n",
              "      fill: #FFFFFF;\n",
              "    }\n",
              "  </style>\n",
              "\n",
              "      <script>\n",
              "        const buttonEl =\n",
              "          document.querySelector('#df-74ee815b-275c-4427-9e22-00ac829716e5 button.colab-df-convert');\n",
              "        buttonEl.style.display =\n",
              "          google.colab.kernel.accessAllowed ? 'block' : 'none';\n",
              "\n",
              "        async function convertToInteractive(key) {\n",
              "          const element = document.querySelector('#df-74ee815b-275c-4427-9e22-00ac829716e5');\n",
              "          const dataTable =\n",
              "            await google.colab.kernel.invokeFunction('convertToInteractive',\n",
              "                                                     [key], {});\n",
              "          if (!dataTable) return;\n",
              "\n",
              "          const docLinkHtml = 'Like what you see? Visit the ' +\n",
              "            '<a target=\"_blank\" href=https://colab.research.google.com/notebooks/data_table.ipynb>data table notebook</a>'\n",
              "            + ' to learn more about interactive tables.';\n",
              "          element.innerHTML = '';\n",
              "          dataTable['output_type'] = 'display_data';\n",
              "          await google.colab.output.renderOutput(dataTable, element);\n",
              "          const docLink = document.createElement('div');\n",
              "          docLink.innerHTML = docLinkHtml;\n",
              "          element.appendChild(docLink);\n",
              "        }\n",
              "      </script>\n",
              "    </div>\n",
              "  </div>\n",
              "  "
            ]
          },
          "metadata": {},
          "execution_count": 12
        }
      ]
    },
    {
      "cell_type": "markdown",
      "source": [
        "Limpeza de dados nulos"
      ],
      "metadata": {
        "id": "2PZaoNnd5Obt"
      }
    },
    {
      "cell_type": "code",
      "source": [
        "df_dados_api.dropna(inplace = True)\n",
        "df_dados_api.isnull().sum()"
      ],
      "metadata": {
        "colab": {
          "base_uri": "https://localhost:8080/"
        },
        "id": "G_qzVTMv5UIO",
        "outputId": "46d564f4-83ba-4998-9e05-d29ab96d4757"
      },
      "execution_count": 13,
      "outputs": [
        {
          "output_type": "execute_result",
          "data": {
            "text/plain": [
              "temp_ar      0\n",
              "umid_ar      0\n",
              "time.data    0\n",
              "time.hora    0\n",
              "dtype: int64"
            ]
          },
          "metadata": {},
          "execution_count": 13
        }
      ]
    },
    {
      "cell_type": "markdown",
      "source": [
        "Removendo dados duplicados"
      ],
      "metadata": {
        "id": "VIBVenUYabb6"
      }
    },
    {
      "cell_type": "code",
      "source": [
        "df_dados_api.shape"
      ],
      "metadata": {
        "id": "7Z7-JN2_YnxD",
        "colab": {
          "base_uri": "https://localhost:8080/"
        },
        "outputId": "92fda8fa-c4fa-48a8-9eba-797965779d04"
      },
      "execution_count": 14,
      "outputs": [
        {
          "output_type": "execute_result",
          "data": {
            "text/plain": [
              "(9595, 4)"
            ]
          },
          "metadata": {},
          "execution_count": 14
        }
      ]
    },
    {
      "cell_type": "code",
      "source": [
        "df_dados_api.drop_duplicates(inplace=True, ignore_index=True)\n",
        "df_dados_api.shape"
      ],
      "metadata": {
        "id": "WjDSaERvYAEe",
        "colab": {
          "base_uri": "https://localhost:8080/"
        },
        "outputId": "c4b2847e-bd20-4cd9-ff8a-b6f74c28fd99"
      },
      "execution_count": 15,
      "outputs": [
        {
          "output_type": "execute_result",
          "data": {
            "text/plain": [
              "(9595, 4)"
            ]
          },
          "metadata": {},
          "execution_count": 15
        }
      ]
    },
    {
      "cell_type": "markdown",
      "source": [
        "# Comportamento das variáveis"
      ],
      "metadata": {
        "id": "8QsfOUUxG-aT"
      }
    },
    {
      "cell_type": "markdown",
      "source": [
        "Tipo dos dados e convertendo strings para float"
      ],
      "metadata": {
        "id": "2pV5ypmHJEX6"
      }
    },
    {
      "cell_type": "code",
      "source": [
        "df_dados_api.info()"
      ],
      "metadata": {
        "colab": {
          "base_uri": "https://localhost:8080/"
        },
        "id": "BVB4-yOeIspX",
        "outputId": "55f8405d-2f2f-4f66-9128-874691679104"
      },
      "execution_count": 16,
      "outputs": [
        {
          "output_type": "stream",
          "name": "stdout",
          "text": [
            "<class 'pandas.core.frame.DataFrame'>\n",
            "RangeIndex: 9595 entries, 0 to 9594\n",
            "Data columns (total 4 columns):\n",
            " #   Column     Non-Null Count  Dtype \n",
            "---  ------     --------------  ----- \n",
            " 0   temp_ar    9595 non-null   object\n",
            " 1   umid_ar    9595 non-null   object\n",
            " 2   time.data  9595 non-null   object\n",
            " 3   time.hora  9595 non-null   object\n",
            "dtypes: object(4)\n",
            "memory usage: 300.0+ KB\n"
          ]
        }
      ]
    },
    {
      "cell_type": "code",
      "source": [
        "df_dados_api = df_dados_api.astype({'temp_ar':'float', 'umid_ar':'float'})\n",
        "df_dados_api.info()"
      ],
      "metadata": {
        "colab": {
          "base_uri": "https://localhost:8080/"
        },
        "id": "VpiQlMD4JJ9t",
        "outputId": "c51ab659-d805-4a35-a1ca-a03a9c95ba01"
      },
      "execution_count": 17,
      "outputs": [
        {
          "output_type": "stream",
          "name": "stdout",
          "text": [
            "<class 'pandas.core.frame.DataFrame'>\n",
            "RangeIndex: 9595 entries, 0 to 9594\n",
            "Data columns (total 4 columns):\n",
            " #   Column     Non-Null Count  Dtype  \n",
            "---  ------     --------------  -----  \n",
            " 0   temp_ar    9595 non-null   float64\n",
            " 1   umid_ar    9595 non-null   float64\n",
            " 2   time.data  9595 non-null   object \n",
            " 3   time.hora  9595 non-null   object \n",
            "dtypes: float64(2), object(2)\n",
            "memory usage: 300.0+ KB\n"
          ]
        }
      ]
    },
    {
      "cell_type": "markdown",
      "source": [
        "Análise descritiva dos dados"
      ],
      "metadata": {
        "id": "H6bG_QUsHsPS"
      }
    },
    {
      "cell_type": "code",
      "source": [
        "df_dados_api.describe()"
      ],
      "metadata": {
        "colab": {
          "base_uri": "https://localhost:8080/",
          "height": 300
        },
        "id": "zgsXyR0pHvQI",
        "outputId": "a0802fb8-6916-4cf6-979c-b87265a2aacd"
      },
      "execution_count": 18,
      "outputs": [
        {
          "output_type": "execute_result",
          "data": {
            "text/plain": [
              "       temp_ar  umid_ar\n",
              "count  9595.00  9595.00\n",
              "mean     26.72    53.89\n",
              "std       6.29     7.05\n",
              "min       2.00     3.00\n",
              "25%      26.20    51.00\n",
              "50%      26.50    54.00\n",
              "75%      26.80    57.00\n",
              "max     333.00   333.00"
            ],
            "text/html": [
              "\n",
              "  <div id=\"df-d3cf4677-07b1-4b69-a390-7608e67172ea\">\n",
              "    <div class=\"colab-df-container\">\n",
              "      <div>\n",
              "<style scoped>\n",
              "    .dataframe tbody tr th:only-of-type {\n",
              "        vertical-align: middle;\n",
              "    }\n",
              "\n",
              "    .dataframe tbody tr th {\n",
              "        vertical-align: top;\n",
              "    }\n",
              "\n",
              "    .dataframe thead th {\n",
              "        text-align: right;\n",
              "    }\n",
              "</style>\n",
              "<table border=\"1\" class=\"dataframe\">\n",
              "  <thead>\n",
              "    <tr style=\"text-align: right;\">\n",
              "      <th></th>\n",
              "      <th>temp_ar</th>\n",
              "      <th>umid_ar</th>\n",
              "    </tr>\n",
              "  </thead>\n",
              "  <tbody>\n",
              "    <tr>\n",
              "      <th>count</th>\n",
              "      <td>9595.00</td>\n",
              "      <td>9595.00</td>\n",
              "    </tr>\n",
              "    <tr>\n",
              "      <th>mean</th>\n",
              "      <td>26.72</td>\n",
              "      <td>53.89</td>\n",
              "    </tr>\n",
              "    <tr>\n",
              "      <th>std</th>\n",
              "      <td>6.29</td>\n",
              "      <td>7.05</td>\n",
              "    </tr>\n",
              "    <tr>\n",
              "      <th>min</th>\n",
              "      <td>2.00</td>\n",
              "      <td>3.00</td>\n",
              "    </tr>\n",
              "    <tr>\n",
              "      <th>25%</th>\n",
              "      <td>26.20</td>\n",
              "      <td>51.00</td>\n",
              "    </tr>\n",
              "    <tr>\n",
              "      <th>50%</th>\n",
              "      <td>26.50</td>\n",
              "      <td>54.00</td>\n",
              "    </tr>\n",
              "    <tr>\n",
              "      <th>75%</th>\n",
              "      <td>26.80</td>\n",
              "      <td>57.00</td>\n",
              "    </tr>\n",
              "    <tr>\n",
              "      <th>max</th>\n",
              "      <td>333.00</td>\n",
              "      <td>333.00</td>\n",
              "    </tr>\n",
              "  </tbody>\n",
              "</table>\n",
              "</div>\n",
              "      <button class=\"colab-df-convert\" onclick=\"convertToInteractive('df-d3cf4677-07b1-4b69-a390-7608e67172ea')\"\n",
              "              title=\"Convert this dataframe to an interactive table.\"\n",
              "              style=\"display:none;\">\n",
              "        \n",
              "  <svg xmlns=\"http://www.w3.org/2000/svg\" height=\"24px\"viewBox=\"0 0 24 24\"\n",
              "       width=\"24px\">\n",
              "    <path d=\"M0 0h24v24H0V0z\" fill=\"none\"/>\n",
              "    <path d=\"M18.56 5.44l.94 2.06.94-2.06 2.06-.94-2.06-.94-.94-2.06-.94 2.06-2.06.94zm-11 1L8.5 8.5l.94-2.06 2.06-.94-2.06-.94L8.5 2.5l-.94 2.06-2.06.94zm10 10l.94 2.06.94-2.06 2.06-.94-2.06-.94-.94-2.06-.94 2.06-2.06.94z\"/><path d=\"M17.41 7.96l-1.37-1.37c-.4-.4-.92-.59-1.43-.59-.52 0-1.04.2-1.43.59L10.3 9.45l-7.72 7.72c-.78.78-.78 2.05 0 2.83L4 21.41c.39.39.9.59 1.41.59.51 0 1.02-.2 1.41-.59l7.78-7.78 2.81-2.81c.8-.78.8-2.07 0-2.86zM5.41 20L4 18.59l7.72-7.72 1.47 1.35L5.41 20z\"/>\n",
              "  </svg>\n",
              "      </button>\n",
              "      \n",
              "  <style>\n",
              "    .colab-df-container {\n",
              "      display:flex;\n",
              "      flex-wrap:wrap;\n",
              "      gap: 12px;\n",
              "    }\n",
              "\n",
              "    .colab-df-convert {\n",
              "      background-color: #E8F0FE;\n",
              "      border: none;\n",
              "      border-radius: 50%;\n",
              "      cursor: pointer;\n",
              "      display: none;\n",
              "      fill: #1967D2;\n",
              "      height: 32px;\n",
              "      padding: 0 0 0 0;\n",
              "      width: 32px;\n",
              "    }\n",
              "\n",
              "    .colab-df-convert:hover {\n",
              "      background-color: #E2EBFA;\n",
              "      box-shadow: 0px 1px 2px rgba(60, 64, 67, 0.3), 0px 1px 3px 1px rgba(60, 64, 67, 0.15);\n",
              "      fill: #174EA6;\n",
              "    }\n",
              "\n",
              "    [theme=dark] .colab-df-convert {\n",
              "      background-color: #3B4455;\n",
              "      fill: #D2E3FC;\n",
              "    }\n",
              "\n",
              "    [theme=dark] .colab-df-convert:hover {\n",
              "      background-color: #434B5C;\n",
              "      box-shadow: 0px 1px 3px 1px rgba(0, 0, 0, 0.15);\n",
              "      filter: drop-shadow(0px 1px 2px rgba(0, 0, 0, 0.3));\n",
              "      fill: #FFFFFF;\n",
              "    }\n",
              "  </style>\n",
              "\n",
              "      <script>\n",
              "        const buttonEl =\n",
              "          document.querySelector('#df-d3cf4677-07b1-4b69-a390-7608e67172ea button.colab-df-convert');\n",
              "        buttonEl.style.display =\n",
              "          google.colab.kernel.accessAllowed ? 'block' : 'none';\n",
              "\n",
              "        async function convertToInteractive(key) {\n",
              "          const element = document.querySelector('#df-d3cf4677-07b1-4b69-a390-7608e67172ea');\n",
              "          const dataTable =\n",
              "            await google.colab.kernel.invokeFunction('convertToInteractive',\n",
              "                                                     [key], {});\n",
              "          if (!dataTable) return;\n",
              "\n",
              "          const docLinkHtml = 'Like what you see? Visit the ' +\n",
              "            '<a target=\"_blank\" href=https://colab.research.google.com/notebooks/data_table.ipynb>data table notebook</a>'\n",
              "            + ' to learn more about interactive tables.';\n",
              "          element.innerHTML = '';\n",
              "          dataTable['output_type'] = 'display_data';\n",
              "          await google.colab.output.renderOutput(dataTable, element);\n",
              "          const docLink = document.createElement('div');\n",
              "          docLink.innerHTML = docLinkHtml;\n",
              "          element.appendChild(docLink);\n",
              "        }\n",
              "      </script>\n",
              "    </div>\n",
              "  </div>\n",
              "  "
            ]
          },
          "metadata": {},
          "execution_count": 18
        }
      ]
    },
    {
      "cell_type": "markdown",
      "source": [
        "Opa, parece haver outliers."
      ],
      "metadata": {
        "id": "m5glNl78JkMr"
      }
    },
    {
      "cell_type": "markdown",
      "source": [
        "Verificando outliers"
      ],
      "metadata": {
        "id": "P4HZpI_FIMXm"
      }
    },
    {
      "cell_type": "code",
      "source": [
        "%%time\n",
        "fig, axes = plt.subplots(1, 2, figsize = (20,5))\n",
        "fig.subplots_adjust(hspace=0.5, wspace=0.125)\n",
        "fig.suptitle('Análise de outliers')\n",
        "\n",
        "#Temperatura - Boxplot\n",
        "sns.boxplot(ax=axes[0],x=df_dados_api['temp_ar'])\n",
        "axes[0].tick_params(axis='x', rotation=90)\n",
        "axes[0].set(xlabel='Temperatura\\n Média: ' + str(df_dados_api['temp_ar'].mean()) + '; Mediana: ' + str(df_dados_api['temp_ar'].median()))\n",
        "\n",
        "#Umidade - Boxplot\n",
        "sns.boxplot(ax=axes[1],x=df_dados_api['umid_ar'])\n",
        "axes[1].tick_params(axis='x', rotation=90)\n",
        "axes[1].set(xlabel='Umidade\\n Média: ' + str(df_dados_api['umid_ar'].mean()) + '; Mediana: ' + str(df_dados_api['umid_ar'].median()))\n",
        "\n",
        "plt.show();"
      ],
      "metadata": {
        "colab": {
          "base_uri": "https://localhost:8080/",
          "height": 425
        },
        "id": "jVcSQVcNHBaW",
        "outputId": "30ad675f-1879-42ca-b556-59ef04af799c"
      },
      "execution_count": 19,
      "outputs": [
        {
          "output_type": "display_data",
          "data": {
            "text/plain": [
              "<Figure size 1440x360 with 2 Axes>"
            ],
            "image/png": "[encoded data removed]"
          },
          "metadata": {
            "needs_background": "light"
          }
        },
        {
          "output_type": "stream",
          "name": "stdout",
          "text": [
            "CPU times: user 429 ms, sys: 38.3 ms, total: 467 ms\n",
            "Wall time: 706 ms\n"
          ]
        }
      ]
    },
    {
      "cell_type": "markdown",
      "source": [
        "Excluindo outliers"
      ],
      "metadata": {
        "id": "_9KR2yYcMkax"
      }
    },
    {
      "cell_type": "code",
      "source": [
        "def limites_outliers(coluna):\n",
        "  Q1 = coluna.quantile(.25)\n",
        "  Q3 = coluna.quantile(.75)\n",
        "  IIQ = Q3 - Q1\n",
        "  limite_inferior = Q1 - 1.5 * IIQ\n",
        "  limite_superior = Q3 + 1.5 * IIQ\n",
        "  return limite_inferior, limite_superior"
      ],
      "metadata": {
        "id": "f6f7rkE5Mmk5"
      },
      "execution_count": 20,
      "outputs": []
    },
    {
      "cell_type": "code",
      "source": [
        "limite_inferior_temp_ar, limite_superior_temp_ar = limites_outliers(df_dados_api['temp_ar'])\n",
        "limite_inferior_umid_ar, limite_superior_umid_ar = limites_outliers(df_dados_api['umid_ar'])"
      ],
      "metadata": {
        "id": "JYa7dsxmNmaJ"
      },
      "execution_count": 21,
      "outputs": []
    },
    {
      "cell_type": "code",
      "source": [
        "selecao_temp_ar = (df_dados_api['temp_ar'] >= limite_inferior_temp_ar) & (df_dados_api['temp_ar'] <= limite_superior_temp_ar)\n",
        "df_dados_api = df_dados_api[selecao_temp_ar]"
      ],
      "metadata": {
        "id": "4ovM_KZZOBYV"
      },
      "execution_count": 22,
      "outputs": []
    },
    {
      "cell_type": "code",
      "source": [
        "selecao_umid_ar = (df_dados_api['umid_ar'] >= limite_inferior_umid_ar) & (df_dados_api['umid_ar'] <= limite_superior_umid_ar)\n",
        "df_dados_api = df_dados_api[selecao_umid_ar]"
      ],
      "metadata": {
        "id": "EqLXRtW9OeDb"
      },
      "execution_count": 23,
      "outputs": []
    },
    {
      "cell_type": "markdown",
      "source": [
        "Revendo boxplots"
      ],
      "metadata": {
        "id": "_ohSs75oOspl"
      }
    },
    {
      "cell_type": "code",
      "source": [
        "%%time\n",
        "fig, axes = plt.subplots(1, 2, figsize = (20,5))\n",
        "fig.subplots_adjust(hspace=0.5, wspace=0.125)\n",
        "fig.suptitle('Análise de outliers')\n",
        "\n",
        "#Temperatura - Boxplot\n",
        "sns.boxplot(ax=axes[0],x=df_dados_api['temp_ar'])\n",
        "axes[0].tick_params(axis='x', rotation=90)\n",
        "axes[0].set(xlabel='Temperatura\\n Média: ' + str(df_dados_api['temp_ar'].mean()) + '; Mediana: ' + str(df_dados_api['temp_ar'].median()))\n",
        "\n",
        "#Umidade - Boxplot\n",
        "sns.boxplot(ax=axes[1],x=df_dados_api['umid_ar'])\n",
        "axes[1].tick_params(axis='x', rotation=90)\n",
        "axes[1].set(xlabel='Umidade\\n Média: ' + str(df_dados_api['umid_ar'].mean()) + '; Mediana: ' + str(df_dados_api['umid_ar'].median()))\n",
        "\n",
        "plt.show();"
      ],
      "metadata": {
        "colab": {
          "base_uri": "https://localhost:8080/",
          "height": 429
        },
        "id": "wZi__HiOOu5k",
        "outputId": "53c7ceb3-9796-4180-9d98-a3904d9e025a"
      },
      "execution_count": 24,
      "outputs": [
        {
          "output_type": "display_data",
          "data": {
            "text/plain": [
              "<Figure size 1440x360 with 2 Axes>"
            ],
            "image/png": "[encoded data removed]"
          },
          "metadata": {
            "needs_background": "light"
          }
        },
        {
          "output_type": "stream",
          "name": "stdout",
          "text": [
            "CPU times: user 384 ms, sys: 39.2 ms, total: 423 ms\n",
            "Wall time: 628 ms\n"
          ]
        }
      ]
    },
    {
      "cell_type": "markdown",
      "source": [
        "Agora as curvas de densidade das variáveis"
      ],
      "metadata": {
        "id": "QTsVK9BpPRyl"
      }
    },
    {
      "cell_type": "code",
      "source": [
        "%%time\n",
        "fig, axes = plt.subplots(1, 2, figsize = (20,5))\n",
        "fig.subplots_adjust(hspace=0.5, wspace=0.125)\n",
        "fig.suptitle('Distribuição das variáveis temp_ar e umid_ar')\n",
        "\n",
        "#Temperatura - distplot\n",
        "sns.distplot(ax=axes[0],x=df_dados_api['temp_ar'])\n",
        "axes[0].tick_params(axis='x', rotation=90)\n",
        "axes[0].set(xlabel='Temperatura\\n Média: ' + str(df_dados_api['temp_ar'].mean()) + '; Mediana: ' + str(df_dados_api['temp_ar'].median()))\n",
        "\n",
        "#Umidade - distplot\n",
        "sns.distplot(ax=axes[1],x=df_dados_api['umid_ar'])\n",
        "axes[1].tick_params(axis='x', rotation=90)\n",
        "axes[1].set(xlabel='Umidade\\n Média: ' + str(df_dados_api['umid_ar'].mean()) + '; Mediana: ' + str(df_dados_api['umid_ar'].median()))\n",
        "\n",
        "plt.show();"
      ],
      "metadata": {
        "colab": {
          "base_uri": "https://localhost:8080/",
          "height": 429
        },
        "id": "xIQ7WFxePZjK",
        "outputId": "5ddff66c-2f60-4a41-8454-68d68b554aee"
      },
      "execution_count": 25,
      "outputs": [
        {
          "output_type": "display_data",
          "data": {
            "text/plain": [
              "<Figure size 1440x360 with 2 Axes>"
            ],
            "image/png": "[encoded data removed]"
          },
          "metadata": {
            "needs_background": "light"
          }
        },
        {
          "output_type": "stream",
          "name": "stdout",
          "text": [
            "CPU times: user 920 ms, sys: 97.6 ms, total: 1.02 s\n",
            "Wall time: 1.26 s\n"
          ]
        }
      ]
    },
    {
      "cell_type": "markdown",
      "source": [
        "Testando se as distruições são normais"
      ],
      "metadata": {
        "id": "sUQt5qOnP_2o"
      }
    },
    {
      "cell_type": "code",
      "source": [
        "%%time\n",
        "stat_temp_ar,p_temp_ar = stats.shapiro(df_dados_api['temp_ar'].to_numpy())\n",
        "stat_umid_ar,p_umid_ar = stats.shapiro(df_dados_api['umid_ar'].to_numpy())"
      ],
      "metadata": {
        "colab": {
          "base_uri": "https://localhost:8080/"
        },
        "id": "_CWPsAMtQDko",
        "outputId": "db787fe3-bd39-468a-88e4-61af92477a46"
      },
      "execution_count": 26,
      "outputs": [
        {
          "output_type": "stream",
          "name": "stdout",
          "text": [
            "CPU times: user 1.9 ms, sys: 0 ns, total: 1.9 ms\n",
            "Wall time: 1.92 ms\n"
          ]
        }
      ]
    },
    {
      "cell_type": "code",
      "source": [
        "print(f'p-value temp_ar: {p_temp_ar:.5f}')\n",
        "print(f'p-value umid_ar: {p_umid_ar:.5f}')"
      ],
      "metadata": {
        "colab": {
          "base_uri": "https://localhost:8080/"
        },
        "id": "TPZbBxhPQg9e",
        "outputId": "686ddc6e-9c8b-4047-86d0-cf2f99cdadb3"
      },
      "execution_count": 27,
      "outputs": [
        {
          "output_type": "stream",
          "name": "stdout",
          "text": [
            "p-value temp_ar: 0.00000\n",
            "p-value umid_ar: 0.00000\n"
          ]
        }
      ]
    },
    {
      "cell_type": "markdown",
      "source": [
        "Com os p_values < 0.5, logo curvas não normais."
      ],
      "metadata": {
        "id": "xAVE96OERLDy"
      }
    },
    {
      "cell_type": "markdown",
      "source": [
        "# Tratando data"
      ],
      "metadata": {
        "id": "JYgFs9YgliQl"
      }
    },
    {
      "cell_type": "markdown",
      "source": [
        "Copiando dataframe para uma nova variável"
      ],
      "metadata": {
        "id": "uP7WEd5SbVG6"
      }
    },
    {
      "cell_type": "code",
      "source": [
        "dados_projeto = df_dados_api.copy()\n",
        "dados_projeto"
      ],
      "metadata": {
        "id": "K3QRG2Hslj5P",
        "colab": {
          "base_uri": "https://localhost:8080/",
          "height": 424
        },
        "outputId": "1df84e56-63a2-4e62-a148-0d4df1dbdcd9"
      },
      "execution_count": 28,
      "outputs": [
        {
          "output_type": "execute_result",
          "data": {
            "text/plain": [
              "      temp_ar  umid_ar    time.data time.hora\n",
              "31      26.60    61.00  02/03/2023,  08:02:36\n",
              "32      26.70    61.00  02/03/2023,  08:07:40\n",
              "33      26.90    55.00  02/03/2023,  08:17:50\n",
              "34      27.10    54.00  02/03/2023,  08:22:52\n",
              "35      27.30    55.00  02/03/2023,  08:27:55\n",
              "...       ...      ...          ...       ...\n",
              "9590    26.70    55.00  25/03/2023,  23:29:54\n",
              "9591    26.70    56.00  25/03/2023,  23:30:36\n",
              "9592    26.70    56.00  25/03/2023,  23:31:18\n",
              "9593    26.70    56.00  25/03/2023,  23:32:00\n",
              "9594    26.70    56.00  25/03/2023,  23:32:42\n",
              "\n",
              "[9146 rows x 4 columns]"
            ],
            "text/html": [
              "\n",
              "  <div id=\"df-db611b27-d4a3-4dd5-99b3-0bff0ba015c5\">\n",
              "    <div class=\"colab-df-container\">\n",
              "      <div>\n",
              "<style scoped>\n",
              "    .dataframe tbody tr th:only-of-type {\n",
              "        vertical-align: middle;\n",
              "    }\n",
              "\n",
              "    .dataframe tbody tr th {\n",
              "        vertical-align: top;\n",
              "    }\n",
              "\n",
              "    .dataframe thead th {\n",
              "        text-align: right;\n",
              "    }\n",
              "</style>\n",
              "<table border=\"1\" class=\"dataframe\">\n",
              "  <thead>\n",
              "    <tr style=\"text-align: right;\">\n",
              "      <th></th>\n",
              "      <th>temp_ar</th>\n",
              "      <th>umid_ar</th>\n",
              "      <th>time.data</th>\n",
              "      <th>time.hora</th>\n",
              "    </tr>\n",
              "  </thead>\n",
              "  <tbody>\n",
              "    <tr>\n",
              "      <th>31</th>\n",
              "      <td>26.60</td>\n",
              "      <td>61.00</td>\n",
              "      <td>02/03/2023,</td>\n",
              "      <td>08:02:36</td>\n",
              "    </tr>\n",
              "    <tr>\n",
              "      <th>32</th>\n",
              "      <td>26.70</td>\n",
              "      <td>61.00</td>\n",
              "      <td>02/03/2023,</td>\n",
              "      <td>08:07:40</td>\n",
              "    </tr>\n",
              "    <tr>\n",
              "      <th>33</th>\n",
              "      <td>26.90</td>\n",
              "      <td>55.00</td>\n",
              "      <td>02/03/2023,</td>\n",
              "      <td>08:17:50</td>\n",
              "    </tr>\n",
              "    <tr>\n",
              "      <th>34</th>\n",
              "      <td>27.10</td>\n",
              "      <td>54.00</td>\n",
              "      <td>02/03/2023,</td>\n",
              "      <td>08:22:52</td>\n",
              "    </tr>\n",
              "    <tr>\n",
              "      <th>35</th>\n",
              "      <td>27.30</td>\n",
              "      <td>55.00</td>\n",
              "      <td>02/03/2023,</td>\n",
              "      <td>08:27:55</td>\n",
              "    </tr>\n",
              "    <tr>\n",
              "      <th>...</th>\n",
              "      <td>...</td>\n",
              "      <td>...</td>\n",
              "      <td>...</td>\n",
              "      <td>...</td>\n",
              "    </tr>\n",
              "    <tr>\n",
              "      <th>9590</th>\n",
              "      <td>26.70</td>\n",
              "      <td>55.00</td>\n",
              "      <td>25/03/2023,</td>\n",
              "      <td>23:29:54</td>\n",
              "    </tr>\n",
              "    <tr>\n",
              "      <th>9591</th>\n",
              "      <td>26.70</td>\n",
              "      <td>56.00</td>\n",
              "      <td>25/03/2023,</td>\n",
              "      <td>23:30:36</td>\n",
              "    </tr>\n",
              "    <tr>\n",
              "      <th>9592</th>\n",
              "      <td>26.70</td>\n",
              "      <td>56.00</td>\n",
              "      <td>25/03/2023,</td>\n",
              "      <td>23:31:18</td>\n",
              "    </tr>\n",
              "    <tr>\n",
              "      <th>9593</th>\n",
              "      <td>26.70</td>\n",
              "      <td>56.00</td>\n",
              "      <td>25/03/2023,</td>\n",
              "      <td>23:32:00</td>\n",
              "    </tr>\n",
              "    <tr>\n",
              "      <th>9594</th>\n",
              "      <td>26.70</td>\n",
              "      <td>56.00</td>\n",
              "      <td>25/03/2023,</td>\n",
              "      <td>23:32:42</td>\n",
              "    </tr>\n",
              "  </tbody>\n",
              "</table>\n",
              "<p>9146 rows × 4 columns</p>\n",
              "</div>\n",
              "      <button class=\"colab-df-convert\" onclick=\"convertToInteractive('df-db611b27-d4a3-4dd5-99b3-0bff0ba015c5')\"\n",
              "              title=\"Convert this dataframe to an interactive table.\"\n",
              "              style=\"display:none;\">\n",
              "        \n",
              "  <svg xmlns=\"http://www.w3.org/2000/svg\" height=\"24px\"viewBox=\"0 0 24 24\"\n",
              "       width=\"24px\">\n",
              "    <path d=\"M0 0h24v24H0V0z\" fill=\"none\"/>\n",
              "    <path d=\"M18.56 5.44l.94 2.06.94-2.06 2.06-.94-2.06-.94-.94-2.06-.94 2.06-2.06.94zm-11 1L8.5 8.5l.94-2.06 2.06-.94-2.06-.94L8.5 2.5l-.94 2.06-2.06.94zm10 10l.94 2.06.94-2.06 2.06-.94-2.06-.94-.94-2.06-.94 2.06-2.06.94z\"/><path d=\"M17.41 7.96l-1.37-1.37c-.4-.4-.92-.59-1.43-.59-.52 0-1.04.2-1.43.59L10.3 9.45l-7.72 7.72c-.78.78-.78 2.05 0 2.83L4 21.41c.39.39.9.59 1.41.59.51 0 1.02-.2 1.41-.59l7.78-7.78 2.81-2.81c.8-.78.8-2.07 0-2.86zM5.41 20L4 18.59l7.72-7.72 1.47 1.35L5.41 20z\"/>\n",
              "  </svg>\n",
              "      </button>\n",
              "      \n",
              "  <style>\n",
              "    .colab-df-container {\n",
              "      display:flex;\n",
              "      flex-wrap:wrap;\n",
              "      gap: 12px;\n",
              "    }\n",
              "\n",
              "    .colab-df-convert {\n",
              "      background-color: #E8F0FE;\n",
              "      border: none;\n",
              "      border-radius: 50%;\n",
              "      cursor: pointer;\n",
              "      display: none;\n",
              "      fill: #1967D2;\n",
              "      height: 32px;\n",
              "      padding: 0 0 0 0;\n",
              "      width: 32px;\n",
              "    }\n",
              "\n",
              "    .colab-df-convert:hover {\n",
              "      background-color: #E2EBFA;\n",
              "      box-shadow: 0px 1px 2px rgba(60, 64, 67, 0.3), 0px 1px 3px 1px rgba(60, 64, 67, 0.15);\n",
              "      fill: #174EA6;\n",
              "    }\n",
              "\n",
              "    [theme=dark] .colab-df-convert {\n",
              "      background-color: #3B4455;\n",
              "      fill: #D2E3FC;\n",
              "    }\n",
              "\n",
              "    [theme=dark] .colab-df-convert:hover {\n",
              "      background-color: #434B5C;\n",
              "      box-shadow: 0px 1px 3px 1px rgba(0, 0, 0, 0.15);\n",
              "      filter: drop-shadow(0px 1px 2px rgba(0, 0, 0, 0.3));\n",
              "      fill: #FFFFFF;\n",
              "    }\n",
              "  </style>\n",
              "\n",
              "      <script>\n",
              "        const buttonEl =\n",
              "          document.querySelector('#df-db611b27-d4a3-4dd5-99b3-0bff0ba015c5 button.colab-df-convert');\n",
              "        buttonEl.style.display =\n",
              "          google.colab.kernel.accessAllowed ? 'block' : 'none';\n",
              "\n",
              "        async function convertToInteractive(key) {\n",
              "          const element = document.querySelector('#df-db611b27-d4a3-4dd5-99b3-0bff0ba015c5');\n",
              "          const dataTable =\n",
              "            await google.colab.kernel.invokeFunction('convertToInteractive',\n",
              "                                                     [key], {});\n",
              "          if (!dataTable) return;\n",
              "\n",
              "          const docLinkHtml = 'Like what you see? Visit the ' +\n",
              "            '<a target=\"_blank\" href=https://colab.research.google.com/notebooks/data_table.ipynb>data table notebook</a>'\n",
              "            + ' to learn more about interactive tables.';\n",
              "          element.innerHTML = '';\n",
              "          dataTable['output_type'] = 'display_data';\n",
              "          await google.colab.output.renderOutput(dataTable, element);\n",
              "          const docLink = document.createElement('div');\n",
              "          docLink.innerHTML = docLinkHtml;\n",
              "          element.appendChild(docLink);\n",
              "        }\n",
              "      </script>\n",
              "    </div>\n",
              "  </div>\n",
              "  "
            ]
          },
          "metadata": {},
          "execution_count": 28
        }
      ]
    },
    {
      "cell_type": "markdown",
      "source": [
        "Removendo virgula de time.data e concatenando com time.hora para gerar data no formato datetime"
      ],
      "metadata": {
        "id": "UUkKH3D0bapg"
      }
    },
    {
      "cell_type": "code",
      "source": [
        "def converte_data_portugues_para_ingles(df):\n",
        "  return datetime.strptime(df['time.data'], \"%d/%m/%Y\").strftime(\"%Y-%m-%d\");"
      ],
      "metadata": {
        "id": "HRgKTHgXrx0G"
      },
      "execution_count": 29,
      "outputs": []
    },
    {
      "cell_type": "code",
      "source": [
        "dados_projeto['time.data'] = dados_projeto['time.data'].str.replace(',','')\n",
        "dados_projeto['time.data'] = dados_projeto.apply(lambda x: converte_data_portugues_para_ingles(x), axis=1)\n",
        "dados_projeto['data'] = dados_projeto['time.data'] + ' ' + dados_projeto['time.hora']\n",
        "dados_projeto['data'] = dados_projeto['data'].astype('datetime64[ns]')\n",
        "dados_projeto.head()"
      ],
      "metadata": {
        "colab": {
          "base_uri": "https://localhost:8080/",
          "height": 206
        },
        "id": "LvQYDRfjmFhY",
        "outputId": "265c4ebd-4f27-4507-8a41-8b536cdedbc7"
      },
      "execution_count": 30,
      "outputs": [
        {
          "output_type": "execute_result",
          "data": {
            "text/plain": [
              "    temp_ar  umid_ar   time.data time.hora                data\n",
              "31    26.60    61.00  2023-03-02  08:02:36 2023-03-02 08:02:36\n",
              "32    26.70    61.00  2023-03-02  08:07:40 2023-03-02 08:07:40\n",
              "33    26.90    55.00  2023-03-02  08:17:50 2023-03-02 08:17:50\n",
              "34    27.10    54.00  2023-03-02  08:22:52 2023-03-02 08:22:52\n",
              "35    27.30    55.00  2023-03-02  08:27:55 2023-03-02 08:27:55"
            ],
            "text/html": [
              "\n",
              "  <div id=\"df-950e6303-a7f0-41d3-a869-add8f2fd3ddc\">\n",
              "    <div class=\"colab-df-container\">\n",
              "      <div>\n",
              "<style scoped>\n",
              "    .dataframe tbody tr th:only-of-type {\n",
              "        vertical-align: middle;\n",
              "    }\n",
              "\n",
              "    .dataframe tbody tr th {\n",
              "        vertical-align: top;\n",
              "    }\n",
              "\n",
              "    .dataframe thead th {\n",
              "        text-align: right;\n",
              "    }\n",
              "</style>\n",
              "<table border=\"1\" class=\"dataframe\">\n",
              "  <thead>\n",
              "    <tr style=\"text-align: right;\">\n",
              "      <th></th>\n",
              "      <th>temp_ar</th>\n",
              "      <th>umid_ar</th>\n",
              "      <th>time.data</th>\n",
              "      <th>time.hora</th>\n",
              "      <th>data</th>\n",
              "    </tr>\n",
              "  </thead>\n",
              "  <tbody>\n",
              "    <tr>\n",
              "      <th>31</th>\n",
              "      <td>26.60</td>\n",
              "      <td>61.00</td>\n",
              "      <td>2023-03-02</td>\n",
              "      <td>08:02:36</td>\n",
              "      <td>2023-03-02 08:02:36</td>\n",
              "    </tr>\n",
              "    <tr>\n",
              "      <th>32</th>\n",
              "      <td>26.70</td>\n",
              "      <td>61.00</td>\n",
              "      <td>2023-03-02</td>\n",
              "      <td>08:07:40</td>\n",
              "      <td>2023-03-02 08:07:40</td>\n",
              "    </tr>\n",
              "    <tr>\n",
              "      <th>33</th>\n",
              "      <td>26.90</td>\n",
              "      <td>55.00</td>\n",
              "      <td>2023-03-02</td>\n",
              "      <td>08:17:50</td>\n",
              "      <td>2023-03-02 08:17:50</td>\n",
              "    </tr>\n",
              "    <tr>\n",
              "      <th>34</th>\n",
              "      <td>27.10</td>\n",
              "      <td>54.00</td>\n",
              "      <td>2023-03-02</td>\n",
              "      <td>08:22:52</td>\n",
              "      <td>2023-03-02 08:22:52</td>\n",
              "    </tr>\n",
              "    <tr>\n",
              "      <th>35</th>\n",
              "      <td>27.30</td>\n",
              "      <td>55.00</td>\n",
              "      <td>2023-03-02</td>\n",
              "      <td>08:27:55</td>\n",
              "      <td>2023-03-02 08:27:55</td>\n",
              "    </tr>\n",
              "  </tbody>\n",
              "</table>\n",
              "</div>\n",
              "      <button class=\"colab-df-convert\" onclick=\"convertToInteractive('df-950e6303-a7f0-41d3-a869-add8f2fd3ddc')\"\n",
              "              title=\"Convert this dataframe to an interactive table.\"\n",
              "              style=\"display:none;\">\n",
              "        \n",
              "  <svg xmlns=\"http://www.w3.org/2000/svg\" height=\"24px\"viewBox=\"0 0 24 24\"\n",
              "       width=\"24px\">\n",
              "    <path d=\"M0 0h24v24H0V0z\" fill=\"none\"/>\n",
              "    <path d=\"M18.56 5.44l.94 2.06.94-2.06 2.06-.94-2.06-.94-.94-2.06-.94 2.06-2.06.94zm-11 1L8.5 8.5l.94-2.06 2.06-.94-2.06-.94L8.5 2.5l-.94 2.06-2.06.94zm10 10l.94 2.06.94-2.06 2.06-.94-2.06-.94-.94-2.06-.94 2.06-2.06.94z\"/><path d=\"M17.41 7.96l-1.37-1.37c-.4-.4-.92-.59-1.43-.59-.52 0-1.04.2-1.43.59L10.3 9.45l-7.72 7.72c-.78.78-.78 2.05 0 2.83L4 21.41c.39.39.9.59 1.41.59.51 0 1.02-.2 1.41-.59l7.78-7.78 2.81-2.81c.8-.78.8-2.07 0-2.86zM5.41 20L4 18.59l7.72-7.72 1.47 1.35L5.41 20z\"/>\n",
              "  </svg>\n",
              "      </button>\n",
              "      \n",
              "  <style>\n",
              "    .colab-df-container {\n",
              "      display:flex;\n",
              "      flex-wrap:wrap;\n",
              "      gap: 12px;\n",
              "    }\n",
              "\n",
              "    .colab-df-convert {\n",
              "      background-color: #E8F0FE;\n",
              "      border: none;\n",
              "      border-radius: 50%;\n",
              "      cursor: pointer;\n",
              "      display: none;\n",
              "      fill: #1967D2;\n",
              "      height: 32px;\n",
              "      padding: 0 0 0 0;\n",
              "      width: 32px;\n",
              "    }\n",
              "\n",
              "    .colab-df-convert:hover {\n",
              "      background-color: #E2EBFA;\n",
              "      box-shadow: 0px 1px 2px rgba(60, 64, 67, 0.3), 0px 1px 3px 1px rgba(60, 64, 67, 0.15);\n",
              "      fill: #174EA6;\n",
              "    }\n",
              "\n",
              "    [theme=dark] .colab-df-convert {\n",
              "      background-color: #3B4455;\n",
              "      fill: #D2E3FC;\n",
              "    }\n",
              "\n",
              "    [theme=dark] .colab-df-convert:hover {\n",
              "      background-color: #434B5C;\n",
              "      box-shadow: 0px 1px 3px 1px rgba(0, 0, 0, 0.15);\n",
              "      filter: drop-shadow(0px 1px 2px rgba(0, 0, 0, 0.3));\n",
              "      fill: #FFFFFF;\n",
              "    }\n",
              "  </style>\n",
              "\n",
              "      <script>\n",
              "        const buttonEl =\n",
              "          document.querySelector('#df-950e6303-a7f0-41d3-a869-add8f2fd3ddc button.colab-df-convert');\n",
              "        buttonEl.style.display =\n",
              "          google.colab.kernel.accessAllowed ? 'block' : 'none';\n",
              "\n",
              "        async function convertToInteractive(key) {\n",
              "          const element = document.querySelector('#df-950e6303-a7f0-41d3-a869-add8f2fd3ddc');\n",
              "          const dataTable =\n",
              "            await google.colab.kernel.invokeFunction('convertToInteractive',\n",
              "                                                     [key], {});\n",
              "          if (!dataTable) return;\n",
              "\n",
              "          const docLinkHtml = 'Like what you see? Visit the ' +\n",
              "            '<a target=\"_blank\" href=https://colab.research.google.com/notebooks/data_table.ipynb>data table notebook</a>'\n",
              "            + ' to learn more about interactive tables.';\n",
              "          element.innerHTML = '';\n",
              "          dataTable['output_type'] = 'display_data';\n",
              "          await google.colab.output.renderOutput(dataTable, element);\n",
              "          const docLink = document.createElement('div');\n",
              "          docLink.innerHTML = docLinkHtml;\n",
              "          element.appendChild(docLink);\n",
              "        }\n",
              "      </script>\n",
              "    </div>\n",
              "  </div>\n",
              "  "
            ]
          },
          "metadata": {},
          "execution_count": 30
        }
      ]
    },
    {
      "cell_type": "code",
      "source": [
        "dados_projeto.tail()"
      ],
      "metadata": {
        "colab": {
          "base_uri": "https://localhost:8080/",
          "height": 206
        },
        "id": "GRAs4yeZmqC9",
        "outputId": "013a71de-3e7e-4ca4-c4d8-a0cd6e6d5b50"
      },
      "execution_count": 31,
      "outputs": [
        {
          "output_type": "execute_result",
          "data": {
            "text/plain": [
              "      temp_ar  umid_ar   time.data time.hora                data\n",
              "9590    26.70    55.00  2023-03-25  23:29:54 2023-03-25 23:29:54\n",
              "9591    26.70    56.00  2023-03-25  23:30:36 2023-03-25 23:30:36\n",
              "9592    26.70    56.00  2023-03-25  23:31:18 2023-03-25 23:31:18\n",
              "9593    26.70    56.00  2023-03-25  23:32:00 2023-03-25 23:32:00\n",
              "9594    26.70    56.00  2023-03-25  23:32:42 2023-03-25 23:32:42"
            ],
            "text/html": [
              "\n",
              "  <div id=\"df-d7fd30eb-c672-4452-b722-f22fa59e8eba\">\n",
              "    <div class=\"colab-df-container\">\n",
              "      <div>\n",
              "<style scoped>\n",
              "    .dataframe tbody tr th:only-of-type {\n",
              "        vertical-align: middle;\n",
              "    }\n",
              "\n",
              "    .dataframe tbody tr th {\n",
              "        vertical-align: top;\n",
              "    }\n",
              "\n",
              "    .dataframe thead th {\n",
              "        text-align: right;\n",
              "    }\n",
              "</style>\n",
              "<table border=\"1\" class=\"dataframe\">\n",
              "  <thead>\n",
              "    <tr style=\"text-align: right;\">\n",
              "      <th></th>\n",
              "      <th>temp_ar</th>\n",
              "      <th>umid_ar</th>\n",
              "      <th>time.data</th>\n",
              "      <th>time.hora</th>\n",
              "      <th>data</th>\n",
              "    </tr>\n",
              "  </thead>\n",
              "  <tbody>\n",
              "    <tr>\n",
              "      <th>9590</th>\n",
              "      <td>26.70</td>\n",
              "      <td>55.00</td>\n",
              "      <td>2023-03-25</td>\n",
              "      <td>23:29:54</td>\n",
              "      <td>2023-03-25 23:29:54</td>\n",
              "    </tr>\n",
              "    <tr>\n",
              "      <th>9591</th>\n",
              "      <td>26.70</td>\n",
              "      <td>56.00</td>\n",
              "      <td>2023-03-25</td>\n",
              "      <td>23:30:36</td>\n",
              "      <td>2023-03-25 23:30:36</td>\n",
              "    </tr>\n",
              "    <tr>\n",
              "      <th>9592</th>\n",
              "      <td>26.70</td>\n",
              "      <td>56.00</td>\n",
              "      <td>2023-03-25</td>\n",
              "      <td>23:31:18</td>\n",
              "      <td>2023-03-25 23:31:18</td>\n",
              "    </tr>\n",
              "    <tr>\n",
              "      <th>9593</th>\n",
              "      <td>26.70</td>\n",
              "      <td>56.00</td>\n",
              "      <td>2023-03-25</td>\n",
              "      <td>23:32:00</td>\n",
              "      <td>2023-03-25 23:32:00</td>\n",
              "    </tr>\n",
              "    <tr>\n",
              "      <th>9594</th>\n",
              "      <td>26.70</td>\n",
              "      <td>56.00</td>\n",
              "      <td>2023-03-25</td>\n",
              "      <td>23:32:42</td>\n",
              "      <td>2023-03-25 23:32:42</td>\n",
              "    </tr>\n",
              "  </tbody>\n",
              "</table>\n",
              "</div>\n",
              "      <button class=\"colab-df-convert\" onclick=\"convertToInteractive('df-d7fd30eb-c672-4452-b722-f22fa59e8eba')\"\n",
              "              title=\"Convert this dataframe to an interactive table.\"\n",
              "              style=\"display:none;\">\n",
              "        \n",
              "  <svg xmlns=\"http://www.w3.org/2000/svg\" height=\"24px\"viewBox=\"0 0 24 24\"\n",
              "       width=\"24px\">\n",
              "    <path d=\"M0 0h24v24H0V0z\" fill=\"none\"/>\n",
              "    <path d=\"M18.56 5.44l.94 2.06.94-2.06 2.06-.94-2.06-.94-.94-2.06-.94 2.06-2.06.94zm-11 1L8.5 8.5l.94-2.06 2.06-.94-2.06-.94L8.5 2.5l-.94 2.06-2.06.94zm10 10l.94 2.06.94-2.06 2.06-.94-2.06-.94-.94-2.06-.94 2.06-2.06.94z\"/><path d=\"M17.41 7.96l-1.37-1.37c-.4-.4-.92-.59-1.43-.59-.52 0-1.04.2-1.43.59L10.3 9.45l-7.72 7.72c-.78.78-.78 2.05 0 2.83L4 21.41c.39.39.9.59 1.41.59.51 0 1.02-.2 1.41-.59l7.78-7.78 2.81-2.81c.8-.78.8-2.07 0-2.86zM5.41 20L4 18.59l7.72-7.72 1.47 1.35L5.41 20z\"/>\n",
              "  </svg>\n",
              "      </button>\n",
              "      \n",
              "  <style>\n",
              "    .colab-df-container {\n",
              "      display:flex;\n",
              "      flex-wrap:wrap;\n",
              "      gap: 12px;\n",
              "    }\n",
              "\n",
              "    .colab-df-convert {\n",
              "      background-color: #E8F0FE;\n",
              "      border: none;\n",
              "      border-radius: 50%;\n",
              "      cursor: pointer;\n",
              "      display: none;\n",
              "      fill: #1967D2;\n",
              "      height: 32px;\n",
              "      padding: 0 0 0 0;\n",
              "      width: 32px;\n",
              "    }\n",
              "\n",
              "    .colab-df-convert:hover {\n",
              "      background-color: #E2EBFA;\n",
              "      box-shadow: 0px 1px 2px rgba(60, 64, 67, 0.3), 0px 1px 3px 1px rgba(60, 64, 67, 0.15);\n",
              "      fill: #174EA6;\n",
              "    }\n",
              "\n",
              "    [theme=dark] .colab-df-convert {\n",
              "      background-color: #3B4455;\n",
              "      fill: #D2E3FC;\n",
              "    }\n",
              "\n",
              "    [theme=dark] .colab-df-convert:hover {\n",
              "      background-color: #434B5C;\n",
              "      box-shadow: 0px 1px 3px 1px rgba(0, 0, 0, 0.15);\n",
              "      filter: drop-shadow(0px 1px 2px rgba(0, 0, 0, 0.3));\n",
              "      fill: #FFFFFF;\n",
              "    }\n",
              "  </style>\n",
              "\n",
              "      <script>\n",
              "        const buttonEl =\n",
              "          document.querySelector('#df-d7fd30eb-c672-4452-b722-f22fa59e8eba button.colab-df-convert');\n",
              "        buttonEl.style.display =\n",
              "          google.colab.kernel.accessAllowed ? 'block' : 'none';\n",
              "\n",
              "        async function convertToInteractive(key) {\n",
              "          const element = document.querySelector('#df-d7fd30eb-c672-4452-b722-f22fa59e8eba');\n",
              "          const dataTable =\n",
              "            await google.colab.kernel.invokeFunction('convertToInteractive',\n",
              "                                                     [key], {});\n",
              "          if (!dataTable) return;\n",
              "\n",
              "          const docLinkHtml = 'Like what you see? Visit the ' +\n",
              "            '<a target=\"_blank\" href=https://colab.research.google.com/notebooks/data_table.ipynb>data table notebook</a>'\n",
              "            + ' to learn more about interactive tables.';\n",
              "          element.innerHTML = '';\n",
              "          dataTable['output_type'] = 'display_data';\n",
              "          await google.colab.output.renderOutput(dataTable, element);\n",
              "          const docLink = document.createElement('div');\n",
              "          docLink.innerHTML = docLinkHtml;\n",
              "          element.appendChild(docLink);\n",
              "        }\n",
              "      </script>\n",
              "    </div>\n",
              "  </div>\n",
              "  "
            ]
          },
          "metadata": {},
          "execution_count": 31
        }
      ]
    },
    {
      "cell_type": "code",
      "source": [
        "dados_projeto.info()"
      ],
      "metadata": {
        "colab": {
          "base_uri": "https://localhost:8080/"
        },
        "id": "N1eeH4JamcdX",
        "outputId": "ad1d6fe0-d38c-4035-dcd5-9d7eef26419a"
      },
      "execution_count": 32,
      "outputs": [
        {
          "output_type": "stream",
          "name": "stdout",
          "text": [
            "<class 'pandas.core.frame.DataFrame'>\n",
            "Int64Index: 9146 entries, 31 to 9594\n",
            "Data columns (total 5 columns):\n",
            " #   Column     Non-Null Count  Dtype         \n",
            "---  ------     --------------  -----         \n",
            " 0   temp_ar    9146 non-null   float64       \n",
            " 1   umid_ar    9146 non-null   float64       \n",
            " 2   time.data  9146 non-null   object        \n",
            " 3   time.hora  9146 non-null   object        \n",
            " 4   data       9146 non-null   datetime64[ns]\n",
            "dtypes: datetime64[ns](1), float64(2), object(2)\n",
            "memory usage: 428.7+ KB\n"
          ]
        }
      ]
    },
    {
      "cell_type": "markdown",
      "source": [
        "Verificando nulos novamente"
      ],
      "metadata": {
        "id": "lx9CUgXwb9h4"
      }
    },
    {
      "cell_type": "code",
      "source": [
        "df_dados_api.isnull().sum()"
      ],
      "metadata": {
        "colab": {
          "base_uri": "https://localhost:8080/"
        },
        "id": "ZbbSN_n2cASR",
        "outputId": "c62c3ee7-3c98-4013-8685-425f7c61e4c7"
      },
      "execution_count": 33,
      "outputs": [
        {
          "output_type": "execute_result",
          "data": {
            "text/plain": [
              "temp_ar      0\n",
              "umid_ar      0\n",
              "time.data    0\n",
              "time.hora    0\n",
              "dtype: int64"
            ]
          },
          "metadata": {},
          "execution_count": 33
        }
      ]
    },
    {
      "cell_type": "markdown",
      "source": [
        "Visualizando contagem de registros agrupados por dia"
      ],
      "metadata": {
        "id": "T3U8VXPEc34L"
      }
    },
    {
      "cell_type": "code",
      "source": [
        "dados_projeto.groupby(by=\"time.data\").count()"
      ],
      "metadata": {
        "colab": {
          "base_uri": "https://localhost:8080/",
          "height": 833
        },
        "id": "uP1NO4JmZbh3",
        "outputId": "9589bf5e-f148-41e7-8bc4-cd30723fd7b2"
      },
      "execution_count": 34,
      "outputs": [
        {
          "output_type": "execute_result",
          "data": {
            "text/plain": [
              "            temp_ar  umid_ar  time.hora  data\n",
              "time.data                                    \n",
              "2023-03-02      117      117        117   117\n",
              "2023-03-03      282      282        282   282\n",
              "2023-03-04      285      285        285   285\n",
              "2023-03-05      286      286        286   286\n",
              "2023-03-06      285      285        285   285\n",
              "2023-03-07      284      284        284   284\n",
              "2023-03-08      271      271        271   271\n",
              "2023-03-09      286      286        286   286\n",
              "2023-03-10      243      243        243   243\n",
              "2023-03-11      285      285        285   285\n",
              "2023-03-12      286      286        286   286\n",
              "2023-03-13      268      268        268   268\n",
              "2023-03-14      153      153        153   153\n",
              "2023-03-15      280      280        280   280\n",
              "2023-03-16      277      277        277   277\n",
              "2023-03-17      193      193        193   193\n",
              "2023-03-18      285      285        285   285\n",
              "2023-03-19      286      286        286   286\n",
              "2023-03-20      241      241        241   241\n",
              "2023-03-21      284      284        284   284\n",
              "2023-03-22      231      231        231   231\n",
              "2023-03-23      279      279        279   279\n",
              "2023-03-24     1444     1444       1444  1444\n",
              "2023-03-25     2015     2015       2015  2015"
            ],
            "text/html": [
              "\n",
              "  <div id=\"df-8b0d0789-826a-4cc9-9324-883fc03d8b21\">\n",
              "    <div class=\"colab-df-container\">\n",
              "      <div>\n",
              "<style scoped>\n",
              "    .dataframe tbody tr th:only-of-type {\n",
              "        vertical-align: middle;\n",
              "    }\n",
              "\n",
              "    .dataframe tbody tr th {\n",
              "        vertical-align: top;\n",
              "    }\n",
              "\n",
              "    .dataframe thead th {\n",
              "        text-align: right;\n",
              "    }\n",
              "</style>\n",
              "<table border=\"1\" class=\"dataframe\">\n",
              "  <thead>\n",
              "    <tr style=\"text-align: right;\">\n",
              "      <th></th>\n",
              "      <th>temp_ar</th>\n",
              "      <th>umid_ar</th>\n",
              "      <th>time.hora</th>\n",
              "      <th>data</th>\n",
              "    </tr>\n",
              "    <tr>\n",
              "      <th>time.data</th>\n",
              "      <th></th>\n",
              "      <th></th>\n",
              "      <th></th>\n",
              "      <th></th>\n",
              "    </tr>\n",
              "  </thead>\n",
              "  <tbody>\n",
              "    <tr>\n",
              "      <th>2023-03-02</th>\n",
              "      <td>117</td>\n",
              "      <td>117</td>\n",
              "      <td>117</td>\n",
              "      <td>117</td>\n",
              "    </tr>\n",
              "    <tr>\n",
              "      <th>2023-03-03</th>\n",
              "      <td>282</td>\n",
              "      <td>282</td>\n",
              "      <td>282</td>\n",
              "      <td>282</td>\n",
              "    </tr>\n",
              "    <tr>\n",
              "      <th>2023-03-04</th>\n",
              "      <td>285</td>\n",
              "      <td>285</td>\n",
              "      <td>285</td>\n",
              "      <td>285</td>\n",
              "    </tr>\n",
              "    <tr>\n",
              "      <th>2023-03-05</th>\n",
              "      <td>286</td>\n",
              "      <td>286</td>\n",
              "      <td>286</td>\n",
              "      <td>286</td>\n",
              "    </tr>\n",
              "    <tr>\n",
              "      <th>2023-03-06</th>\n",
              "      <td>285</td>\n",
              "      <td>285</td>\n",
              "      <td>285</td>\n",
              "      <td>285</td>\n",
              "    </tr>\n",
              "    <tr>\n",
              "      <th>2023-03-07</th>\n",
              "      <td>284</td>\n",
              "      <td>284</td>\n",
              "      <td>284</td>\n",
              "      <td>284</td>\n",
              "    </tr>\n",
              "    <tr>\n",
              "      <th>2023-03-08</th>\n",
              "      <td>271</td>\n",
              "      <td>271</td>\n",
              "      <td>271</td>\n",
              "      <td>271</td>\n",
              "    </tr>\n",
              "    <tr>\n",
              "      <th>2023-03-09</th>\n",
              "      <td>286</td>\n",
              "      <td>286</td>\n",
              "      <td>286</td>\n",
              "      <td>286</td>\n",
              "    </tr>\n",
              "    <tr>\n",
              "      <th>2023-03-10</th>\n",
              "      <td>243</td>\n",
              "      <td>243</td>\n",
              "      <td>243</td>\n",
              "      <td>243</td>\n",
              "    </tr>\n",
              "    <tr>\n",
              "      <th>2023-03-11</th>\n",
              "      <td>285</td>\n",
              "      <td>285</td>\n",
              "      <td>285</td>\n",
              "      <td>285</td>\n",
              "    </tr>\n",
              "    <tr>\n",
              "      <th>2023-03-12</th>\n",
              "      <td>286</td>\n",
              "      <td>286</td>\n",
              "      <td>286</td>\n",
              "      <td>286</td>\n",
              "    </tr>\n",
              "    <tr>\n",
              "      <th>2023-03-13</th>\n",
              "      <td>268</td>\n",
              "      <td>268</td>\n",
              "      <td>268</td>\n",
              "      <td>268</td>\n",
              "    </tr>\n",
              "    <tr>\n",
              "      <th>2023-03-14</th>\n",
              "      <td>153</td>\n",
              "      <td>153</td>\n",
              "      <td>153</td>\n",
              "      <td>153</td>\n",
              "    </tr>\n",
              "    <tr>\n",
              "      <th>2023-03-15</th>\n",
              "      <td>280</td>\n",
              "      <td>280</td>\n",
              "      <td>280</td>\n",
              "      <td>280</td>\n",
              "    </tr>\n",
              "    <tr>\n",
              "      <th>2023-03-16</th>\n",
              "      <td>277</td>\n",
              "      <td>277</td>\n",
              "      <td>277</td>\n",
              "      <td>277</td>\n",
              "    </tr>\n",
              "    <tr>\n",
              "      <th>2023-03-17</th>\n",
              "      <td>193</td>\n",
              "      <td>193</td>\n",
              "      <td>193</td>\n",
              "      <td>193</td>\n",
              "    </tr>\n",
              "    <tr>\n",
              "      <th>2023-03-18</th>\n",
              "      <td>285</td>\n",
              "      <td>285</td>\n",
              "      <td>285</td>\n",
              "      <td>285</td>\n",
              "    </tr>\n",
              "    <tr>\n",
              "      <th>2023-03-19</th>\n",
              "      <td>286</td>\n",
              "      <td>286</td>\n",
              "      <td>286</td>\n",
              "      <td>286</td>\n",
              "    </tr>\n",
              "    <tr>\n",
              "      <th>2023-03-20</th>\n",
              "      <td>241</td>\n",
              "      <td>241</td>\n",
              "      <td>241</td>\n",
              "      <td>241</td>\n",
              "    </tr>\n",
              "    <tr>\n",
              "      <th>2023-03-21</th>\n",
              "      <td>284</td>\n",
              "      <td>284</td>\n",
              "      <td>284</td>\n",
              "      <td>284</td>\n",
              "    </tr>\n",
              "    <tr>\n",
              "      <th>2023-03-22</th>\n",
              "      <td>231</td>\n",
              "      <td>231</td>\n",
              "      <td>231</td>\n",
              "      <td>231</td>\n",
              "    </tr>\n",
              "    <tr>\n",
              "      <th>2023-03-23</th>\n",
              "      <td>279</td>\n",
              "      <td>279</td>\n",
              "      <td>279</td>\n",
              "      <td>279</td>\n",
              "    </tr>\n",
              "    <tr>\n",
              "      <th>2023-03-24</th>\n",
              "      <td>1444</td>\n",
              "      <td>1444</td>\n",
              "      <td>1444</td>\n",
              "      <td>1444</td>\n",
              "    </tr>\n",
              "    <tr>\n",
              "      <th>2023-03-25</th>\n",
              "      <td>2015</td>\n",
              "      <td>2015</td>\n",
              "      <td>2015</td>\n",
              "      <td>2015</td>\n",
              "    </tr>\n",
              "  </tbody>\n",
              "</table>\n",
              "</div>\n",
              "      <button class=\"colab-df-convert\" onclick=\"convertToInteractive('df-8b0d0789-826a-4cc9-9324-883fc03d8b21')\"\n",
              "              title=\"Convert this dataframe to an interactive table.\"\n",
              "              style=\"display:none;\">\n",
              "        \n",
              "  <svg xmlns=\"http://www.w3.org/2000/svg\" height=\"24px\"viewBox=\"0 0 24 24\"\n",
              "       width=\"24px\">\n",
              "    <path d=\"M0 0h24v24H0V0z\" fill=\"none\"/>\n",
              "    <path d=\"M18.56 5.44l.94 2.06.94-2.06 2.06-.94-2.06-.94-.94-2.06-.94 2.06-2.06.94zm-11 1L8.5 8.5l.94-2.06 2.06-.94-2.06-.94L8.5 2.5l-.94 2.06-2.06.94zm10 10l.94 2.06.94-2.06 2.06-.94-2.06-.94-.94-2.06-.94 2.06-2.06.94z\"/><path d=\"M17.41 7.96l-1.37-1.37c-.4-.4-.92-.59-1.43-.59-.52 0-1.04.2-1.43.59L10.3 9.45l-7.72 7.72c-.78.78-.78 2.05 0 2.83L4 21.41c.39.39.9.59 1.41.59.51 0 1.02-.2 1.41-.59l7.78-7.78 2.81-2.81c.8-.78.8-2.07 0-2.86zM5.41 20L4 18.59l7.72-7.72 1.47 1.35L5.41 20z\"/>\n",
              "  </svg>\n",
              "      </button>\n",
              "      \n",
              "  <style>\n",
              "    .colab-df-container {\n",
              "      display:flex;\n",
              "      flex-wrap:wrap;\n",
              "      gap: 12px;\n",
              "    }\n",
              "\n",
              "    .colab-df-convert {\n",
              "      background-color: #E8F0FE;\n",
              "      border: none;\n",
              "      border-radius: 50%;\n",
              "      cursor: pointer;\n",
              "      display: none;\n",
              "      fill: #1967D2;\n",
              "      height: 32px;\n",
              "      padding: 0 0 0 0;\n",
              "      width: 32px;\n",
              "    }\n",
              "\n",
              "    .colab-df-convert:hover {\n",
              "      background-color: #E2EBFA;\n",
              "      box-shadow: 0px 1px 2px rgba(60, 64, 67, 0.3), 0px 1px 3px 1px rgba(60, 64, 67, 0.15);\n",
              "      fill: #174EA6;\n",
              "    }\n",
              "\n",
              "    [theme=dark] .colab-df-convert {\n",
              "      background-color: #3B4455;\n",
              "      fill: #D2E3FC;\n",
              "    }\n",
              "\n",
              "    [theme=dark] .colab-df-convert:hover {\n",
              "      background-color: #434B5C;\n",
              "      box-shadow: 0px 1px 3px 1px rgba(0, 0, 0, 0.15);\n",
              "      filter: drop-shadow(0px 1px 2px rgba(0, 0, 0, 0.3));\n",
              "      fill: #FFFFFF;\n",
              "    }\n",
              "  </style>\n",
              "\n",
              "      <script>\n",
              "        const buttonEl =\n",
              "          document.querySelector('#df-8b0d0789-826a-4cc9-9324-883fc03d8b21 button.colab-df-convert');\n",
              "        buttonEl.style.display =\n",
              "          google.colab.kernel.accessAllowed ? 'block' : 'none';\n",
              "\n",
              "        async function convertToInteractive(key) {\n",
              "          const element = document.querySelector('#df-8b0d0789-826a-4cc9-9324-883fc03d8b21');\n",
              "          const dataTable =\n",
              "            await google.colab.kernel.invokeFunction('convertToInteractive',\n",
              "                                                     [key], {});\n",
              "          if (!dataTable) return;\n",
              "\n",
              "          const docLinkHtml = 'Like what you see? Visit the ' +\n",
              "            '<a target=\"_blank\" href=https://colab.research.google.com/notebooks/data_table.ipynb>data table notebook</a>'\n",
              "            + ' to learn more about interactive tables.';\n",
              "          element.innerHTML = '';\n",
              "          dataTable['output_type'] = 'display_data';\n",
              "          await google.colab.output.renderOutput(dataTable, element);\n",
              "          const docLink = document.createElement('div');\n",
              "          docLink.innerHTML = docLinkHtml;\n",
              "          element.appendChild(docLink);\n",
              "        }\n",
              "      </script>\n",
              "    </div>\n",
              "  </div>\n",
              "  "
            ]
          },
          "metadata": {},
          "execution_count": 34
        }
      ]
    },
    {
      "cell_type": "markdown",
      "source": [
        "Deletando colunas que não vamos usar mais"
      ],
      "metadata": {
        "id": "_RgJz_rXdXxe"
      }
    },
    {
      "cell_type": "code",
      "source": [
        "del dados_projeto['time.data']\n",
        "del dados_projeto['time.hora']"
      ],
      "metadata": {
        "id": "zQIQVFl9myhX"
      },
      "execution_count": 35,
      "outputs": []
    },
    {
      "cell_type": "code",
      "source": [
        "dados_projeto.head()"
      ],
      "metadata": {
        "colab": {
          "base_uri": "https://localhost:8080/",
          "height": 206
        },
        "id": "0oA3J77inH68",
        "outputId": "566dd342-43f7-43e1-820a-c8709b5b4804"
      },
      "execution_count": 36,
      "outputs": [
        {
          "output_type": "execute_result",
          "data": {
            "text/plain": [
              "    temp_ar  umid_ar                data\n",
              "31    26.60    61.00 2023-03-02 08:02:36\n",
              "32    26.70    61.00 2023-03-02 08:07:40\n",
              "33    26.90    55.00 2023-03-02 08:17:50\n",
              "34    27.10    54.00 2023-03-02 08:22:52\n",
              "35    27.30    55.00 2023-03-02 08:27:55"
            ],
            "text/html": [
              "\n",
              "  <div id=\"df-b8339c6b-97b0-4ec1-bf1b-00e482971c90\">\n",
              "    <div class=\"colab-df-container\">\n",
              "      <div>\n",
              "<style scoped>\n",
              "    .dataframe tbody tr th:only-of-type {\n",
              "        vertical-align: middle;\n",
              "    }\n",
              "\n",
              "    .dataframe tbody tr th {\n",
              "        vertical-align: top;\n",
              "    }\n",
              "\n",
              "    .dataframe thead th {\n",
              "        text-align: right;\n",
              "    }\n",
              "</style>\n",
              "<table border=\"1\" class=\"dataframe\">\n",
              "  <thead>\n",
              "    <tr style=\"text-align: right;\">\n",
              "      <th></th>\n",
              "      <th>temp_ar</th>\n",
              "      <th>umid_ar</th>\n",
              "      <th>data</th>\n",
              "    </tr>\n",
              "  </thead>\n",
              "  <tbody>\n",
              "    <tr>\n",
              "      <th>31</th>\n",
              "      <td>26.60</td>\n",
              "      <td>61.00</td>\n",
              "      <td>2023-03-02 08:02:36</td>\n",
              "    </tr>\n",
              "    <tr>\n",
              "      <th>32</th>\n",
              "      <td>26.70</td>\n",
              "      <td>61.00</td>\n",
              "      <td>2023-03-02 08:07:40</td>\n",
              "    </tr>\n",
              "    <tr>\n",
              "      <th>33</th>\n",
              "      <td>26.90</td>\n",
              "      <td>55.00</td>\n",
              "      <td>2023-03-02 08:17:50</td>\n",
              "    </tr>\n",
              "    <tr>\n",
              "      <th>34</th>\n",
              "      <td>27.10</td>\n",
              "      <td>54.00</td>\n",
              "      <td>2023-03-02 08:22:52</td>\n",
              "    </tr>\n",
              "    <tr>\n",
              "      <th>35</th>\n",
              "      <td>27.30</td>\n",
              "      <td>55.00</td>\n",
              "      <td>2023-03-02 08:27:55</td>\n",
              "    </tr>\n",
              "  </tbody>\n",
              "</table>\n",
              "</div>\n",
              "      <button class=\"colab-df-convert\" onclick=\"convertToInteractive('df-b8339c6b-97b0-4ec1-bf1b-00e482971c90')\"\n",
              "              title=\"Convert this dataframe to an interactive table.\"\n",
              "              style=\"display:none;\">\n",
              "        \n",
              "  <svg xmlns=\"http://www.w3.org/2000/svg\" height=\"24px\"viewBox=\"0 0 24 24\"\n",
              "       width=\"24px\">\n",
              "    <path d=\"M0 0h24v24H0V0z\" fill=\"none\"/>\n",
              "    <path d=\"M18.56 5.44l.94 2.06.94-2.06 2.06-.94-2.06-.94-.94-2.06-.94 2.06-2.06.94zm-11 1L8.5 8.5l.94-2.06 2.06-.94-2.06-.94L8.5 2.5l-.94 2.06-2.06.94zm10 10l.94 2.06.94-2.06 2.06-.94-2.06-.94-.94-2.06-.94 2.06-2.06.94z\"/><path d=\"M17.41 7.96l-1.37-1.37c-.4-.4-.92-.59-1.43-.59-.52 0-1.04.2-1.43.59L10.3 9.45l-7.72 7.72c-.78.78-.78 2.05 0 2.83L4 21.41c.39.39.9.59 1.41.59.51 0 1.02-.2 1.41-.59l7.78-7.78 2.81-2.81c.8-.78.8-2.07 0-2.86zM5.41 20L4 18.59l7.72-7.72 1.47 1.35L5.41 20z\"/>\n",
              "  </svg>\n",
              "      </button>\n",
              "      \n",
              "  <style>\n",
              "    .colab-df-container {\n",
              "      display:flex;\n",
              "      flex-wrap:wrap;\n",
              "      gap: 12px;\n",
              "    }\n",
              "\n",
              "    .colab-df-convert {\n",
              "      background-color: #E8F0FE;\n",
              "      border: none;\n",
              "      border-radius: 50%;\n",
              "      cursor: pointer;\n",
              "      display: none;\n",
              "      fill: #1967D2;\n",
              "      height: 32px;\n",
              "      padding: 0 0 0 0;\n",
              "      width: 32px;\n",
              "    }\n",
              "\n",
              "    .colab-df-convert:hover {\n",
              "      background-color: #E2EBFA;\n",
              "      box-shadow: 0px 1px 2px rgba(60, 64, 67, 0.3), 0px 1px 3px 1px rgba(60, 64, 67, 0.15);\n",
              "      fill: #174EA6;\n",
              "    }\n",
              "\n",
              "    [theme=dark] .colab-df-convert {\n",
              "      background-color: #3B4455;\n",
              "      fill: #D2E3FC;\n",
              "    }\n",
              "\n",
              "    [theme=dark] .colab-df-convert:hover {\n",
              "      background-color: #434B5C;\n",
              "      box-shadow: 0px 1px 3px 1px rgba(0, 0, 0, 0.15);\n",
              "      filter: drop-shadow(0px 1px 2px rgba(0, 0, 0, 0.3));\n",
              "      fill: #FFFFFF;\n",
              "    }\n",
              "  </style>\n",
              "\n",
              "      <script>\n",
              "        const buttonEl =\n",
              "          document.querySelector('#df-b8339c6b-97b0-4ec1-bf1b-00e482971c90 button.colab-df-convert');\n",
              "        buttonEl.style.display =\n",
              "          google.colab.kernel.accessAllowed ? 'block' : 'none';\n",
              "\n",
              "        async function convertToInteractive(key) {\n",
              "          const element = document.querySelector('#df-b8339c6b-97b0-4ec1-bf1b-00e482971c90');\n",
              "          const dataTable =\n",
              "            await google.colab.kernel.invokeFunction('convertToInteractive',\n",
              "                                                     [key], {});\n",
              "          if (!dataTable) return;\n",
              "\n",
              "          const docLinkHtml = 'Like what you see? Visit the ' +\n",
              "            '<a target=\"_blank\" href=https://colab.research.google.com/notebooks/data_table.ipynb>data table notebook</a>'\n",
              "            + ' to learn more about interactive tables.';\n",
              "          element.innerHTML = '';\n",
              "          dataTable['output_type'] = 'display_data';\n",
              "          await google.colab.output.renderOutput(dataTable, element);\n",
              "          const docLink = document.createElement('div');\n",
              "          docLink.innerHTML = docLinkHtml;\n",
              "          element.appendChild(docLink);\n",
              "        }\n",
              "      </script>\n",
              "    </div>\n",
              "  </div>\n",
              "  "
            ]
          },
          "metadata": {},
          "execution_count": 36
        }
      ]
    },
    {
      "cell_type": "code",
      "source": [
        "dados_projeto.tail()"
      ],
      "metadata": {
        "colab": {
          "base_uri": "https://localhost:8080/",
          "height": 206
        },
        "id": "-HSEDsa9ddp1",
        "outputId": "4268a960-d648-4275-c447-1a8326e1bc22"
      },
      "execution_count": 37,
      "outputs": [
        {
          "output_type": "execute_result",
          "data": {
            "text/plain": [
              "      temp_ar  umid_ar                data\n",
              "9590    26.70    55.00 2023-03-25 23:29:54\n",
              "9591    26.70    56.00 2023-03-25 23:30:36\n",
              "9592    26.70    56.00 2023-03-25 23:31:18\n",
              "9593    26.70    56.00 2023-03-25 23:32:00\n",
              "9594    26.70    56.00 2023-03-25 23:32:42"
            ],
            "text/html": [
              "\n",
              "  <div id=\"df-b824448b-13cd-4bd6-bb76-c4af8d41efa2\">\n",
              "    <div class=\"colab-df-container\">\n",
              "      <div>\n",
              "<style scoped>\n",
              "    .dataframe tbody tr th:only-of-type {\n",
              "        vertical-align: middle;\n",
              "    }\n",
              "\n",
              "    .dataframe tbody tr th {\n",
              "        vertical-align: top;\n",
              "    }\n",
              "\n",
              "    .dataframe thead th {\n",
              "        text-align: right;\n",
              "    }\n",
              "</style>\n",
              "<table border=\"1\" class=\"dataframe\">\n",
              "  <thead>\n",
              "    <tr style=\"text-align: right;\">\n",
              "      <th></th>\n",
              "      <th>temp_ar</th>\n",
              "      <th>umid_ar</th>\n",
              "      <th>data</th>\n",
              "    </tr>\n",
              "  </thead>\n",
              "  <tbody>\n",
              "    <tr>\n",
              "      <th>9590</th>\n",
              "      <td>26.70</td>\n",
              "      <td>55.00</td>\n",
              "      <td>2023-03-25 23:29:54</td>\n",
              "    </tr>\n",
              "    <tr>\n",
              "      <th>9591</th>\n",
              "      <td>26.70</td>\n",
              "      <td>56.00</td>\n",
              "      <td>2023-03-25 23:30:36</td>\n",
              "    </tr>\n",
              "    <tr>\n",
              "      <th>9592</th>\n",
              "      <td>26.70</td>\n",
              "      <td>56.00</td>\n",
              "      <td>2023-03-25 23:31:18</td>\n",
              "    </tr>\n",
              "    <tr>\n",
              "      <th>9593</th>\n",
              "      <td>26.70</td>\n",
              "      <td>56.00</td>\n",
              "      <td>2023-03-25 23:32:00</td>\n",
              "    </tr>\n",
              "    <tr>\n",
              "      <th>9594</th>\n",
              "      <td>26.70</td>\n",
              "      <td>56.00</td>\n",
              "      <td>2023-03-25 23:32:42</td>\n",
              "    </tr>\n",
              "  </tbody>\n",
              "</table>\n",
              "</div>\n",
              "      <button class=\"colab-df-convert\" onclick=\"convertToInteractive('df-b824448b-13cd-4bd6-bb76-c4af8d41efa2')\"\n",
              "              title=\"Convert this dataframe to an interactive table.\"\n",
              "              style=\"display:none;\">\n",
              "        \n",
              "  <svg xmlns=\"http://www.w3.org/2000/svg\" height=\"24px\"viewBox=\"0 0 24 24\"\n",
              "       width=\"24px\">\n",
              "    <path d=\"M0 0h24v24H0V0z\" fill=\"none\"/>\n",
              "    <path d=\"M18.56 5.44l.94 2.06.94-2.06 2.06-.94-2.06-.94-.94-2.06-.94 2.06-2.06.94zm-11 1L8.5 8.5l.94-2.06 2.06-.94-2.06-.94L8.5 2.5l-.94 2.06-2.06.94zm10 10l.94 2.06.94-2.06 2.06-.94-2.06-.94-.94-2.06-.94 2.06-2.06.94z\"/><path d=\"M17.41 7.96l-1.37-1.37c-.4-.4-.92-.59-1.43-.59-.52 0-1.04.2-1.43.59L10.3 9.45l-7.72 7.72c-.78.78-.78 2.05 0 2.83L4 21.41c.39.39.9.59 1.41.59.51 0 1.02-.2 1.41-.59l7.78-7.78 2.81-2.81c.8-.78.8-2.07 0-2.86zM5.41 20L4 18.59l7.72-7.72 1.47 1.35L5.41 20z\"/>\n",
              "  </svg>\n",
              "      </button>\n",
              "      \n",
              "  <style>\n",
              "    .colab-df-container {\n",
              "      display:flex;\n",
              "      flex-wrap:wrap;\n",
              "      gap: 12px;\n",
              "    }\n",
              "\n",
              "    .colab-df-convert {\n",
              "      background-color: #E8F0FE;\n",
              "      border: none;\n",
              "      border-radius: 50%;\n",
              "      cursor: pointer;\n",
              "      display: none;\n",
              "      fill: #1967D2;\n",
              "      height: 32px;\n",
              "      padding: 0 0 0 0;\n",
              "      width: 32px;\n",
              "    }\n",
              "\n",
              "    .colab-df-convert:hover {\n",
              "      background-color: #E2EBFA;\n",
              "      box-shadow: 0px 1px 2px rgba(60, 64, 67, 0.3), 0px 1px 3px 1px rgba(60, 64, 67, 0.15);\n",
              "      fill: #174EA6;\n",
              "    }\n",
              "\n",
              "    [theme=dark] .colab-df-convert {\n",
              "      background-color: #3B4455;\n",
              "      fill: #D2E3FC;\n",
              "    }\n",
              "\n",
              "    [theme=dark] .colab-df-convert:hover {\n",
              "      background-color: #434B5C;\n",
              "      box-shadow: 0px 1px 3px 1px rgba(0, 0, 0, 0.15);\n",
              "      filter: drop-shadow(0px 1px 2px rgba(0, 0, 0, 0.3));\n",
              "      fill: #FFFFFF;\n",
              "    }\n",
              "  </style>\n",
              "\n",
              "      <script>\n",
              "        const buttonEl =\n",
              "          document.querySelector('#df-b824448b-13cd-4bd6-bb76-c4af8d41efa2 button.colab-df-convert');\n",
              "        buttonEl.style.display =\n",
              "          google.colab.kernel.accessAllowed ? 'block' : 'none';\n",
              "\n",
              "        async function convertToInteractive(key) {\n",
              "          const element = document.querySelector('#df-b824448b-13cd-4bd6-bb76-c4af8d41efa2');\n",
              "          const dataTable =\n",
              "            await google.colab.kernel.invokeFunction('convertToInteractive',\n",
              "                                                     [key], {});\n",
              "          if (!dataTable) return;\n",
              "\n",
              "          const docLinkHtml = 'Like what you see? Visit the ' +\n",
              "            '<a target=\"_blank\" href=https://colab.research.google.com/notebooks/data_table.ipynb>data table notebook</a>'\n",
              "            + ' to learn more about interactive tables.';\n",
              "          element.innerHTML = '';\n",
              "          dataTable['output_type'] = 'display_data';\n",
              "          await google.colab.output.renderOutput(dataTable, element);\n",
              "          const docLink = document.createElement('div');\n",
              "          docLink.innerHTML = docLinkHtml;\n",
              "          element.appendChild(docLink);\n",
              "        }\n",
              "      </script>\n",
              "    </div>\n",
              "  </div>\n",
              "  "
            ]
          },
          "metadata": {},
          "execution_count": 37
        }
      ]
    },
    {
      "cell_type": "markdown",
      "source": [
        "# Filtro por período a partir do dia 04/03/2023"
      ],
      "metadata": {
        "id": "6KpjyF3jdla_"
      }
    },
    {
      "cell_type": "code",
      "source": [
        "filtro = (dados_projeto.data >= '2023-03-04 00:00:00') & (dados_projeto.data <= '2023-03-26 00:00:00')\n",
        "serie = dados_projeto.loc[filtro]\n",
        "serie"
      ],
      "metadata": {
        "colab": {
          "base_uri": "https://localhost:8080/",
          "height": 424
        },
        "id": "f7ImwAxppoKN",
        "outputId": "f721df44-5f8d-4c95-a96b-8feb3ba0370d"
      },
      "execution_count": 38,
      "outputs": [
        {
          "output_type": "execute_result",
          "data": {
            "text/plain": [
              "      temp_ar  umid_ar                data\n",
              "504     26.60    57.00 2023-03-04 00:04:12\n",
              "505     26.60    58.00 2023-03-04 00:09:14\n",
              "506     26.60    57.00 2023-03-04 00:14:16\n",
              "507     26.60    57.00 2023-03-04 00:19:18\n",
              "508     26.60    57.00 2023-03-04 00:24:21\n",
              "...       ...      ...                 ...\n",
              "9590    26.70    55.00 2023-03-25 23:29:54\n",
              "9591    26.70    56.00 2023-03-25 23:30:36\n",
              "9592    26.70    56.00 2023-03-25 23:31:18\n",
              "9593    26.70    56.00 2023-03-25 23:32:00\n",
              "9594    26.70    56.00 2023-03-25 23:32:42\n",
              "\n",
              "[8747 rows x 3 columns]"
            ],
            "text/html": [
              "\n",
              "  <div id=\"df-39abca5e-ac82-4707-884d-11bdf2c1e187\">\n",
              "    <div class=\"colab-df-container\">\n",
              "      <div>\n",
              "<style scoped>\n",
              "    .dataframe tbody tr th:only-of-type {\n",
              "        vertical-align: middle;\n",
              "    }\n",
              "\n",
              "    .dataframe tbody tr th {\n",
              "        vertical-align: top;\n",
              "    }\n",
              "\n",
              "    .dataframe thead th {\n",
              "        text-align: right;\n",
              "    }\n",
              "</style>\n",
              "<table border=\"1\" class=\"dataframe\">\n",
              "  <thead>\n",
              "    <tr style=\"text-align: right;\">\n",
              "      <th></th>\n",
              "      <th>temp_ar</th>\n",
              "      <th>umid_ar</th>\n",
              "      <th>data</th>\n",
              "    </tr>\n",
              "  </thead>\n",
              "  <tbody>\n",
              "    <tr>\n",
              "      <th>504</th>\n",
              "      <td>26.60</td>\n",
              "      <td>57.00</td>\n",
              "      <td>2023-03-04 00:04:12</td>\n",
              "    </tr>\n",
              "    <tr>\n",
              "      <th>505</th>\n",
              "      <td>26.60</td>\n",
              "      <td>58.00</td>\n",
              "      <td>2023-03-04 00:09:14</td>\n",
              "    </tr>\n",
              "    <tr>\n",
              "      <th>506</th>\n",
              "      <td>26.60</td>\n",
              "      <td>57.00</td>\n",
              "      <td>2023-03-04 00:14:16</td>\n",
              "    </tr>\n",
              "    <tr>\n",
              "      <th>507</th>\n",
              "      <td>26.60</td>\n",
              "      <td>57.00</td>\n",
              "      <td>2023-03-04 00:19:18</td>\n",
              "    </tr>\n",
              "    <tr>\n",
              "      <th>508</th>\n",
              "      <td>26.60</td>\n",
              "      <td>57.00</td>\n",
              "      <td>2023-03-04 00:24:21</td>\n",
              "    </tr>\n",
              "    <tr>\n",
              "      <th>...</th>\n",
              "      <td>...</td>\n",
              "      <td>...</td>\n",
              "      <td>...</td>\n",
              "    </tr>\n",
              "    <tr>\n",
              "      <th>9590</th>\n",
              "      <td>26.70</td>\n",
              "      <td>55.00</td>\n",
              "      <td>2023-03-25 23:29:54</td>\n",
              "    </tr>\n",
              "    <tr>\n",
              "      <th>9591</th>\n",
              "      <td>26.70</td>\n",
              "      <td>56.00</td>\n",
              "      <td>2023-03-25 23:30:36</td>\n",
              "    </tr>\n",
              "    <tr>\n",
              "      <th>9592</th>\n",
              "      <td>26.70</td>\n",
              "      <td>56.00</td>\n",
              "      <td>2023-03-25 23:31:18</td>\n",
              "    </tr>\n",
              "    <tr>\n",
              "      <th>9593</th>\n",
              "      <td>26.70</td>\n",
              "      <td>56.00</td>\n",
              "      <td>2023-03-25 23:32:00</td>\n",
              "    </tr>\n",
              "    <tr>\n",
              "      <th>9594</th>\n",
              "      <td>26.70</td>\n",
              "      <td>56.00</td>\n",
              "      <td>2023-03-25 23:32:42</td>\n",
              "    </tr>\n",
              "  </tbody>\n",
              "</table>\n",
              "<p>8747 rows × 3 columns</p>\n",
              "</div>\n",
              "      <button class=\"colab-df-convert\" onclick=\"convertToInteractive('df-39abca5e-ac82-4707-884d-11bdf2c1e187')\"\n",
              "              title=\"Convert this dataframe to an interactive table.\"\n",
              "              style=\"display:none;\">\n",
              "        \n",
              "  <svg xmlns=\"http://www.w3.org/2000/svg\" height=\"24px\"viewBox=\"0 0 24 24\"\n",
              "       width=\"24px\">\n",
              "    <path d=\"M0 0h24v24H0V0z\" fill=\"none\"/>\n",
              "    <path d=\"M18.56 5.44l.94 2.06.94-2.06 2.06-.94-2.06-.94-.94-2.06-.94 2.06-2.06.94zm-11 1L8.5 8.5l.94-2.06 2.06-.94-2.06-.94L8.5 2.5l-.94 2.06-2.06.94zm10 10l.94 2.06.94-2.06 2.06-.94-2.06-.94-.94-2.06-.94 2.06-2.06.94z\"/><path d=\"M17.41 7.96l-1.37-1.37c-.4-.4-.92-.59-1.43-.59-.52 0-1.04.2-1.43.59L10.3 9.45l-7.72 7.72c-.78.78-.78 2.05 0 2.83L4 21.41c.39.39.9.59 1.41.59.51 0 1.02-.2 1.41-.59l7.78-7.78 2.81-2.81c.8-.78.8-2.07 0-2.86zM5.41 20L4 18.59l7.72-7.72 1.47 1.35L5.41 20z\"/>\n",
              "  </svg>\n",
              "      </button>\n",
              "      \n",
              "  <style>\n",
              "    .colab-df-container {\n",
              "      display:flex;\n",
              "      flex-wrap:wrap;\n",
              "      gap: 12px;\n",
              "    }\n",
              "\n",
              "    .colab-df-convert {\n",
              "      background-color: #E8F0FE;\n",
              "      border: none;\n",
              "      border-radius: 50%;\n",
              "      cursor: pointer;\n",
              "      display: none;\n",
              "      fill: #1967D2;\n",
              "      height: 32px;\n",
              "      padding: 0 0 0 0;\n",
              "      width: 32px;\n",
              "    }\n",
              "\n",
              "    .colab-df-convert:hover {\n",
              "      background-color: #E2EBFA;\n",
              "      box-shadow: 0px 1px 2px rgba(60, 64, 67, 0.3), 0px 1px 3px 1px rgba(60, 64, 67, 0.15);\n",
              "      fill: #174EA6;\n",
              "    }\n",
              "\n",
              "    [theme=dark] .colab-df-convert {\n",
              "      background-color: #3B4455;\n",
              "      fill: #D2E3FC;\n",
              "    }\n",
              "\n",
              "    [theme=dark] .colab-df-convert:hover {\n",
              "      background-color: #434B5C;\n",
              "      box-shadow: 0px 1px 3px 1px rgba(0, 0, 0, 0.15);\n",
              "      filter: drop-shadow(0px 1px 2px rgba(0, 0, 0, 0.3));\n",
              "      fill: #FFFFFF;\n",
              "    }\n",
              "  </style>\n",
              "\n",
              "      <script>\n",
              "        const buttonEl =\n",
              "          document.querySelector('#df-39abca5e-ac82-4707-884d-11bdf2c1e187 button.colab-df-convert');\n",
              "        buttonEl.style.display =\n",
              "          google.colab.kernel.accessAllowed ? 'block' : 'none';\n",
              "\n",
              "        async function convertToInteractive(key) {\n",
              "          const element = document.querySelector('#df-39abca5e-ac82-4707-884d-11bdf2c1e187');\n",
              "          const dataTable =\n",
              "            await google.colab.kernel.invokeFunction('convertToInteractive',\n",
              "                                                     [key], {});\n",
              "          if (!dataTable) return;\n",
              "\n",
              "          const docLinkHtml = 'Like what you see? Visit the ' +\n",
              "            '<a target=\"_blank\" href=https://colab.research.google.com/notebooks/data_table.ipynb>data table notebook</a>'\n",
              "            + ' to learn more about interactive tables.';\n",
              "          element.innerHTML = '';\n",
              "          dataTable['output_type'] = 'display_data';\n",
              "          await google.colab.output.renderOutput(dataTable, element);\n",
              "          const docLink = document.createElement('div');\n",
              "          docLink.innerHTML = docLinkHtml;\n",
              "          element.appendChild(docLink);\n",
              "        }\n",
              "      </script>\n",
              "    </div>\n",
              "  </div>\n",
              "  "
            ]
          },
          "metadata": {},
          "execution_count": 38
        }
      ]
    },
    {
      "cell_type": "code",
      "source": [
        "%%time\n",
        "plt.figure(figsize=(30,5))\n",
        "serie.temp_ar.plot()\n",
        "plt.xticks(fontsize=22)\n",
        "plt.yticks(fontsize=22)\n",
        "plt.xlabel('Período',size=22)\n",
        "plt.ylabel('Temperatura do ar',size=22)\n",
        "plt.title('Temperatura do ar',size=22)\n",
        "\n",
        "plt.savefig('data_temp_ar_conjunto_tratado_original.png', facecolor='white', transparent=False)  \n",
        "plt.show() \n",
        "plt.close()"
      ],
      "metadata": {
        "id": "FYAY-01a5TFh",
        "outputId": "b3a6c2ef-ef10-4b3e-bf9f-3cad0ca7259c",
        "colab": {
          "base_uri": "https://localhost:8080/",
          "height": 301
        }
      },
      "execution_count": 39,
      "outputs": [
        {
          "output_type": "display_data",
          "data": {
            "text/plain": [
              "<Figure size 2160x360 with 1 Axes>"
            ],
            "image/png": "[encoded data removed]"
          },
          "metadata": {
            "needs_background": "light"
          }
        },
        {
          "output_type": "stream",
          "name": "stdout",
          "text": [
            "CPU times: user 644 ms, sys: 57.1 ms, total: 701 ms\n",
            "Wall time: 1.15 s\n"
          ]
        }
      ]
    },
    {
      "cell_type": "code",
      "source": [
        "%%time\n",
        "plt.figure(figsize=(30,5))\n",
        "serie.umid_ar.plot()\n",
        "plt.xticks(fontsize=22)\n",
        "plt.yticks(fontsize=22)\n",
        "plt.xlabel('Período',size=22)\n",
        "plt.ylabel('Umidade do ar',size=22)\n",
        "plt.title('Umidade do ar',size=22)\n",
        "\n",
        "plt.savefig('data_umidade_ar_conjunto_tratado_original.png', facecolor='white', transparent=False)  \n",
        "plt.show() \n",
        "plt.close()"
      ],
      "metadata": {
        "colab": {
          "base_uri": "https://localhost:8080/",
          "height": 303
        },
        "id": "-L3aYySGyqCt",
        "outputId": "7592cece-74a3-41e5-910e-11d911d506f4"
      },
      "execution_count": 40,
      "outputs": [
        {
          "output_type": "display_data",
          "data": {
            "text/plain": [
              "<Figure size 2160x360 with 1 Axes>"
            ],
            "image/png": "[encoded data removed]"
          },
          "metadata": {
            "needs_background": "light"
          }
        },
        {
          "output_type": "stream",
          "name": "stdout",
          "text": [
            "CPU times: user 613 ms, sys: 41 ms, total: 654 ms\n",
            "Wall time: 863 ms\n"
          ]
        }
      ]
    },
    {
      "cell_type": "markdown",
      "source": [
        "# Agrupando dados a cada t minuto(s) utilizando a média"
      ],
      "metadata": {
        "id": "uZr7m-fVz5yj"
      }
    },
    {
      "cell_type": "markdown",
      "source": [
        "Definindo os minutos"
      ],
      "metadata": {
        "id": "j57OX5ChCBiG"
      }
    },
    {
      "cell_type": "code",
      "source": [
        "minutos = 30"
      ],
      "metadata": {
        "id": "vuVNvj0FCDSt"
      },
      "execution_count": 41,
      "outputs": []
    },
    {
      "cell_type": "markdown",
      "source": [
        "Setando a data como index"
      ],
      "metadata": {
        "id": "G4A0Txky02jI"
      }
    },
    {
      "cell_type": "code",
      "source": [
        "serie.set_index('data', inplace=True)"
      ],
      "metadata": {
        "id": "a4SinHUd78i3"
      },
      "execution_count": 42,
      "outputs": []
    },
    {
      "cell_type": "code",
      "source": [
        "serie"
      ],
      "metadata": {
        "id": "BXcNjjKx8ute",
        "outputId": "f9365ab9-4568-42dc-febf-765c46d3cd11",
        "colab": {
          "base_uri": "https://localhost:8080/",
          "height": 455
        }
      },
      "execution_count": 43,
      "outputs": [
        {
          "output_type": "execute_result",
          "data": {
            "text/plain": [
              "                     temp_ar  umid_ar\n",
              "data                                 \n",
              "2023-03-04 00:04:12    26.60    57.00\n",
              "2023-03-04 00:09:14    26.60    58.00\n",
              "2023-03-04 00:14:16    26.60    57.00\n",
              "2023-03-04 00:19:18    26.60    57.00\n",
              "2023-03-04 00:24:21    26.60    57.00\n",
              "...                      ...      ...\n",
              "2023-03-25 23:29:54    26.70    55.00\n",
              "2023-03-25 23:30:36    26.70    56.00\n",
              "2023-03-25 23:31:18    26.70    56.00\n",
              "2023-03-25 23:32:00    26.70    56.00\n",
              "2023-03-25 23:32:42    26.70    56.00\n",
              "\n",
              "[8747 rows x 2 columns]"
            ],
            "text/html": [
              "\n",
              "  <div id=\"df-b12862c2-c6f3-4f46-b3b7-321bbeb23a3b\">\n",
              "    <div class=\"colab-df-container\">\n",
              "      <div>\n",
              "<style scoped>\n",
              "    .dataframe tbody tr th:only-of-type {\n",
              "        vertical-align: middle;\n",
              "    }\n",
              "\n",
              "    .dataframe tbody tr th {\n",
              "        vertical-align: top;\n",
              "    }\n",
              "\n",
              "    .dataframe thead th {\n",
              "        text-align: right;\n",
              "    }\n",
              "</style>\n",
              "<table border=\"1\" class=\"dataframe\">\n",
              "  <thead>\n",
              "    <tr style=\"text-align: right;\">\n",
              "      <th></th>\n",
              "      <th>temp_ar</th>\n",
              "      <th>umid_ar</th>\n",
              "    </tr>\n",
              "    <tr>\n",
              "      <th>data</th>\n",
              "      <th></th>\n",
              "      <th></th>\n",
              "    </tr>\n",
              "  </thead>\n",
              "  <tbody>\n",
              "    <tr>\n",
              "      <th>2023-03-04 00:04:12</th>\n",
              "      <td>26.60</td>\n",
              "      <td>57.00</td>\n",
              "    </tr>\n",
              "    <tr>\n",
              "      <th>2023-03-04 00:09:14</th>\n",
              "      <td>26.60</td>\n",
              "      <td>58.00</td>\n",
              "    </tr>\n",
              "    <tr>\n",
              "      <th>2023-03-04 00:14:16</th>\n",
              "      <td>26.60</td>\n",
              "      <td>57.00</td>\n",
              "    </tr>\n",
              "    <tr>\n",
              "      <th>2023-03-04 00:19:18</th>\n",
              "      <td>26.60</td>\n",
              "      <td>57.00</td>\n",
              "    </tr>\n",
              "    <tr>\n",
              "      <th>2023-03-04 00:24:21</th>\n",
              "      <td>26.60</td>\n",
              "      <td>57.00</td>\n",
              "    </tr>\n",
              "    <tr>\n",
              "      <th>...</th>\n",
              "      <td>...</td>\n",
              "      <td>...</td>\n",
              "    </tr>\n",
              "    <tr>\n",
              "      <th>2023-03-25 23:29:54</th>\n",
              "      <td>26.70</td>\n",
              "      <td>55.00</td>\n",
              "    </tr>\n",
              "    <tr>\n",
              "      <th>2023-03-25 23:30:36</th>\n",
              "      <td>26.70</td>\n",
              "      <td>56.00</td>\n",
              "    </tr>\n",
              "    <tr>\n",
              "      <th>2023-03-25 23:31:18</th>\n",
              "      <td>26.70</td>\n",
              "      <td>56.00</td>\n",
              "    </tr>\n",
              "    <tr>\n",
              "      <th>2023-03-25 23:32:00</th>\n",
              "      <td>26.70</td>\n",
              "      <td>56.00</td>\n",
              "    </tr>\n",
              "    <tr>\n",
              "      <th>2023-03-25 23:32:42</th>\n",
              "      <td>26.70</td>\n",
              "      <td>56.00</td>\n",
              "    </tr>\n",
              "  </tbody>\n",
              "</table>\n",
              "<p>8747 rows × 2 columns</p>\n",
              "</div>\n",
              "      <button class=\"colab-df-convert\" onclick=\"convertToInteractive('df-b12862c2-c6f3-4f46-b3b7-321bbeb23a3b')\"\n",
              "              title=\"Convert this dataframe to an interactive table.\"\n",
              "              style=\"display:none;\">\n",
              "        \n",
              "  <svg xmlns=\"http://www.w3.org/2000/svg\" height=\"24px\"viewBox=\"0 0 24 24\"\n",
              "       width=\"24px\">\n",
              "    <path d=\"M0 0h24v24H0V0z\" fill=\"none\"/>\n",
              "    <path d=\"M18.56 5.44l.94 2.06.94-2.06 2.06-.94-2.06-.94-.94-2.06-.94 2.06-2.06.94zm-11 1L8.5 8.5l.94-2.06 2.06-.94-2.06-.94L8.5 2.5l-.94 2.06-2.06.94zm10 10l.94 2.06.94-2.06 2.06-.94-2.06-.94-.94-2.06-.94 2.06-2.06.94z\"/><path d=\"M17.41 7.96l-1.37-1.37c-.4-.4-.92-.59-1.43-.59-.52 0-1.04.2-1.43.59L10.3 9.45l-7.72 7.72c-.78.78-.78 2.05 0 2.83L4 21.41c.39.39.9.59 1.41.59.51 0 1.02-.2 1.41-.59l7.78-7.78 2.81-2.81c.8-.78.8-2.07 0-2.86zM5.41 20L4 18.59l7.72-7.72 1.47 1.35L5.41 20z\"/>\n",
              "  </svg>\n",
              "      </button>\n",
              "      \n",
              "  <style>\n",
              "    .colab-df-container {\n",
              "      display:flex;\n",
              "      flex-wrap:wrap;\n",
              "      gap: 12px;\n",
              "    }\n",
              "\n",
              "    .colab-df-convert {\n",
              "      background-color: #E8F0FE;\n",
              "      border: none;\n",
              "      border-radius: 50%;\n",
              "      cursor: pointer;\n",
              "      display: none;\n",
              "      fill: #1967D2;\n",
              "      height: 32px;\n",
              "      padding: 0 0 0 0;\n",
              "      width: 32px;\n",
              "    }\n",
              "\n",
              "    .colab-df-convert:hover {\n",
              "      background-color: #E2EBFA;\n",
              "      box-shadow: 0px 1px 2px rgba(60, 64, 67, 0.3), 0px 1px 3px 1px rgba(60, 64, 67, 0.15);\n",
              "      fill: #174EA6;\n",
              "    }\n",
              "\n",
              "    [theme=dark] .colab-df-convert {\n",
              "      background-color: #3B4455;\n",
              "      fill: #D2E3FC;\n",
              "    }\n",
              "\n",
              "    [theme=dark] .colab-df-convert:hover {\n",
              "      background-color: #434B5C;\n",
              "      box-shadow: 0px 1px 3px 1px rgba(0, 0, 0, 0.15);\n",
              "      filter: drop-shadow(0px 1px 2px rgba(0, 0, 0, 0.3));\n",
              "      fill: #FFFFFF;\n",
              "    }\n",
              "  </style>\n",
              "\n",
              "      <script>\n",
              "        const buttonEl =\n",
              "          document.querySelector('#df-b12862c2-c6f3-4f46-b3b7-321bbeb23a3b button.colab-df-convert');\n",
              "        buttonEl.style.display =\n",
              "          google.colab.kernel.accessAllowed ? 'block' : 'none';\n",
              "\n",
              "        async function convertToInteractive(key) {\n",
              "          const element = document.querySelector('#df-b12862c2-c6f3-4f46-b3b7-321bbeb23a3b');\n",
              "          const dataTable =\n",
              "            await google.colab.kernel.invokeFunction('convertToInteractive',\n",
              "                                                     [key], {});\n",
              "          if (!dataTable) return;\n",
              "\n",
              "          const docLinkHtml = 'Like what you see? Visit the ' +\n",
              "            '<a target=\"_blank\" href=https://colab.research.google.com/notebooks/data_table.ipynb>data table notebook</a>'\n",
              "            + ' to learn more about interactive tables.';\n",
              "          element.innerHTML = '';\n",
              "          dataTable['output_type'] = 'display_data';\n",
              "          await google.colab.output.renderOutput(dataTable, element);\n",
              "          const docLink = document.createElement('div');\n",
              "          docLink.innerHTML = docLinkHtml;\n",
              "          element.appendChild(docLink);\n",
              "        }\n",
              "      </script>\n",
              "    </div>\n",
              "  </div>\n",
              "  "
            ]
          },
          "metadata": {},
          "execution_count": 43
        }
      ]
    },
    {
      "cell_type": "markdown",
      "source": [
        "Agrupando os valores de data para cada t minuto(s) pela média"
      ],
      "metadata": {
        "id": "HpJJWbLo07J9"
      }
    },
    {
      "cell_type": "code",
      "source": [
        "%%time\n",
        "dados_agrupados_minutos = serie.resample(str(minutos) + 'T').mean()\n",
        "dados_agrupados_minutos.head()"
      ],
      "metadata": {
        "id": "9bp9YQUzzKY1",
        "outputId": "b39e7839-220a-4d4a-917d-235e871aab11",
        "colab": {
          "base_uri": "https://localhost:8080/",
          "height": 272
        }
      },
      "execution_count": 44,
      "outputs": [
        {
          "output_type": "stream",
          "name": "stdout",
          "text": [
            "CPU times: user 7.81 ms, sys: 978 µs, total: 8.78 ms\n",
            "Wall time: 44.6 ms\n"
          ]
        },
        {
          "output_type": "execute_result",
          "data": {
            "text/plain": [
              "                     temp_ar  umid_ar\n",
              "data                                 \n",
              "2023-03-04 00:00:00    26.60    57.17\n",
              "2023-03-04 00:30:00    26.60    58.00\n",
              "2023-03-04 01:00:00    26.60    58.00\n",
              "2023-03-04 01:30:00    26.58    57.60\n",
              "2023-03-04 02:00:00    26.60    57.83"
            ],
            "text/html": [
              "\n",
              "  <div id=\"df-a032277f-573c-488a-a983-416f371b0ed2\">\n",
              "    <div class=\"colab-df-container\">\n",
              "      <div>\n",
              "<style scoped>\n",
              "    .dataframe tbody tr th:only-of-type {\n",
              "        vertical-align: middle;\n",
              "    }\n",
              "\n",
              "    .dataframe tbody tr th {\n",
              "        vertical-align: top;\n",
              "    }\n",
              "\n",
              "    .dataframe thead th {\n",
              "        text-align: right;\n",
              "    }\n",
              "</style>\n",
              "<table border=\"1\" class=\"dataframe\">\n",
              "  <thead>\n",
              "    <tr style=\"text-align: right;\">\n",
              "      <th></th>\n",
              "      <th>temp_ar</th>\n",
              "      <th>umid_ar</th>\n",
              "    </tr>\n",
              "    <tr>\n",
              "      <th>data</th>\n",
              "      <th></th>\n",
              "      <th></th>\n",
              "    </tr>\n",
              "  </thead>\n",
              "  <tbody>\n",
              "    <tr>\n",
              "      <th>2023-03-04 00:00:00</th>\n",
              "      <td>26.60</td>\n",
              "      <td>57.17</td>\n",
              "    </tr>\n",
              "    <tr>\n",
              "      <th>2023-03-04 00:30:00</th>\n",
              "      <td>26.60</td>\n",
              "      <td>58.00</td>\n",
              "    </tr>\n",
              "    <tr>\n",
              "      <th>2023-03-04 01:00:00</th>\n",
              "      <td>26.60</td>\n",
              "      <td>58.00</td>\n",
              "    </tr>\n",
              "    <tr>\n",
              "      <th>2023-03-04 01:30:00</th>\n",
              "      <td>26.58</td>\n",
              "      <td>57.60</td>\n",
              "    </tr>\n",
              "    <tr>\n",
              "      <th>2023-03-04 02:00:00</th>\n",
              "      <td>26.60</td>\n",
              "      <td>57.83</td>\n",
              "    </tr>\n",
              "  </tbody>\n",
              "</table>\n",
              "</div>\n",
              "      <button class=\"colab-df-convert\" onclick=\"convertToInteractive('df-a032277f-573c-488a-a983-416f371b0ed2')\"\n",
              "              title=\"Convert this dataframe to an interactive table.\"\n",
              "              style=\"display:none;\">\n",
              "        \n",
              "  <svg xmlns=\"http://www.w3.org/2000/svg\" height=\"24px\"viewBox=\"0 0 24 24\"\n",
              "       width=\"24px\">\n",
              "    <path d=\"M0 0h24v24H0V0z\" fill=\"none\"/>\n",
              "    <path d=\"M18.56 5.44l.94 2.06.94-2.06 2.06-.94-2.06-.94-.94-2.06-.94 2.06-2.06.94zm-11 1L8.5 8.5l.94-2.06 2.06-.94-2.06-.94L8.5 2.5l-.94 2.06-2.06.94zm10 10l.94 2.06.94-2.06 2.06-.94-2.06-.94-.94-2.06-.94 2.06-2.06.94z\"/><path d=\"M17.41 7.96l-1.37-1.37c-.4-.4-.92-.59-1.43-.59-.52 0-1.04.2-1.43.59L10.3 9.45l-7.72 7.72c-.78.78-.78 2.05 0 2.83L4 21.41c.39.39.9.59 1.41.59.51 0 1.02-.2 1.41-.59l7.78-7.78 2.81-2.81c.8-.78.8-2.07 0-2.86zM5.41 20L4 18.59l7.72-7.72 1.47 1.35L5.41 20z\"/>\n",
              "  </svg>\n",
              "      </button>\n",
              "      \n",
              "  <style>\n",
              "    .colab-df-container {\n",
              "      display:flex;\n",
              "      flex-wrap:wrap;\n",
              "      gap: 12px;\n",
              "    }\n",
              "\n",
              "    .colab-df-convert {\n",
              "      background-color: #E8F0FE;\n",
              "      border: none;\n",
              "      border-radius: 50%;\n",
              "      cursor: pointer;\n",
              "      display: none;\n",
              "      fill: #1967D2;\n",
              "      height: 32px;\n",
              "      padding: 0 0 0 0;\n",
              "      width: 32px;\n",
              "    }\n",
              "\n",
              "    .colab-df-convert:hover {\n",
              "      background-color: #E2EBFA;\n",
              "      box-shadow: 0px 1px 2px rgba(60, 64, 67, 0.3), 0px 1px 3px 1px rgba(60, 64, 67, 0.15);\n",
              "      fill: #174EA6;\n",
              "    }\n",
              "\n",
              "    [theme=dark] .colab-df-convert {\n",
              "      background-color: #3B4455;\n",
              "      fill: #D2E3FC;\n",
              "    }\n",
              "\n",
              "    [theme=dark] .colab-df-convert:hover {\n",
              "      background-color: #434B5C;\n",
              "      box-shadow: 0px 1px 3px 1px rgba(0, 0, 0, 0.15);\n",
              "      filter: drop-shadow(0px 1px 2px rgba(0, 0, 0, 0.3));\n",
              "      fill: #FFFFFF;\n",
              "    }\n",
              "  </style>\n",
              "\n",
              "      <script>\n",
              "        const buttonEl =\n",
              "          document.querySelector('#df-a032277f-573c-488a-a983-416f371b0ed2 button.colab-df-convert');\n",
              "        buttonEl.style.display =\n",
              "          google.colab.kernel.accessAllowed ? 'block' : 'none';\n",
              "\n",
              "        async function convertToInteractive(key) {\n",
              "          const element = document.querySelector('#df-a032277f-573c-488a-a983-416f371b0ed2');\n",
              "          const dataTable =\n",
              "            await google.colab.kernel.invokeFunction('convertToInteractive',\n",
              "                                                     [key], {});\n",
              "          if (!dataTable) return;\n",
              "\n",
              "          const docLinkHtml = 'Like what you see? Visit the ' +\n",
              "            '<a target=\"_blank\" href=https://colab.research.google.com/notebooks/data_table.ipynb>data table notebook</a>'\n",
              "            + ' to learn more about interactive tables.';\n",
              "          element.innerHTML = '';\n",
              "          dataTable['output_type'] = 'display_data';\n",
              "          await google.colab.output.renderOutput(dataTable, element);\n",
              "          const docLink = document.createElement('div');\n",
              "          docLink.innerHTML = docLinkHtml;\n",
              "          element.appendChild(docLink);\n",
              "        }\n",
              "      </script>\n",
              "    </div>\n",
              "  </div>\n",
              "  "
            ]
          },
          "metadata": {},
          "execution_count": 44
        }
      ]
    },
    {
      "cell_type": "markdown",
      "source": [
        "Tamanho do conjunto gerado"
      ],
      "metadata": {
        "id": "1jp3S_9h1DuN"
      }
    },
    {
      "cell_type": "code",
      "source": [
        "dados_agrupados_minutos.shape"
      ],
      "metadata": {
        "colab": {
          "base_uri": "https://localhost:8080/"
        },
        "id": "1n1qwO5bz3Sk",
        "outputId": "9c1704e8-e7f2-4a34-cf38-aa36830a66b3"
      },
      "execution_count": 45,
      "outputs": [
        {
          "output_type": "execute_result",
          "data": {
            "text/plain": [
              "(1056, 2)"
            ]
          },
          "metadata": {},
          "execution_count": 45
        }
      ]
    },
    {
      "cell_type": "markdown",
      "source": [
        "Verificando nulos"
      ],
      "metadata": {
        "id": "YI744jKb1GFl"
      }
    },
    {
      "cell_type": "code",
      "source": [
        "dados_agrupados_minutos.isnull().sum()"
      ],
      "metadata": {
        "colab": {
          "base_uri": "https://localhost:8080/"
        },
        "id": "ezrI0MAbz5Mh",
        "outputId": "465cd791-9ed1-447f-bd6e-3d2908ad1e87"
      },
      "execution_count": 46,
      "outputs": [
        {
          "output_type": "execute_result",
          "data": {
            "text/plain": [
              "temp_ar    54\n",
              "umid_ar    54\n",
              "dtype: int64"
            ]
          },
          "metadata": {},
          "execution_count": 46
        }
      ]
    },
    {
      "cell_type": "markdown",
      "source": [
        "Preenchendo nulos com os valores anteriores"
      ],
      "metadata": {
        "id": "EveBdTwj1IjJ"
      }
    },
    {
      "cell_type": "code",
      "source": [
        "dados_agrupados_minutos.fillna(method=\"ffill\", inplace = True)"
      ],
      "metadata": {
        "id": "Tluy0suy1NF_"
      },
      "execution_count": 47,
      "outputs": []
    },
    {
      "cell_type": "markdown",
      "source": [
        "Verificando novamente os nulos"
      ],
      "metadata": {
        "id": "M7rX-w791e7G"
      }
    },
    {
      "cell_type": "code",
      "source": [
        "dados_agrupados_minutos.isnull().sum()"
      ],
      "metadata": {
        "colab": {
          "base_uri": "https://localhost:8080/"
        },
        "id": "qSabStUV1hAy",
        "outputId": "8b191be6-c01d-4462-fc06-e87fb9f36573"
      },
      "execution_count": 48,
      "outputs": [
        {
          "output_type": "execute_result",
          "data": {
            "text/plain": [
              "temp_ar    0\n",
              "umid_ar    0\n",
              "dtype: int64"
            ]
          },
          "metadata": {},
          "execution_count": 48
        }
      ]
    },
    {
      "cell_type": "markdown",
      "source": [
        "# Gráficos"
      ],
      "metadata": {
        "id": "yXWdwsZnnRgc"
      }
    },
    {
      "cell_type": "code",
      "source": [
        "%%time\n",
        "plt.figure(figsize=(30,10))\n",
        "dados_agrupados_minutos['temp_ar'].plot()\n",
        "plt.xticks(fontsize=22)\n",
        "plt.yticks(fontsize=22)\n",
        "plt.xlabel('Medição',size=16)\n",
        "plt.ylabel('Temperatura',size=16)\n",
        "plt.title(f'Temperatura - Dados agrupados de {minutos} em {minutos} minutos pela média',size=22)\n",
        "\n",
        "plt.savefig(f'data_temperatura_ar_conjunto_dados_agrupados_{minutos}_minutos.png', facecolor='white', transparent=False)  \n",
        "plt.show() \n",
        "plt.close()\n",
        "\n",
        "plt.show()"
      ],
      "metadata": {
        "colab": {
          "base_uri": "https://localhost:8080/",
          "height": 527
        },
        "id": "GRIjMOGAnKas",
        "outputId": "cb47bb6c-05e0-4c2a-85d3-259569693dd9"
      },
      "execution_count": 49,
      "outputs": [
        {
          "output_type": "display_data",
          "data": {
            "text/plain": [
              "<Figure size 2160x720 with 1 Axes>"
            ],
            "image/png": "[encoded data removed]"
          },
          "metadata": {
            "needs_background": "light"
          }
        },
        {
          "output_type": "stream",
          "name": "stdout",
          "text": [
            "CPU times: user 1.04 s, sys: 70.3 ms, total: 1.11 s\n",
            "Wall time: 1.42 s\n"
          ]
        }
      ]
    },
    {
      "cell_type": "code",
      "source": [
        "%%time\n",
        "plt.figure(figsize=(30,10))\n",
        "dados_agrupados_minutos['umid_ar'].plot()\n",
        "plt.xticks(fontsize=22)\n",
        "plt.yticks(fontsize=22)\n",
        "plt.xlabel('Medição',size=22)\n",
        "plt.ylabel('Umidade',size=22)\n",
        "plt.title(f'Umidade do ar - Dados agrupados de {minutos} em {minutos} minutos pela média',size=22)\n",
        "\n",
        "plt.savefig(f'data_umidade_ar_conjunto_dados_agrupados_{minutos}_minutos.png', facecolor='white', transparent=False)  \n",
        "plt.show() \n",
        "plt.close()\n",
        "\n",
        "plt.show()"
      ],
      "metadata": {
        "id": "azhXIcYt07CW",
        "outputId": "c6836dc2-1fcc-4212-f42a-36b300ea1fb5",
        "colab": {
          "base_uri": "https://localhost:8080/",
          "height": 529
        }
      },
      "execution_count": 50,
      "outputs": [
        {
          "output_type": "display_data",
          "data": {
            "text/plain": [
              "<Figure size 2160x720 with 1 Axes>"
            ],
            "image/png": "[encoded data removed]"
          },
          "metadata": {
            "needs_background": "light"
          }
        },
        {
          "output_type": "stream",
          "name": "stdout",
          "text": [
            "CPU times: user 1.15 s, sys: 57.5 ms, total: 1.2 s\n",
            "Wall time: 2.3 s\n"
          ]
        }
      ]
    }
  ]
}