{
  "nbformat": 4,
  "nbformat_minor": 0,
  "metadata": {
    "colab": {
      "provenance": [],
      "authorship_tag": "ABX9TyMKsNEAel0I6BLqnnaEQUOc",
      "include_colab_link": true
    },
    "kernelspec": {
      "name": "python3",
      "display_name": "Python 3"
    },
    "language_info": {
      "name": "python"
    }
  },
  "cells": [
    {
      "cell_type": "markdown",
      "metadata": {
        "id": "view-in-github",
        "colab_type": "text"
      },
      "source": [
        "<a href=\"https://colab.research.google.com/github/casjunior93/projeto-integrador-iv/blob/main/PI_IV_Rede_neural.ipynb\" target=\"_parent\"><img src=\"https://colab.research.google.com/assets/colab-badge.svg\" alt=\"Open In Colab\"/></a>"
      ]
    },
    {
      "cell_type": "markdown",
      "source": [
        "# Bibliotecas fundamentais"
      ],
      "metadata": {
        "id": "YjLkvUGF7rTw"
      }
    },
    {
      "cell_type": "code",
      "execution_count": 1,
      "metadata": {
        "id": "fLtNQ-6Z7ntn"
      },
      "outputs": [],
      "source": [
        "import numpy as np\n",
        "import pandas as pd\n",
        "import seaborn as sns\n",
        "import matplotlib.pyplot as plt\n",
        "import warnings\n",
        "from datetime import datetime\n",
        "warnings.filterwarnings('ignore')\n",
        "import scipy.stats as stats\n",
        "\n",
        "#Configura o pandas para não exibir resultados em notação científica\n",
        "pd.options.display.float_format = '{:.2f}'.format\n",
        "\n",
        "#Semente aleatória do Numpy\n",
        "np.random.seed(42)\n",
        "\n",
        "#Data local\n",
        "import locale\n",
        "# Colab não suporta\n",
        "#locale.setlocale(locale.LC_ALL, 'pt_BR.utf8')"
      ]
    },
    {
      "cell_type": "markdown",
      "source": [
        "# URL base da api de dados"
      ],
      "metadata": {
        "id": "MJZIOeRf701x"
      }
    },
    {
      "cell_type": "code",
      "source": [
        "url_base = 'https://univesp-analytics.vercel.app/api/get'"
      ],
      "metadata": {
        "id": "nzRtWNyy7wPX"
      },
      "execution_count": 2,
      "outputs": []
    },
    {
      "cell_type": "markdown",
      "source": [
        "# Lendo Json com Pandas"
      ],
      "metadata": {
        "id": "ZWfmdbgd76MW"
      }
    },
    {
      "cell_type": "code",
      "source": [
        "import urllib.request, json \n",
        "from pandas.io.json import json_normalize\n",
        "\n",
        "pagina = 1\n",
        "limite = 10000"
      ],
      "metadata": {
        "id": "mmZiNA-v757G"
      },
      "execution_count": 3,
      "outputs": []
    },
    {
      "cell_type": "code",
      "source": [
        "%%time\n",
        "fim_iteracao_api = False\n",
        "df_dados_api_original = pd.DataFrame([])\n",
        "\n",
        "print(f'Início das requisições')\n",
        "while fim_iteracao_api == False:\n",
        "  with urllib.request.urlopen(url_base + '?page=' + str(pagina) + '&limite=' + str(limite)) as url:\n",
        "    data = json.loads(url.read().decode())\n",
        "    df = pd.DataFrame(json_normalize(data))\n",
        "    if len(data) == 0:\n",
        "      print(f'Fim. Total de {pagina - 1} páginas.')\n",
        "      fim_iteracao_api = True\n",
        "    else:\n",
        "      df_dados_api_original = pd.concat([df_dados_api_original, df], ignore_index = True)\n",
        "      print('.',end='')\n",
        "      pagina += 1"
      ],
      "metadata": {
        "colab": {
          "base_uri": "https://localhost:8080/"
        },
        "id": "kjur3Io978_L",
        "outputId": "c2c980ed-a941-464d-d037-9104990cbaa7"
      },
      "execution_count": 4,
      "outputs": [
        {
          "output_type": "stream",
          "name": "stdout",
          "text": [
            "Início das requisições\n",
            "........Fim. Total de 8 páginas.\n",
            "CPU times: user 1.62 s, sys: 139 ms, total: 1.76 s\n",
            "Wall time: 19.7 s\n"
          ]
        }
      ]
    },
    {
      "cell_type": "markdown",
      "source": [
        "Cópia dos dados da api"
      ],
      "metadata": {
        "id": "GwEJlfr28Deg"
      }
    },
    {
      "cell_type": "code",
      "source": [
        "df_dados_api = df_dados_api_original.copy()"
      ],
      "metadata": {
        "id": "dv1Go1UL8Fwz"
      },
      "execution_count": 5,
      "outputs": []
    },
    {
      "cell_type": "markdown",
      "source": [
        "Dimensão dos dados - Linhas, colunas"
      ],
      "metadata": {
        "id": "6735mr7d8P1c"
      }
    },
    {
      "cell_type": "code",
      "source": [
        "df_dados_api.shape"
      ],
      "metadata": {
        "colab": {
          "base_uri": "https://localhost:8080/"
        },
        "id": "Tp937BzL8JVn",
        "outputId": "0203bdc0-3c48-47a0-91b9-156ce873278f"
      },
      "execution_count": 6,
      "outputs": [
        {
          "output_type": "execute_result",
          "data": {
            "text/plain": [
              "(77370, 9)"
            ]
          },
          "metadata": {},
          "execution_count": 6
        }
      ]
    },
    {
      "cell_type": "markdown",
      "source": [
        "# Visualizando dados originais"
      ],
      "metadata": {
        "id": "pCI15HN78UTA"
      }
    },
    {
      "cell_type": "markdown",
      "source": [
        "Mudando ordenação dos dados"
      ],
      "metadata": {
        "id": "BEhDJI0F8Ycp"
      }
    },
    {
      "cell_type": "code",
      "source": [
        "df_dados_api.sort_index(ascending=False, inplace=True, ignore_index=True)"
      ],
      "metadata": {
        "id": "vLq_0jmW8SJ_"
      },
      "execution_count": 7,
      "outputs": []
    },
    {
      "cell_type": "code",
      "source": [
        "df_dados_api.head()"
      ],
      "metadata": {
        "colab": {
          "base_uri": "https://localhost:8080/",
          "height": 206
        },
        "id": "Ux-mikVk8bmn",
        "outputId": "f5e76449-014b-40ee-d92e-315b25902153"
      },
      "execution_count": 8,
      "outputs": [
        {
          "output_type": "execute_result",
          "data": {
            "text/plain": [
              "                        _id temp_ar umid_ar   type local  \\\n",
              "0  63fea0720dd58484fc266c80     NaN     NaN    NaN   NaN   \n",
              "1  63ffdbb91a4eb0dfdd6a11a7       2       3  teste   NaN   \n",
              "2  63ffdbde1a4eb0dfdd6a11a8      10      10  teste   NaN   \n",
              "3  63ffdea6722bef68acc5bb72     333     333  teste   NaN   \n",
              "4  63ffed2b38c8784e07b788f2      15      15  teste   NaN   \n",
              "\n",
              "               time.time_js   time.data time.hora  teste  \n",
              "0                       NaN         NaN       NaN 123.00  \n",
              "1  2023-03-01T23:11:53.036Z  01/03/2023  20:11:53    NaN  \n",
              "2  2023-03-01T23:12:30.063Z  01/03/2023  20:12:30    NaN  \n",
              "3  2023-03-01T23:24:21.438Z  01/03/2023  23:24:21    NaN  \n",
              "4       01/03/2023 21:26:19  01/03/2023  21:26:19    NaN  "
            ],
            "text/html": [
              "\n",
              "  <div id=\"df-59696949-9347-4cb6-a8e3-2aa555de7ea3\">\n",
              "    <div class=\"colab-df-container\">\n",
              "      <div>\n",
              "<style scoped>\n",
              "    .dataframe tbody tr th:only-of-type {\n",
              "        vertical-align: middle;\n",
              "    }\n",
              "\n",
              "    .dataframe tbody tr th {\n",
              "        vertical-align: top;\n",
              "    }\n",
              "\n",
              "    .dataframe thead th {\n",
              "        text-align: right;\n",
              "    }\n",
              "</style>\n",
              "<table border=\"1\" class=\"dataframe\">\n",
              "  <thead>\n",
              "    <tr style=\"text-align: right;\">\n",
              "      <th></th>\n",
              "      <th>_id</th>\n",
              "      <th>temp_ar</th>\n",
              "      <th>umid_ar</th>\n",
              "      <th>type</th>\n",
              "      <th>local</th>\n",
              "      <th>time.time_js</th>\n",
              "      <th>time.data</th>\n",
              "      <th>time.hora</th>\n",
              "      <th>teste</th>\n",
              "    </tr>\n",
              "  </thead>\n",
              "  <tbody>\n",
              "    <tr>\n",
              "      <th>0</th>\n",
              "      <td>63fea0720dd58484fc266c80</td>\n",
              "      <td>NaN</td>\n",
              "      <td>NaN</td>\n",
              "      <td>NaN</td>\n",
              "      <td>NaN</td>\n",
              "      <td>NaN</td>\n",
              "      <td>NaN</td>\n",
              "      <td>NaN</td>\n",
              "      <td>123.00</td>\n",
              "    </tr>\n",
              "    <tr>\n",
              "      <th>1</th>\n",
              "      <td>63ffdbb91a4eb0dfdd6a11a7</td>\n",
              "      <td>2</td>\n",
              "      <td>3</td>\n",
              "      <td>teste</td>\n",
              "      <td>NaN</td>\n",
              "      <td>2023-03-01T23:11:53.036Z</td>\n",
              "      <td>01/03/2023</td>\n",
              "      <td>20:11:53</td>\n",
              "      <td>NaN</td>\n",
              "    </tr>\n",
              "    <tr>\n",
              "      <th>2</th>\n",
              "      <td>63ffdbde1a4eb0dfdd6a11a8</td>\n",
              "      <td>10</td>\n",
              "      <td>10</td>\n",
              "      <td>teste</td>\n",
              "      <td>NaN</td>\n",
              "      <td>2023-03-01T23:12:30.063Z</td>\n",
              "      <td>01/03/2023</td>\n",
              "      <td>20:12:30</td>\n",
              "      <td>NaN</td>\n",
              "    </tr>\n",
              "    <tr>\n",
              "      <th>3</th>\n",
              "      <td>63ffdea6722bef68acc5bb72</td>\n",
              "      <td>333</td>\n",
              "      <td>333</td>\n",
              "      <td>teste</td>\n",
              "      <td>NaN</td>\n",
              "      <td>2023-03-01T23:24:21.438Z</td>\n",
              "      <td>01/03/2023</td>\n",
              "      <td>23:24:21</td>\n",
              "      <td>NaN</td>\n",
              "    </tr>\n",
              "    <tr>\n",
              "      <th>4</th>\n",
              "      <td>63ffed2b38c8784e07b788f2</td>\n",
              "      <td>15</td>\n",
              "      <td>15</td>\n",
              "      <td>teste</td>\n",
              "      <td>NaN</td>\n",
              "      <td>01/03/2023 21:26:19</td>\n",
              "      <td>01/03/2023</td>\n",
              "      <td>21:26:19</td>\n",
              "      <td>NaN</td>\n",
              "    </tr>\n",
              "  </tbody>\n",
              "</table>\n",
              "</div>\n",
              "      <button class=\"colab-df-convert\" onclick=\"convertToInteractive('df-59696949-9347-4cb6-a8e3-2aa555de7ea3')\"\n",
              "              title=\"Convert this dataframe to an interactive table.\"\n",
              "              style=\"display:none;\">\n",
              "        \n",
              "  <svg xmlns=\"http://www.w3.org/2000/svg\" height=\"24px\"viewBox=\"0 0 24 24\"\n",
              "       width=\"24px\">\n",
              "    <path d=\"M0 0h24v24H0V0z\" fill=\"none\"/>\n",
              "    <path d=\"M18.56 5.44l.94 2.06.94-2.06 2.06-.94-2.06-.94-.94-2.06-.94 2.06-2.06.94zm-11 1L8.5 8.5l.94-2.06 2.06-.94-2.06-.94L8.5 2.5l-.94 2.06-2.06.94zm10 10l.94 2.06.94-2.06 2.06-.94-2.06-.94-.94-2.06-.94 2.06-2.06.94z\"/><path d=\"M17.41 7.96l-1.37-1.37c-.4-.4-.92-.59-1.43-.59-.52 0-1.04.2-1.43.59L10.3 9.45l-7.72 7.72c-.78.78-.78 2.05 0 2.83L4 21.41c.39.39.9.59 1.41.59.51 0 1.02-.2 1.41-.59l7.78-7.78 2.81-2.81c.8-.78.8-2.07 0-2.86zM5.41 20L4 18.59l7.72-7.72 1.47 1.35L5.41 20z\"/>\n",
              "  </svg>\n",
              "      </button>\n",
              "      \n",
              "  <style>\n",
              "    .colab-df-container {\n",
              "      display:flex;\n",
              "      flex-wrap:wrap;\n",
              "      gap: 12px;\n",
              "    }\n",
              "\n",
              "    .colab-df-convert {\n",
              "      background-color: #E8F0FE;\n",
              "      border: none;\n",
              "      border-radius: 50%;\n",
              "      cursor: pointer;\n",
              "      display: none;\n",
              "      fill: #1967D2;\n",
              "      height: 32px;\n",
              "      padding: 0 0 0 0;\n",
              "      width: 32px;\n",
              "    }\n",
              "\n",
              "    .colab-df-convert:hover {\n",
              "      background-color: #E2EBFA;\n",
              "      box-shadow: 0px 1px 2px rgba(60, 64, 67, 0.3), 0px 1px 3px 1px rgba(60, 64, 67, 0.15);\n",
              "      fill: #174EA6;\n",
              "    }\n",
              "\n",
              "    [theme=dark] .colab-df-convert {\n",
              "      background-color: #3B4455;\n",
              "      fill: #D2E3FC;\n",
              "    }\n",
              "\n",
              "    [theme=dark] .colab-df-convert:hover {\n",
              "      background-color: #434B5C;\n",
              "      box-shadow: 0px 1px 3px 1px rgba(0, 0, 0, 0.15);\n",
              "      filter: drop-shadow(0px 1px 2px rgba(0, 0, 0, 0.3));\n",
              "      fill: #FFFFFF;\n",
              "    }\n",
              "  </style>\n",
              "\n",
              "      <script>\n",
              "        const buttonEl =\n",
              "          document.querySelector('#df-59696949-9347-4cb6-a8e3-2aa555de7ea3 button.colab-df-convert');\n",
              "        buttonEl.style.display =\n",
              "          google.colab.kernel.accessAllowed ? 'block' : 'none';\n",
              "\n",
              "        async function convertToInteractive(key) {\n",
              "          const element = document.querySelector('#df-59696949-9347-4cb6-a8e3-2aa555de7ea3');\n",
              "          const dataTable =\n",
              "            await google.colab.kernel.invokeFunction('convertToInteractive',\n",
              "                                                     [key], {});\n",
              "          if (!dataTable) return;\n",
              "\n",
              "          const docLinkHtml = 'Like what you see? Visit the ' +\n",
              "            '<a target=\"_blank\" href=https://colab.research.google.com/notebooks/data_table.ipynb>data table notebook</a>'\n",
              "            + ' to learn more about interactive tables.';\n",
              "          element.innerHTML = '';\n",
              "          dataTable['output_type'] = 'display_data';\n",
              "          await google.colab.output.renderOutput(dataTable, element);\n",
              "          const docLink = document.createElement('div');\n",
              "          docLink.innerHTML = docLinkHtml;\n",
              "          element.appendChild(docLink);\n",
              "        }\n",
              "      </script>\n",
              "    </div>\n",
              "  </div>\n",
              "  "
            ]
          },
          "metadata": {},
          "execution_count": 8
        }
      ]
    },
    {
      "cell_type": "code",
      "source": [
        "df_dados_api.tail()"
      ],
      "metadata": {
        "colab": {
          "base_uri": "https://localhost:8080/",
          "height": 206
        },
        "id": "FwnCGlEM8pWH",
        "outputId": "b1e363e7-3c2f-4df4-a3af-c9ed4cb294f2"
      },
      "execution_count": 9,
      "outputs": [
        {
          "output_type": "execute_result",
          "data": {
            "text/plain": [
              "                            _id temp_ar umid_ar   type  local  \\\n",
              "77365  64486c27fc14cad3669fbf8c   24.60   66.70  teste  semAr   \n",
              "77366  64486d34fc14cad3669fbf8d   24.70   55.90  teste  comAr   \n",
              "77367  64486d55fc14cad3669fbf8e   24.60   66.50  teste  semAr   \n",
              "77368  64486e62fc14cad3669fbf8f   24.70   56.40  teste  comAr   \n",
              "77369  64486e83fc14cad3669fbf90   24.60   66.40  teste  semAr   \n",
              "\n",
              "               time.time_js    time.data time.hora  teste  \n",
              "77365  25/04/2023, 21:11:19  25/04/2023,  21:11:19    NaN  \n",
              "77366  25/04/2023, 21:15:48  25/04/2023,  21:15:48    NaN  \n",
              "77367  25/04/2023, 21:16:21  25/04/2023,  21:16:21    NaN  \n",
              "77368  25/04/2023, 21:20:50  25/04/2023,  21:20:50    NaN  \n",
              "77369  25/04/2023, 21:21:23  25/04/2023,  21:21:23    NaN  "
            ],
            "text/html": [
              "\n",
              "  <div id=\"df-8da9f506-40fa-44ff-bebc-28e26510e8aa\">\n",
              "    <div class=\"colab-df-container\">\n",
              "      <div>\n",
              "<style scoped>\n",
              "    .dataframe tbody tr th:only-of-type {\n",
              "        vertical-align: middle;\n",
              "    }\n",
              "\n",
              "    .dataframe tbody tr th {\n",
              "        vertical-align: top;\n",
              "    }\n",
              "\n",
              "    .dataframe thead th {\n",
              "        text-align: right;\n",
              "    }\n",
              "</style>\n",
              "<table border=\"1\" class=\"dataframe\">\n",
              "  <thead>\n",
              "    <tr style=\"text-align: right;\">\n",
              "      <th></th>\n",
              "      <th>_id</th>\n",
              "      <th>temp_ar</th>\n",
              "      <th>umid_ar</th>\n",
              "      <th>type</th>\n",
              "      <th>local</th>\n",
              "      <th>time.time_js</th>\n",
              "      <th>time.data</th>\n",
              "      <th>time.hora</th>\n",
              "      <th>teste</th>\n",
              "    </tr>\n",
              "  </thead>\n",
              "  <tbody>\n",
              "    <tr>\n",
              "      <th>77365</th>\n",
              "      <td>64486c27fc14cad3669fbf8c</td>\n",
              "      <td>24.60</td>\n",
              "      <td>66.70</td>\n",
              "      <td>teste</td>\n",
              "      <td>semAr</td>\n",
              "      <td>25/04/2023, 21:11:19</td>\n",
              "      <td>25/04/2023,</td>\n",
              "      <td>21:11:19</td>\n",
              "      <td>NaN</td>\n",
              "    </tr>\n",
              "    <tr>\n",
              "      <th>77366</th>\n",
              "      <td>64486d34fc14cad3669fbf8d</td>\n",
              "      <td>24.70</td>\n",
              "      <td>55.90</td>\n",
              "      <td>teste</td>\n",
              "      <td>comAr</td>\n",
              "      <td>25/04/2023, 21:15:48</td>\n",
              "      <td>25/04/2023,</td>\n",
              "      <td>21:15:48</td>\n",
              "      <td>NaN</td>\n",
              "    </tr>\n",
              "    <tr>\n",
              "      <th>77367</th>\n",
              "      <td>64486d55fc14cad3669fbf8e</td>\n",
              "      <td>24.60</td>\n",
              "      <td>66.50</td>\n",
              "      <td>teste</td>\n",
              "      <td>semAr</td>\n",
              "      <td>25/04/2023, 21:16:21</td>\n",
              "      <td>25/04/2023,</td>\n",
              "      <td>21:16:21</td>\n",
              "      <td>NaN</td>\n",
              "    </tr>\n",
              "    <tr>\n",
              "      <th>77368</th>\n",
              "      <td>64486e62fc14cad3669fbf8f</td>\n",
              "      <td>24.70</td>\n",
              "      <td>56.40</td>\n",
              "      <td>teste</td>\n",
              "      <td>comAr</td>\n",
              "      <td>25/04/2023, 21:20:50</td>\n",
              "      <td>25/04/2023,</td>\n",
              "      <td>21:20:50</td>\n",
              "      <td>NaN</td>\n",
              "    </tr>\n",
              "    <tr>\n",
              "      <th>77369</th>\n",
              "      <td>64486e83fc14cad3669fbf90</td>\n",
              "      <td>24.60</td>\n",
              "      <td>66.40</td>\n",
              "      <td>teste</td>\n",
              "      <td>semAr</td>\n",
              "      <td>25/04/2023, 21:21:23</td>\n",
              "      <td>25/04/2023,</td>\n",
              "      <td>21:21:23</td>\n",
              "      <td>NaN</td>\n",
              "    </tr>\n",
              "  </tbody>\n",
              "</table>\n",
              "</div>\n",
              "      <button class=\"colab-df-convert\" onclick=\"convertToInteractive('df-8da9f506-40fa-44ff-bebc-28e26510e8aa')\"\n",
              "              title=\"Convert this dataframe to an interactive table.\"\n",
              "              style=\"display:none;\">\n",
              "        \n",
              "  <svg xmlns=\"http://www.w3.org/2000/svg\" height=\"24px\"viewBox=\"0 0 24 24\"\n",
              "       width=\"24px\">\n",
              "    <path d=\"M0 0h24v24H0V0z\" fill=\"none\"/>\n",
              "    <path d=\"M18.56 5.44l.94 2.06.94-2.06 2.06-.94-2.06-.94-.94-2.06-.94 2.06-2.06.94zm-11 1L8.5 8.5l.94-2.06 2.06-.94-2.06-.94L8.5 2.5l-.94 2.06-2.06.94zm10 10l.94 2.06.94-2.06 2.06-.94-2.06-.94-.94-2.06-.94 2.06-2.06.94z\"/><path d=\"M17.41 7.96l-1.37-1.37c-.4-.4-.92-.59-1.43-.59-.52 0-1.04.2-1.43.59L10.3 9.45l-7.72 7.72c-.78.78-.78 2.05 0 2.83L4 21.41c.39.39.9.59 1.41.59.51 0 1.02-.2 1.41-.59l7.78-7.78 2.81-2.81c.8-.78.8-2.07 0-2.86zM5.41 20L4 18.59l7.72-7.72 1.47 1.35L5.41 20z\"/>\n",
              "  </svg>\n",
              "      </button>\n",
              "      \n",
              "  <style>\n",
              "    .colab-df-container {\n",
              "      display:flex;\n",
              "      flex-wrap:wrap;\n",
              "      gap: 12px;\n",
              "    }\n",
              "\n",
              "    .colab-df-convert {\n",
              "      background-color: #E8F0FE;\n",
              "      border: none;\n",
              "      border-radius: 50%;\n",
              "      cursor: pointer;\n",
              "      display: none;\n",
              "      fill: #1967D2;\n",
              "      height: 32px;\n",
              "      padding: 0 0 0 0;\n",
              "      width: 32px;\n",
              "    }\n",
              "\n",
              "    .colab-df-convert:hover {\n",
              "      background-color: #E2EBFA;\n",
              "      box-shadow: 0px 1px 2px rgba(60, 64, 67, 0.3), 0px 1px 3px 1px rgba(60, 64, 67, 0.15);\n",
              "      fill: #174EA6;\n",
              "    }\n",
              "\n",
              "    [theme=dark] .colab-df-convert {\n",
              "      background-color: #3B4455;\n",
              "      fill: #D2E3FC;\n",
              "    }\n",
              "\n",
              "    [theme=dark] .colab-df-convert:hover {\n",
              "      background-color: #434B5C;\n",
              "      box-shadow: 0px 1px 3px 1px rgba(0, 0, 0, 0.15);\n",
              "      filter: drop-shadow(0px 1px 2px rgba(0, 0, 0, 0.3));\n",
              "      fill: #FFFFFF;\n",
              "    }\n",
              "  </style>\n",
              "\n",
              "      <script>\n",
              "        const buttonEl =\n",
              "          document.querySelector('#df-8da9f506-40fa-44ff-bebc-28e26510e8aa button.colab-df-convert');\n",
              "        buttonEl.style.display =\n",
              "          google.colab.kernel.accessAllowed ? 'block' : 'none';\n",
              "\n",
              "        async function convertToInteractive(key) {\n",
              "          const element = document.querySelector('#df-8da9f506-40fa-44ff-bebc-28e26510e8aa');\n",
              "          const dataTable =\n",
              "            await google.colab.kernel.invokeFunction('convertToInteractive',\n",
              "                                                     [key], {});\n",
              "          if (!dataTable) return;\n",
              "\n",
              "          const docLinkHtml = 'Like what you see? Visit the ' +\n",
              "            '<a target=\"_blank\" href=https://colab.research.google.com/notebooks/data_table.ipynb>data table notebook</a>'\n",
              "            + ' to learn more about interactive tables.';\n",
              "          element.innerHTML = '';\n",
              "          dataTable['output_type'] = 'display_data';\n",
              "          await google.colab.output.renderOutput(dataTable, element);\n",
              "          const docLink = document.createElement('div');\n",
              "          docLink.innerHTML = docLinkHtml;\n",
              "          element.appendChild(docLink);\n",
              "        }\n",
              "      </script>\n",
              "    </div>\n",
              "  </div>\n",
              "  "
            ]
          },
          "metadata": {},
          "execution_count": 9
        }
      ]
    },
    {
      "cell_type": "markdown",
      "source": [
        "Excluindo colunas desnecessárias"
      ],
      "metadata": {
        "id": "xLNaUP3j8vMY"
      }
    },
    {
      "cell_type": "code",
      "source": [
        "del df_dados_api['teste']\n",
        "del df_dados_api['_id']\n",
        "del df_dados_api['type']\n",
        "del df_dados_api['time.time_js']\n",
        "df_dados_api.head()"
      ],
      "metadata": {
        "colab": {
          "base_uri": "https://localhost:8080/",
          "height": 206
        },
        "id": "RqrPMgHf8sSR",
        "outputId": "33983b81-d69b-4b2c-ad28-d941d345a9e2"
      },
      "execution_count": 10,
      "outputs": [
        {
          "output_type": "execute_result",
          "data": {
            "text/plain": [
              "  temp_ar umid_ar local   time.data time.hora\n",
              "0     NaN     NaN   NaN         NaN       NaN\n",
              "1       2       3   NaN  01/03/2023  20:11:53\n",
              "2      10      10   NaN  01/03/2023  20:12:30\n",
              "3     333     333   NaN  01/03/2023  23:24:21\n",
              "4      15      15   NaN  01/03/2023  21:26:19"
            ],
            "text/html": [
              "\n",
              "  <div id=\"df-1e8f577b-fdd5-4f75-ae46-ebd6fff95274\">\n",
              "    <div class=\"colab-df-container\">\n",
              "      <div>\n",
              "<style scoped>\n",
              "    .dataframe tbody tr th:only-of-type {\n",
              "        vertical-align: middle;\n",
              "    }\n",
              "\n",
              "    .dataframe tbody tr th {\n",
              "        vertical-align: top;\n",
              "    }\n",
              "\n",
              "    .dataframe thead th {\n",
              "        text-align: right;\n",
              "    }\n",
              "</style>\n",
              "<table border=\"1\" class=\"dataframe\">\n",
              "  <thead>\n",
              "    <tr style=\"text-align: right;\">\n",
              "      <th></th>\n",
              "      <th>temp_ar</th>\n",
              "      <th>umid_ar</th>\n",
              "      <th>local</th>\n",
              "      <th>time.data</th>\n",
              "      <th>time.hora</th>\n",
              "    </tr>\n",
              "  </thead>\n",
              "  <tbody>\n",
              "    <tr>\n",
              "      <th>0</th>\n",
              "      <td>NaN</td>\n",
              "      <td>NaN</td>\n",
              "      <td>NaN</td>\n",
              "      <td>NaN</td>\n",
              "      <td>NaN</td>\n",
              "    </tr>\n",
              "    <tr>\n",
              "      <th>1</th>\n",
              "      <td>2</td>\n",
              "      <td>3</td>\n",
              "      <td>NaN</td>\n",
              "      <td>01/03/2023</td>\n",
              "      <td>20:11:53</td>\n",
              "    </tr>\n",
              "    <tr>\n",
              "      <th>2</th>\n",
              "      <td>10</td>\n",
              "      <td>10</td>\n",
              "      <td>NaN</td>\n",
              "      <td>01/03/2023</td>\n",
              "      <td>20:12:30</td>\n",
              "    </tr>\n",
              "    <tr>\n",
              "      <th>3</th>\n",
              "      <td>333</td>\n",
              "      <td>333</td>\n",
              "      <td>NaN</td>\n",
              "      <td>01/03/2023</td>\n",
              "      <td>23:24:21</td>\n",
              "    </tr>\n",
              "    <tr>\n",
              "      <th>4</th>\n",
              "      <td>15</td>\n",
              "      <td>15</td>\n",
              "      <td>NaN</td>\n",
              "      <td>01/03/2023</td>\n",
              "      <td>21:26:19</td>\n",
              "    </tr>\n",
              "  </tbody>\n",
              "</table>\n",
              "</div>\n",
              "      <button class=\"colab-df-convert\" onclick=\"convertToInteractive('df-1e8f577b-fdd5-4f75-ae46-ebd6fff95274')\"\n",
              "              title=\"Convert this dataframe to an interactive table.\"\n",
              "              style=\"display:none;\">\n",
              "        \n",
              "  <svg xmlns=\"http://www.w3.org/2000/svg\" height=\"24px\"viewBox=\"0 0 24 24\"\n",
              "       width=\"24px\">\n",
              "    <path d=\"M0 0h24v24H0V0z\" fill=\"none\"/>\n",
              "    <path d=\"M18.56 5.44l.94 2.06.94-2.06 2.06-.94-2.06-.94-.94-2.06-.94 2.06-2.06.94zm-11 1L8.5 8.5l.94-2.06 2.06-.94-2.06-.94L8.5 2.5l-.94 2.06-2.06.94zm10 10l.94 2.06.94-2.06 2.06-.94-2.06-.94-.94-2.06-.94 2.06-2.06.94z\"/><path d=\"M17.41 7.96l-1.37-1.37c-.4-.4-.92-.59-1.43-.59-.52 0-1.04.2-1.43.59L10.3 9.45l-7.72 7.72c-.78.78-.78 2.05 0 2.83L4 21.41c.39.39.9.59 1.41.59.51 0 1.02-.2 1.41-.59l7.78-7.78 2.81-2.81c.8-.78.8-2.07 0-2.86zM5.41 20L4 18.59l7.72-7.72 1.47 1.35L5.41 20z\"/>\n",
              "  </svg>\n",
              "      </button>\n",
              "      \n",
              "  <style>\n",
              "    .colab-df-container {\n",
              "      display:flex;\n",
              "      flex-wrap:wrap;\n",
              "      gap: 12px;\n",
              "    }\n",
              "\n",
              "    .colab-df-convert {\n",
              "      background-color: #E8F0FE;\n",
              "      border: none;\n",
              "      border-radius: 50%;\n",
              "      cursor: pointer;\n",
              "      display: none;\n",
              "      fill: #1967D2;\n",
              "      height: 32px;\n",
              "      padding: 0 0 0 0;\n",
              "      width: 32px;\n",
              "    }\n",
              "\n",
              "    .colab-df-convert:hover {\n",
              "      background-color: #E2EBFA;\n",
              "      box-shadow: 0px 1px 2px rgba(60, 64, 67, 0.3), 0px 1px 3px 1px rgba(60, 64, 67, 0.15);\n",
              "      fill: #174EA6;\n",
              "    }\n",
              "\n",
              "    [theme=dark] .colab-df-convert {\n",
              "      background-color: #3B4455;\n",
              "      fill: #D2E3FC;\n",
              "    }\n",
              "\n",
              "    [theme=dark] .colab-df-convert:hover {\n",
              "      background-color: #434B5C;\n",
              "      box-shadow: 0px 1px 3px 1px rgba(0, 0, 0, 0.15);\n",
              "      filter: drop-shadow(0px 1px 2px rgba(0, 0, 0, 0.3));\n",
              "      fill: #FFFFFF;\n",
              "    }\n",
              "  </style>\n",
              "\n",
              "      <script>\n",
              "        const buttonEl =\n",
              "          document.querySelector('#df-1e8f577b-fdd5-4f75-ae46-ebd6fff95274 button.colab-df-convert');\n",
              "        buttonEl.style.display =\n",
              "          google.colab.kernel.accessAllowed ? 'block' : 'none';\n",
              "\n",
              "        async function convertToInteractive(key) {\n",
              "          const element = document.querySelector('#df-1e8f577b-fdd5-4f75-ae46-ebd6fff95274');\n",
              "          const dataTable =\n",
              "            await google.colab.kernel.invokeFunction('convertToInteractive',\n",
              "                                                     [key], {});\n",
              "          if (!dataTable) return;\n",
              "\n",
              "          const docLinkHtml = 'Like what you see? Visit the ' +\n",
              "            '<a target=\"_blank\" href=https://colab.research.google.com/notebooks/data_table.ipynb>data table notebook</a>'\n",
              "            + ' to learn more about interactive tables.';\n",
              "          element.innerHTML = '';\n",
              "          dataTable['output_type'] = 'display_data';\n",
              "          await google.colab.output.renderOutput(dataTable, element);\n",
              "          const docLink = document.createElement('div');\n",
              "          docLink.innerHTML = docLinkHtml;\n",
              "          element.appendChild(docLink);\n",
              "        }\n",
              "      </script>\n",
              "    </div>\n",
              "  </div>\n",
              "  "
            ]
          },
          "metadata": {},
          "execution_count": 10
        }
      ]
    },
    {
      "cell_type": "markdown",
      "source": [
        "Coluna local"
      ],
      "metadata": {
        "id": "D3mYeW_N81Nw"
      }
    },
    {
      "cell_type": "code",
      "source": [
        "df_dados_api.local.value_counts()"
      ],
      "metadata": {
        "colab": {
          "base_uri": "https://localhost:8080/"
        },
        "id": "RnnXAHIF8xM2",
        "outputId": "17307915-2c6e-4bfc-b74a-83dd19fb17e2"
      },
      "execution_count": 16,
      "outputs": [
        {
          "output_type": "execute_result",
          "data": {
            "text/plain": [
              "semAr    19527\n",
              "comAr     2427\n",
              "API          2\n",
              "teste        1\n",
              "123          1\n",
              "Name: local, dtype: int64"
            ]
          },
          "metadata": {},
          "execution_count": 16
        }
      ]
    },
    {
      "cell_type": "code",
      "source": [
        "values = {\"local\": \"comAr\"}\n",
        "df_dados_api.fillna(value=values, inplace=True)"
      ],
      "metadata": {
        "id": "g-5ywroQ87aK"
      },
      "execution_count": 17,
      "outputs": []
    },
    {
      "cell_type": "code",
      "source": [
        "df_dados_api.local.value_counts()"
      ],
      "metadata": {
        "colab": {
          "base_uri": "https://localhost:8080/"
        },
        "id": "CAVRAuMA-Bdm",
        "outputId": "885a1376-bc6b-48d3-ef9e-069fb7539c97"
      },
      "execution_count": 18,
      "outputs": [
        {
          "output_type": "execute_result",
          "data": {
            "text/plain": [
              "comAr    57839\n",
              "semAr    19527\n",
              "API          2\n",
              "teste        1\n",
              "123          1\n",
              "Name: local, dtype: int64"
            ]
          },
          "metadata": {},
          "execution_count": 18
        }
      ]
    },
    {
      "cell_type": "code",
      "source": [],
      "metadata": {
        "id": "Xo7g9KTj-B5m"
      },
      "execution_count": null,
      "outputs": []
    }
  ]
}