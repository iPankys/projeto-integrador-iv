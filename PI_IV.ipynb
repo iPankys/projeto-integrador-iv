{
  "nbformat": 4,
  "nbformat_minor": 0,
  "metadata": {
    "colab": {
      "provenance": [],
      "authorship_tag": "ABX9TyMGyInK/wZP9rvBR6YWys5s",
      "include_colab_link": true
    },
    "kernelspec": {
      "name": "python3",
      "display_name": "Python 3"
    },
    "language_info": {
      "name": "python"
    }
  },
  "cells": [
    {
      "cell_type": "markdown",
      "metadata": {
        "id": "view-in-github",
        "colab_type": "text"
      },
      "source": [
        "<a href=\"https://colab.research.google.com/github/casjunior93/projeto-integrador-iv/blob/main/PI_IV.ipynb\" target=\"_parent\"><img src=\"https://colab.research.google.com/assets/colab-badge.svg\" alt=\"Open In Colab\"/></a>"
      ]
    },
    {
      "cell_type": "markdown",
      "source": [
        "# Bibliotecas fundamentais"
      ],
      "metadata": {
        "id": "UKmUBDfxYWhV"
      }
    },
    {
      "cell_type": "code",
      "execution_count": 1,
      "metadata": {
        "id": "zAa_7m4sX_jj"
      },
      "outputs": [],
      "source": [
        "import numpy as np\n",
        "import pandas as pd\n",
        "import seaborn as sns\n",
        "import matplotlib.pyplot as plt\n",
        "import warnings\n",
        "from datetime import datetime\n",
        "warnings.filterwarnings('ignore')\n",
        "\n",
        "#Configura o pandas para não exibir resultados em notação científica\n",
        "pd.options.display.float_format = '{:.2f}'.format\n",
        "\n",
        "#Semente aleatória do Numpy\n",
        "np.random.seed(42)\n",
        "\n",
        "#Data local\n",
        "import locale\n",
        "# Colab não suporta\n",
        "#locale.setlocale(locale.LC_ALL, 'pt_BR.utf8')"
      ]
    },
    {
      "cell_type": "markdown",
      "source": [
        "# URL base da api de dados"
      ],
      "metadata": {
        "id": "Gn9k6cBnYr5o"
      }
    },
    {
      "cell_type": "code",
      "source": [
        "url_base = 'https://univesp-analytics.vercel.app/api/get'"
      ],
      "metadata": {
        "id": "4wvfnoQZYqoR"
      },
      "execution_count": 2,
      "outputs": []
    },
    {
      "cell_type": "markdown",
      "source": [
        "# Lendo Json com Pandas"
      ],
      "metadata": {
        "id": "SNrbsbj3ZEVU"
      }
    },
    {
      "cell_type": "code",
      "source": [
        "import urllib.request, json \n",
        "from pandas.io.json import json_normalize"
      ],
      "metadata": {
        "id": "iGV8GDMbetSS"
      },
      "execution_count": 3,
      "outputs": []
    },
    {
      "cell_type": "code",
      "source": [
        "%%time\n",
        "fim_iteracao_api = False\n",
        "pagina = 1\n",
        "df_dados_api_original = pd.DataFrame([])\n",
        "\n",
        "print(f'Início das requisições')\n",
        "while fim_iteracao_api == False:\n",
        "  with urllib.request.urlopen(url_base + '?page=' + str(pagina)) as url:\n",
        "    data = json.loads(url.read().decode())\n",
        "    df = pd.DataFrame(json_normalize(data))\n",
        "    if len(data) == 0:\n",
        "      print(f'Fim. Total de {pagina - 1} páginas.')\n",
        "      fim_iteracao_api = True\n",
        "    else:\n",
        "      if pagina % 100 == 0:\n",
        "        print(f'Fim leitura página {pagina}')\n",
        "      pagina += 1\n",
        "      df_dados_api_original = pd.concat([df_dados_api_original, df], ignore_index = True)"
      ],
      "metadata": {
        "colab": {
          "base_uri": "https://localhost:8080/"
        },
        "id": "ZSRr7t3yZGpc",
        "outputId": "a91a1b98-c1a4-4974-c26c-adf5b08d510d"
      },
      "execution_count": 4,
      "outputs": [
        {
          "output_type": "stream",
          "name": "stdout",
          "text": [
            "Início das requisições\n",
            "Fim leitura página 100\n",
            "Fim leitura página 200\n",
            "Fim leitura página 300\n",
            "Fim leitura página 400\n",
            "Fim leitura página 500\n",
            "Fim leitura página 600\n",
            "Fim leitura página 700\n",
            "Fim leitura página 800\n",
            "Fim. Total de 852 páginas.\n",
            "CPU times: user 5.83 s, sys: 672 ms, total: 6.5 s\n",
            "Wall time: 2min 57s\n"
          ]
        }
      ]
    },
    {
      "cell_type": "markdown",
      "source": [
        "Cópia dos dados da api"
      ],
      "metadata": {
        "id": "M0FN-spo5keG"
      }
    },
    {
      "cell_type": "code",
      "source": [
        "df_dados_api = df_dados_api_original.copy()"
      ],
      "metadata": {
        "id": "fIAWLuOD5n-Q"
      },
      "execution_count": 5,
      "outputs": []
    },
    {
      "cell_type": "markdown",
      "source": [
        "Dimensão dos dados - Linhas, colunas"
      ],
      "metadata": {
        "id": "KF33X72JaT2U"
      }
    },
    {
      "cell_type": "code",
      "source": [
        "df_dados_api.shape"
      ],
      "metadata": {
        "colab": {
          "base_uri": "https://localhost:8080/"
        },
        "id": "mmytl9adclVt",
        "outputId": "c9f3e992-6366-4a9e-84e8-5c04b792cc65"
      },
      "execution_count": 6,
      "outputs": [
        {
          "output_type": "execute_result",
          "data": {
            "text/plain": [
              "(8515, 8)"
            ]
          },
          "metadata": {},
          "execution_count": 6
        }
      ]
    },
    {
      "cell_type": "markdown",
      "source": [
        "# Visualizando dados originais"
      ],
      "metadata": {
        "id": "MRxYVNlwftwH"
      }
    },
    {
      "cell_type": "markdown",
      "source": [
        "Cinco primeiros registros do dataframe - Em ordem da disposição na API"
      ],
      "metadata": {
        "id": "J5-GrIvHa_1v"
      }
    },
    {
      "cell_type": "code",
      "source": [
        "df_dados_api.head()"
      ],
      "metadata": {
        "colab": {
          "base_uri": "https://localhost:8080/",
          "height": 206
        },
        "id": "Sxa4dR8GeH9g",
        "outputId": "7457ef2b-c080-4292-c018-f177caf45b3c"
      },
      "execution_count": 7,
      "outputs": [
        {
          "output_type": "execute_result",
          "data": {
            "text/plain": [
              "                        _id temp_ar umid_ar   type          time.time_js  \\\n",
              "0  641efc1685f5fdddce56775d   26.70   52.00  teste  25/03/2023, 10:50:14   \n",
              "1  641efbec85f5fdddce56775c   26.70   52.00  teste  25/03/2023, 10:49:32   \n",
              "2  641efbc285f5fdddce56775b   26.70   52.00  teste  25/03/2023, 10:48:50   \n",
              "3  641efb9885f5fdddce56775a   26.70   52.00  teste  25/03/2023, 10:48:08   \n",
              "4  641efb6e85f5fdddce567759   26.70   52.00  teste  25/03/2023, 10:47:26   \n",
              "\n",
              "     time.data time.hora  teste  \n",
              "0  25/03/2023,  10:50:14    NaN  \n",
              "1  25/03/2023,  10:49:32    NaN  \n",
              "2  25/03/2023,  10:48:50    NaN  \n",
              "3  25/03/2023,  10:48:08    NaN  \n",
              "4  25/03/2023,  10:47:26    NaN  "
            ],
            "text/html": [
              "\n",
              "  <div id=\"df-52ccfdbe-d12f-4af4-8f58-51b6a9369ce7\">\n",
              "    <div class=\"colab-df-container\">\n",
              "      <div>\n",
              "<style scoped>\n",
              "    .dataframe tbody tr th:only-of-type {\n",
              "        vertical-align: middle;\n",
              "    }\n",
              "\n",
              "    .dataframe tbody tr th {\n",
              "        vertical-align: top;\n",
              "    }\n",
              "\n",
              "    .dataframe thead th {\n",
              "        text-align: right;\n",
              "    }\n",
              "</style>\n",
              "<table border=\"1\" class=\"dataframe\">\n",
              "  <thead>\n",
              "    <tr style=\"text-align: right;\">\n",
              "      <th></th>\n",
              "      <th>_id</th>\n",
              "      <th>temp_ar</th>\n",
              "      <th>umid_ar</th>\n",
              "      <th>type</th>\n",
              "      <th>time.time_js</th>\n",
              "      <th>time.data</th>\n",
              "      <th>time.hora</th>\n",
              "      <th>teste</th>\n",
              "    </tr>\n",
              "  </thead>\n",
              "  <tbody>\n",
              "    <tr>\n",
              "      <th>0</th>\n",
              "      <td>641efc1685f5fdddce56775d</td>\n",
              "      <td>26.70</td>\n",
              "      <td>52.00</td>\n",
              "      <td>teste</td>\n",
              "      <td>25/03/2023, 10:50:14</td>\n",
              "      <td>25/03/2023,</td>\n",
              "      <td>10:50:14</td>\n",
              "      <td>NaN</td>\n",
              "    </tr>\n",
              "    <tr>\n",
              "      <th>1</th>\n",
              "      <td>641efbec85f5fdddce56775c</td>\n",
              "      <td>26.70</td>\n",
              "      <td>52.00</td>\n",
              "      <td>teste</td>\n",
              "      <td>25/03/2023, 10:49:32</td>\n",
              "      <td>25/03/2023,</td>\n",
              "      <td>10:49:32</td>\n",
              "      <td>NaN</td>\n",
              "    </tr>\n",
              "    <tr>\n",
              "      <th>2</th>\n",
              "      <td>641efbc285f5fdddce56775b</td>\n",
              "      <td>26.70</td>\n",
              "      <td>52.00</td>\n",
              "      <td>teste</td>\n",
              "      <td>25/03/2023, 10:48:50</td>\n",
              "      <td>25/03/2023,</td>\n",
              "      <td>10:48:50</td>\n",
              "      <td>NaN</td>\n",
              "    </tr>\n",
              "    <tr>\n",
              "      <th>3</th>\n",
              "      <td>641efb9885f5fdddce56775a</td>\n",
              "      <td>26.70</td>\n",
              "      <td>52.00</td>\n",
              "      <td>teste</td>\n",
              "      <td>25/03/2023, 10:48:08</td>\n",
              "      <td>25/03/2023,</td>\n",
              "      <td>10:48:08</td>\n",
              "      <td>NaN</td>\n",
              "    </tr>\n",
              "    <tr>\n",
              "      <th>4</th>\n",
              "      <td>641efb6e85f5fdddce567759</td>\n",
              "      <td>26.70</td>\n",
              "      <td>52.00</td>\n",
              "      <td>teste</td>\n",
              "      <td>25/03/2023, 10:47:26</td>\n",
              "      <td>25/03/2023,</td>\n",
              "      <td>10:47:26</td>\n",
              "      <td>NaN</td>\n",
              "    </tr>\n",
              "  </tbody>\n",
              "</table>\n",
              "</div>\n",
              "      <button class=\"colab-df-convert\" onclick=\"convertToInteractive('df-52ccfdbe-d12f-4af4-8f58-51b6a9369ce7')\"\n",
              "              title=\"Convert this dataframe to an interactive table.\"\n",
              "              style=\"display:none;\">\n",
              "        \n",
              "  <svg xmlns=\"http://www.w3.org/2000/svg\" height=\"24px\"viewBox=\"0 0 24 24\"\n",
              "       width=\"24px\">\n",
              "    <path d=\"M0 0h24v24H0V0z\" fill=\"none\"/>\n",
              "    <path d=\"M18.56 5.44l.94 2.06.94-2.06 2.06-.94-2.06-.94-.94-2.06-.94 2.06-2.06.94zm-11 1L8.5 8.5l.94-2.06 2.06-.94-2.06-.94L8.5 2.5l-.94 2.06-2.06.94zm10 10l.94 2.06.94-2.06 2.06-.94-2.06-.94-.94-2.06-.94 2.06-2.06.94z\"/><path d=\"M17.41 7.96l-1.37-1.37c-.4-.4-.92-.59-1.43-.59-.52 0-1.04.2-1.43.59L10.3 9.45l-7.72 7.72c-.78.78-.78 2.05 0 2.83L4 21.41c.39.39.9.59 1.41.59.51 0 1.02-.2 1.41-.59l7.78-7.78 2.81-2.81c.8-.78.8-2.07 0-2.86zM5.41 20L4 18.59l7.72-7.72 1.47 1.35L5.41 20z\"/>\n",
              "  </svg>\n",
              "      </button>\n",
              "      \n",
              "  <style>\n",
              "    .colab-df-container {\n",
              "      display:flex;\n",
              "      flex-wrap:wrap;\n",
              "      gap: 12px;\n",
              "    }\n",
              "\n",
              "    .colab-df-convert {\n",
              "      background-color: #E8F0FE;\n",
              "      border: none;\n",
              "      border-radius: 50%;\n",
              "      cursor: pointer;\n",
              "      display: none;\n",
              "      fill: #1967D2;\n",
              "      height: 32px;\n",
              "      padding: 0 0 0 0;\n",
              "      width: 32px;\n",
              "    }\n",
              "\n",
              "    .colab-df-convert:hover {\n",
              "      background-color: #E2EBFA;\n",
              "      box-shadow: 0px 1px 2px rgba(60, 64, 67, 0.3), 0px 1px 3px 1px rgba(60, 64, 67, 0.15);\n",
              "      fill: #174EA6;\n",
              "    }\n",
              "\n",
              "    [theme=dark] .colab-df-convert {\n",
              "      background-color: #3B4455;\n",
              "      fill: #D2E3FC;\n",
              "    }\n",
              "\n",
              "    [theme=dark] .colab-df-convert:hover {\n",
              "      background-color: #434B5C;\n",
              "      box-shadow: 0px 1px 3px 1px rgba(0, 0, 0, 0.15);\n",
              "      filter: drop-shadow(0px 1px 2px rgba(0, 0, 0, 0.3));\n",
              "      fill: #FFFFFF;\n",
              "    }\n",
              "  </style>\n",
              "\n",
              "      <script>\n",
              "        const buttonEl =\n",
              "          document.querySelector('#df-52ccfdbe-d12f-4af4-8f58-51b6a9369ce7 button.colab-df-convert');\n",
              "        buttonEl.style.display =\n",
              "          google.colab.kernel.accessAllowed ? 'block' : 'none';\n",
              "\n",
              "        async function convertToInteractive(key) {\n",
              "          const element = document.querySelector('#df-52ccfdbe-d12f-4af4-8f58-51b6a9369ce7');\n",
              "          const dataTable =\n",
              "            await google.colab.kernel.invokeFunction('convertToInteractive',\n",
              "                                                     [key], {});\n",
              "          if (!dataTable) return;\n",
              "\n",
              "          const docLinkHtml = 'Like what you see? Visit the ' +\n",
              "            '<a target=\"_blank\" href=https://colab.research.google.com/notebooks/data_table.ipynb>data table notebook</a>'\n",
              "            + ' to learn more about interactive tables.';\n",
              "          element.innerHTML = '';\n",
              "          dataTable['output_type'] = 'display_data';\n",
              "          await google.colab.output.renderOutput(dataTable, element);\n",
              "          const docLink = document.createElement('div');\n",
              "          docLink.innerHTML = docLinkHtml;\n",
              "          element.appendChild(docLink);\n",
              "        }\n",
              "      </script>\n",
              "    </div>\n",
              "  </div>\n",
              "  "
            ]
          },
          "metadata": {},
          "execution_count": 7
        }
      ]
    },
    {
      "cell_type": "markdown",
      "source": [
        "Cinco últimos registros do dataframe"
      ],
      "metadata": {
        "id": "M8_VwOBLbCOE"
      }
    },
    {
      "cell_type": "code",
      "source": [
        "df_dados_api.tail()"
      ],
      "metadata": {
        "colab": {
          "base_uri": "https://localhost:8080/",
          "height": 206
        },
        "id": "Bv7hPedkff32",
        "outputId": "1bb11b30-ff86-40c4-d2c6-990a573ad4b2"
      },
      "execution_count": 8,
      "outputs": [
        {
          "output_type": "execute_result",
          "data": {
            "text/plain": [
              "                           _id temp_ar umid_ar   type  \\\n",
              "8510  63ffed2b38c8784e07b788f2      15      15  teste   \n",
              "8511  63ffdea6722bef68acc5bb72     333     333  teste   \n",
              "8512  63ffdbde1a4eb0dfdd6a11a8      10      10  teste   \n",
              "8513  63ffdbb91a4eb0dfdd6a11a7       2       3  teste   \n",
              "8514  63fea0720dd58484fc266c80     NaN     NaN    NaN   \n",
              "\n",
              "                  time.time_js   time.data time.hora  teste  \n",
              "8510       01/03/2023 21:26:19  01/03/2023  21:26:19    NaN  \n",
              "8511  2023-03-01T23:24:21.438Z  01/03/2023  23:24:21    NaN  \n",
              "8512  2023-03-01T23:12:30.063Z  01/03/2023  20:12:30    NaN  \n",
              "8513  2023-03-01T23:11:53.036Z  01/03/2023  20:11:53    NaN  \n",
              "8514                       NaN         NaN       NaN 123.00  "
            ],
            "text/html": [
              "\n",
              "  <div id=\"df-77ba5c84-e63c-475e-b072-f77eee6e4610\">\n",
              "    <div class=\"colab-df-container\">\n",
              "      <div>\n",
              "<style scoped>\n",
              "    .dataframe tbody tr th:only-of-type {\n",
              "        vertical-align: middle;\n",
              "    }\n",
              "\n",
              "    .dataframe tbody tr th {\n",
              "        vertical-align: top;\n",
              "    }\n",
              "\n",
              "    .dataframe thead th {\n",
              "        text-align: right;\n",
              "    }\n",
              "</style>\n",
              "<table border=\"1\" class=\"dataframe\">\n",
              "  <thead>\n",
              "    <tr style=\"text-align: right;\">\n",
              "      <th></th>\n",
              "      <th>_id</th>\n",
              "      <th>temp_ar</th>\n",
              "      <th>umid_ar</th>\n",
              "      <th>type</th>\n",
              "      <th>time.time_js</th>\n",
              "      <th>time.data</th>\n",
              "      <th>time.hora</th>\n",
              "      <th>teste</th>\n",
              "    </tr>\n",
              "  </thead>\n",
              "  <tbody>\n",
              "    <tr>\n",
              "      <th>8510</th>\n",
              "      <td>63ffed2b38c8784e07b788f2</td>\n",
              "      <td>15</td>\n",
              "      <td>15</td>\n",
              "      <td>teste</td>\n",
              "      <td>01/03/2023 21:26:19</td>\n",
              "      <td>01/03/2023</td>\n",
              "      <td>21:26:19</td>\n",
              "      <td>NaN</td>\n",
              "    </tr>\n",
              "    <tr>\n",
              "      <th>8511</th>\n",
              "      <td>63ffdea6722bef68acc5bb72</td>\n",
              "      <td>333</td>\n",
              "      <td>333</td>\n",
              "      <td>teste</td>\n",
              "      <td>2023-03-01T23:24:21.438Z</td>\n",
              "      <td>01/03/2023</td>\n",
              "      <td>23:24:21</td>\n",
              "      <td>NaN</td>\n",
              "    </tr>\n",
              "    <tr>\n",
              "      <th>8512</th>\n",
              "      <td>63ffdbde1a4eb0dfdd6a11a8</td>\n",
              "      <td>10</td>\n",
              "      <td>10</td>\n",
              "      <td>teste</td>\n",
              "      <td>2023-03-01T23:12:30.063Z</td>\n",
              "      <td>01/03/2023</td>\n",
              "      <td>20:12:30</td>\n",
              "      <td>NaN</td>\n",
              "    </tr>\n",
              "    <tr>\n",
              "      <th>8513</th>\n",
              "      <td>63ffdbb91a4eb0dfdd6a11a7</td>\n",
              "      <td>2</td>\n",
              "      <td>3</td>\n",
              "      <td>teste</td>\n",
              "      <td>2023-03-01T23:11:53.036Z</td>\n",
              "      <td>01/03/2023</td>\n",
              "      <td>20:11:53</td>\n",
              "      <td>NaN</td>\n",
              "    </tr>\n",
              "    <tr>\n",
              "      <th>8514</th>\n",
              "      <td>63fea0720dd58484fc266c80</td>\n",
              "      <td>NaN</td>\n",
              "      <td>NaN</td>\n",
              "      <td>NaN</td>\n",
              "      <td>NaN</td>\n",
              "      <td>NaN</td>\n",
              "      <td>NaN</td>\n",
              "      <td>123.00</td>\n",
              "    </tr>\n",
              "  </tbody>\n",
              "</table>\n",
              "</div>\n",
              "      <button class=\"colab-df-convert\" onclick=\"convertToInteractive('df-77ba5c84-e63c-475e-b072-f77eee6e4610')\"\n",
              "              title=\"Convert this dataframe to an interactive table.\"\n",
              "              style=\"display:none;\">\n",
              "        \n",
              "  <svg xmlns=\"http://www.w3.org/2000/svg\" height=\"24px\"viewBox=\"0 0 24 24\"\n",
              "       width=\"24px\">\n",
              "    <path d=\"M0 0h24v24H0V0z\" fill=\"none\"/>\n",
              "    <path d=\"M18.56 5.44l.94 2.06.94-2.06 2.06-.94-2.06-.94-.94-2.06-.94 2.06-2.06.94zm-11 1L8.5 8.5l.94-2.06 2.06-.94-2.06-.94L8.5 2.5l-.94 2.06-2.06.94zm10 10l.94 2.06.94-2.06 2.06-.94-2.06-.94-.94-2.06-.94 2.06-2.06.94z\"/><path d=\"M17.41 7.96l-1.37-1.37c-.4-.4-.92-.59-1.43-.59-.52 0-1.04.2-1.43.59L10.3 9.45l-7.72 7.72c-.78.78-.78 2.05 0 2.83L4 21.41c.39.39.9.59 1.41.59.51 0 1.02-.2 1.41-.59l7.78-7.78 2.81-2.81c.8-.78.8-2.07 0-2.86zM5.41 20L4 18.59l7.72-7.72 1.47 1.35L5.41 20z\"/>\n",
              "  </svg>\n",
              "      </button>\n",
              "      \n",
              "  <style>\n",
              "    .colab-df-container {\n",
              "      display:flex;\n",
              "      flex-wrap:wrap;\n",
              "      gap: 12px;\n",
              "    }\n",
              "\n",
              "    .colab-df-convert {\n",
              "      background-color: #E8F0FE;\n",
              "      border: none;\n",
              "      border-radius: 50%;\n",
              "      cursor: pointer;\n",
              "      display: none;\n",
              "      fill: #1967D2;\n",
              "      height: 32px;\n",
              "      padding: 0 0 0 0;\n",
              "      width: 32px;\n",
              "    }\n",
              "\n",
              "    .colab-df-convert:hover {\n",
              "      background-color: #E2EBFA;\n",
              "      box-shadow: 0px 1px 2px rgba(60, 64, 67, 0.3), 0px 1px 3px 1px rgba(60, 64, 67, 0.15);\n",
              "      fill: #174EA6;\n",
              "    }\n",
              "\n",
              "    [theme=dark] .colab-df-convert {\n",
              "      background-color: #3B4455;\n",
              "      fill: #D2E3FC;\n",
              "    }\n",
              "\n",
              "    [theme=dark] .colab-df-convert:hover {\n",
              "      background-color: #434B5C;\n",
              "      box-shadow: 0px 1px 3px 1px rgba(0, 0, 0, 0.15);\n",
              "      filter: drop-shadow(0px 1px 2px rgba(0, 0, 0, 0.3));\n",
              "      fill: #FFFFFF;\n",
              "    }\n",
              "  </style>\n",
              "\n",
              "      <script>\n",
              "        const buttonEl =\n",
              "          document.querySelector('#df-77ba5c84-e63c-475e-b072-f77eee6e4610 button.colab-df-convert');\n",
              "        buttonEl.style.display =\n",
              "          google.colab.kernel.accessAllowed ? 'block' : 'none';\n",
              "\n",
              "        async function convertToInteractive(key) {\n",
              "          const element = document.querySelector('#df-77ba5c84-e63c-475e-b072-f77eee6e4610');\n",
              "          const dataTable =\n",
              "            await google.colab.kernel.invokeFunction('convertToInteractive',\n",
              "                                                     [key], {});\n",
              "          if (!dataTable) return;\n",
              "\n",
              "          const docLinkHtml = 'Like what you see? Visit the ' +\n",
              "            '<a target=\"_blank\" href=https://colab.research.google.com/notebooks/data_table.ipynb>data table notebook</a>'\n",
              "            + ' to learn more about interactive tables.';\n",
              "          element.innerHTML = '';\n",
              "          dataTable['output_type'] = 'display_data';\n",
              "          await google.colab.output.renderOutput(dataTable, element);\n",
              "          const docLink = document.createElement('div');\n",
              "          docLink.innerHTML = docLinkHtml;\n",
              "          element.appendChild(docLink);\n",
              "        }\n",
              "      </script>\n",
              "    </div>\n",
              "  </div>\n",
              "  "
            ]
          },
          "metadata": {},
          "execution_count": 8
        }
      ]
    },
    {
      "cell_type": "markdown",
      "source": [
        "Verificando dados nulos"
      ],
      "metadata": {
        "id": "4cLgMb6-bODj"
      }
    },
    {
      "cell_type": "code",
      "source": [
        "df_dados_api.isnull().sum()"
      ],
      "metadata": {
        "colab": {
          "base_uri": "https://localhost:8080/"
        },
        "id": "5NFFuzGlgIf-",
        "outputId": "a5564a53-bcdf-4956-adbd-524d608b46fa"
      },
      "execution_count": 9,
      "outputs": [
        {
          "output_type": "execute_result",
          "data": {
            "text/plain": [
              "_id                0\n",
              "temp_ar            3\n",
              "umid_ar            3\n",
              "type               1\n",
              "time.time_js       1\n",
              "time.data          1\n",
              "time.hora          1\n",
              "teste           8514\n",
              "dtype: int64"
            ]
          },
          "metadata": {},
          "execution_count": 9
        }
      ]
    },
    {
      "cell_type": "markdown",
      "source": [
        "Excluindo colunas desnecessárias"
      ],
      "metadata": {
        "id": "ZzGy6YB2bRhK"
      }
    },
    {
      "cell_type": "code",
      "source": [
        "del df_dados_api['teste']\n",
        "del df_dados_api['_id']\n",
        "del df_dados_api['type']\n",
        "del df_dados_api['time.time_js']\n",
        "df_dados_api.head()"
      ],
      "metadata": {
        "colab": {
          "base_uri": "https://localhost:8080/",
          "height": 206
        },
        "id": "RslKoU3xknHr",
        "outputId": "cac81edf-b803-4bf6-c87d-caf0c68c1f66"
      },
      "execution_count": 10,
      "outputs": [
        {
          "output_type": "execute_result",
          "data": {
            "text/plain": [
              "  temp_ar umid_ar    time.data time.hora\n",
              "0   26.70   52.00  25/03/2023,  10:50:14\n",
              "1   26.70   52.00  25/03/2023,  10:49:32\n",
              "2   26.70   52.00  25/03/2023,  10:48:50\n",
              "3   26.70   52.00  25/03/2023,  10:48:08\n",
              "4   26.70   52.00  25/03/2023,  10:47:26"
            ],
            "text/html": [
              "\n",
              "  <div id=\"df-256eb4f2-9e19-4b3d-a7ea-9e44691aae6c\">\n",
              "    <div class=\"colab-df-container\">\n",
              "      <div>\n",
              "<style scoped>\n",
              "    .dataframe tbody tr th:only-of-type {\n",
              "        vertical-align: middle;\n",
              "    }\n",
              "\n",
              "    .dataframe tbody tr th {\n",
              "        vertical-align: top;\n",
              "    }\n",
              "\n",
              "    .dataframe thead th {\n",
              "        text-align: right;\n",
              "    }\n",
              "</style>\n",
              "<table border=\"1\" class=\"dataframe\">\n",
              "  <thead>\n",
              "    <tr style=\"text-align: right;\">\n",
              "      <th></th>\n",
              "      <th>temp_ar</th>\n",
              "      <th>umid_ar</th>\n",
              "      <th>time.data</th>\n",
              "      <th>time.hora</th>\n",
              "    </tr>\n",
              "  </thead>\n",
              "  <tbody>\n",
              "    <tr>\n",
              "      <th>0</th>\n",
              "      <td>26.70</td>\n",
              "      <td>52.00</td>\n",
              "      <td>25/03/2023,</td>\n",
              "      <td>10:50:14</td>\n",
              "    </tr>\n",
              "    <tr>\n",
              "      <th>1</th>\n",
              "      <td>26.70</td>\n",
              "      <td>52.00</td>\n",
              "      <td>25/03/2023,</td>\n",
              "      <td>10:49:32</td>\n",
              "    </tr>\n",
              "    <tr>\n",
              "      <th>2</th>\n",
              "      <td>26.70</td>\n",
              "      <td>52.00</td>\n",
              "      <td>25/03/2023,</td>\n",
              "      <td>10:48:50</td>\n",
              "    </tr>\n",
              "    <tr>\n",
              "      <th>3</th>\n",
              "      <td>26.70</td>\n",
              "      <td>52.00</td>\n",
              "      <td>25/03/2023,</td>\n",
              "      <td>10:48:08</td>\n",
              "    </tr>\n",
              "    <tr>\n",
              "      <th>4</th>\n",
              "      <td>26.70</td>\n",
              "      <td>52.00</td>\n",
              "      <td>25/03/2023,</td>\n",
              "      <td>10:47:26</td>\n",
              "    </tr>\n",
              "  </tbody>\n",
              "</table>\n",
              "</div>\n",
              "      <button class=\"colab-df-convert\" onclick=\"convertToInteractive('df-256eb4f2-9e19-4b3d-a7ea-9e44691aae6c')\"\n",
              "              title=\"Convert this dataframe to an interactive table.\"\n",
              "              style=\"display:none;\">\n",
              "        \n",
              "  <svg xmlns=\"http://www.w3.org/2000/svg\" height=\"24px\"viewBox=\"0 0 24 24\"\n",
              "       width=\"24px\">\n",
              "    <path d=\"M0 0h24v24H0V0z\" fill=\"none\"/>\n",
              "    <path d=\"M18.56 5.44l.94 2.06.94-2.06 2.06-.94-2.06-.94-.94-2.06-.94 2.06-2.06.94zm-11 1L8.5 8.5l.94-2.06 2.06-.94-2.06-.94L8.5 2.5l-.94 2.06-2.06.94zm10 10l.94 2.06.94-2.06 2.06-.94-2.06-.94-.94-2.06-.94 2.06-2.06.94z\"/><path d=\"M17.41 7.96l-1.37-1.37c-.4-.4-.92-.59-1.43-.59-.52 0-1.04.2-1.43.59L10.3 9.45l-7.72 7.72c-.78.78-.78 2.05 0 2.83L4 21.41c.39.39.9.59 1.41.59.51 0 1.02-.2 1.41-.59l7.78-7.78 2.81-2.81c.8-.78.8-2.07 0-2.86zM5.41 20L4 18.59l7.72-7.72 1.47 1.35L5.41 20z\"/>\n",
              "  </svg>\n",
              "      </button>\n",
              "      \n",
              "  <style>\n",
              "    .colab-df-container {\n",
              "      display:flex;\n",
              "      flex-wrap:wrap;\n",
              "      gap: 12px;\n",
              "    }\n",
              "\n",
              "    .colab-df-convert {\n",
              "      background-color: #E8F0FE;\n",
              "      border: none;\n",
              "      border-radius: 50%;\n",
              "      cursor: pointer;\n",
              "      display: none;\n",
              "      fill: #1967D2;\n",
              "      height: 32px;\n",
              "      padding: 0 0 0 0;\n",
              "      width: 32px;\n",
              "    }\n",
              "\n",
              "    .colab-df-convert:hover {\n",
              "      background-color: #E2EBFA;\n",
              "      box-shadow: 0px 1px 2px rgba(60, 64, 67, 0.3), 0px 1px 3px 1px rgba(60, 64, 67, 0.15);\n",
              "      fill: #174EA6;\n",
              "    }\n",
              "\n",
              "    [theme=dark] .colab-df-convert {\n",
              "      background-color: #3B4455;\n",
              "      fill: #D2E3FC;\n",
              "    }\n",
              "\n",
              "    [theme=dark] .colab-df-convert:hover {\n",
              "      background-color: #434B5C;\n",
              "      box-shadow: 0px 1px 3px 1px rgba(0, 0, 0, 0.15);\n",
              "      filter: drop-shadow(0px 1px 2px rgba(0, 0, 0, 0.3));\n",
              "      fill: #FFFFFF;\n",
              "    }\n",
              "  </style>\n",
              "\n",
              "      <script>\n",
              "        const buttonEl =\n",
              "          document.querySelector('#df-256eb4f2-9e19-4b3d-a7ea-9e44691aae6c button.colab-df-convert');\n",
              "        buttonEl.style.display =\n",
              "          google.colab.kernel.accessAllowed ? 'block' : 'none';\n",
              "\n",
              "        async function convertToInteractive(key) {\n",
              "          const element = document.querySelector('#df-256eb4f2-9e19-4b3d-a7ea-9e44691aae6c');\n",
              "          const dataTable =\n",
              "            await google.colab.kernel.invokeFunction('convertToInteractive',\n",
              "                                                     [key], {});\n",
              "          if (!dataTable) return;\n",
              "\n",
              "          const docLinkHtml = 'Like what you see? Visit the ' +\n",
              "            '<a target=\"_blank\" href=https://colab.research.google.com/notebooks/data_table.ipynb>data table notebook</a>'\n",
              "            + ' to learn more about interactive tables.';\n",
              "          element.innerHTML = '';\n",
              "          dataTable['output_type'] = 'display_data';\n",
              "          await google.colab.output.renderOutput(dataTable, element);\n",
              "          const docLink = document.createElement('div');\n",
              "          docLink.innerHTML = docLinkHtml;\n",
              "          element.appendChild(docLink);\n",
              "        }\n",
              "      </script>\n",
              "    </div>\n",
              "  </div>\n",
              "  "
            ]
          },
          "metadata": {},
          "execution_count": 10
        }
      ]
    },
    {
      "cell_type": "markdown",
      "source": [
        "Limpeza de dados nulos"
      ],
      "metadata": {
        "id": "2PZaoNnd5Obt"
      }
    },
    {
      "cell_type": "code",
      "source": [
        "df_dados_api.dropna(inplace = True)\n",
        "df_dados_api.isnull().sum()"
      ],
      "metadata": {
        "colab": {
          "base_uri": "https://localhost:8080/"
        },
        "id": "G_qzVTMv5UIO",
        "outputId": "50a9bbf5-9793-4d8a-e788-da534e246596"
      },
      "execution_count": 11,
      "outputs": [
        {
          "output_type": "execute_result",
          "data": {
            "text/plain": [
              "temp_ar      0\n",
              "umid_ar      0\n",
              "time.data    0\n",
              "time.hora    0\n",
              "dtype: int64"
            ]
          },
          "metadata": {},
          "execution_count": 11
        }
      ]
    },
    {
      "cell_type": "markdown",
      "source": [
        "Removendo dados duplicados"
      ],
      "metadata": {
        "id": "VIBVenUYabb6"
      }
    },
    {
      "cell_type": "code",
      "source": [
        "df_dados_api.shape"
      ],
      "metadata": {
        "id": "7Z7-JN2_YnxD",
        "colab": {
          "base_uri": "https://localhost:8080/"
        },
        "outputId": "af0ff470-ed5e-49c1-8055-35672ffa6733"
      },
      "execution_count": 12,
      "outputs": [
        {
          "output_type": "execute_result",
          "data": {
            "text/plain": [
              "(8512, 4)"
            ]
          },
          "metadata": {},
          "execution_count": 12
        }
      ]
    },
    {
      "cell_type": "code",
      "source": [
        "df_dados_api.drop_duplicates(inplace=True, ignore_index=True)\n",
        "df_dados_api.shape"
      ],
      "metadata": {
        "id": "WjDSaERvYAEe",
        "colab": {
          "base_uri": "https://localhost:8080/"
        },
        "outputId": "8ebdd1bf-9b93-4eac-9645-5bd227d1d2fa"
      },
      "execution_count": 13,
      "outputs": [
        {
          "output_type": "execute_result",
          "data": {
            "text/plain": [
              "(8508, 4)"
            ]
          },
          "metadata": {},
          "execution_count": 13
        }
      ]
    },
    {
      "cell_type": "markdown",
      "source": [
        "# Tratando data"
      ],
      "metadata": {
        "id": "JYgFs9YgliQl"
      }
    },
    {
      "cell_type": "markdown",
      "source": [
        "Copiando dataframe para uma nova variável"
      ],
      "metadata": {
        "id": "uP7WEd5SbVG6"
      }
    },
    {
      "cell_type": "code",
      "source": [
        "dados_projeto = df_dados_api.copy()\n",
        "dados_projeto"
      ],
      "metadata": {
        "id": "K3QRG2Hslj5P",
        "colab": {
          "base_uri": "https://localhost:8080/",
          "height": 424
        },
        "outputId": "33d7bf07-389a-484e-e241-9f91b1b2a455"
      },
      "execution_count": 14,
      "outputs": [
        {
          "output_type": "execute_result",
          "data": {
            "text/plain": [
              "     temp_ar umid_ar    time.data time.hora\n",
              "0      26.70   52.00  25/03/2023,  10:50:14\n",
              "1      26.70   52.00  25/03/2023,  10:49:32\n",
              "2      26.70   52.00  25/03/2023,  10:48:50\n",
              "3      26.70   52.00  25/03/2023,  10:48:08\n",
              "4      26.70   52.00  25/03/2023,  10:47:26\n",
              "...      ...     ...          ...       ...\n",
              "8503  333.00  333.00  01/03/2023,  21:28:38\n",
              "8504      15      15   01/03/2023  21:26:19\n",
              "8505     333     333   01/03/2023  23:24:21\n",
              "8506      10      10   01/03/2023  20:12:30\n",
              "8507       2       3   01/03/2023  20:11:53\n",
              "\n",
              "[8508 rows x 4 columns]"
            ],
            "text/html": [
              "\n",
              "  <div id=\"df-5acdba44-e33b-4e1c-bf42-413005552cc0\">\n",
              "    <div class=\"colab-df-container\">\n",
              "      <div>\n",
              "<style scoped>\n",
              "    .dataframe tbody tr th:only-of-type {\n",
              "        vertical-align: middle;\n",
              "    }\n",
              "\n",
              "    .dataframe tbody tr th {\n",
              "        vertical-align: top;\n",
              "    }\n",
              "\n",
              "    .dataframe thead th {\n",
              "        text-align: right;\n",
              "    }\n",
              "</style>\n",
              "<table border=\"1\" class=\"dataframe\">\n",
              "  <thead>\n",
              "    <tr style=\"text-align: right;\">\n",
              "      <th></th>\n",
              "      <th>temp_ar</th>\n",
              "      <th>umid_ar</th>\n",
              "      <th>time.data</th>\n",
              "      <th>time.hora</th>\n",
              "    </tr>\n",
              "  </thead>\n",
              "  <tbody>\n",
              "    <tr>\n",
              "      <th>0</th>\n",
              "      <td>26.70</td>\n",
              "      <td>52.00</td>\n",
              "      <td>25/03/2023,</td>\n",
              "      <td>10:50:14</td>\n",
              "    </tr>\n",
              "    <tr>\n",
              "      <th>1</th>\n",
              "      <td>26.70</td>\n",
              "      <td>52.00</td>\n",
              "      <td>25/03/2023,</td>\n",
              "      <td>10:49:32</td>\n",
              "    </tr>\n",
              "    <tr>\n",
              "      <th>2</th>\n",
              "      <td>26.70</td>\n",
              "      <td>52.00</td>\n",
              "      <td>25/03/2023,</td>\n",
              "      <td>10:48:50</td>\n",
              "    </tr>\n",
              "    <tr>\n",
              "      <th>3</th>\n",
              "      <td>26.70</td>\n",
              "      <td>52.00</td>\n",
              "      <td>25/03/2023,</td>\n",
              "      <td>10:48:08</td>\n",
              "    </tr>\n",
              "    <tr>\n",
              "      <th>4</th>\n",
              "      <td>26.70</td>\n",
              "      <td>52.00</td>\n",
              "      <td>25/03/2023,</td>\n",
              "      <td>10:47:26</td>\n",
              "    </tr>\n",
              "    <tr>\n",
              "      <th>...</th>\n",
              "      <td>...</td>\n",
              "      <td>...</td>\n",
              "      <td>...</td>\n",
              "      <td>...</td>\n",
              "    </tr>\n",
              "    <tr>\n",
              "      <th>8503</th>\n",
              "      <td>333.00</td>\n",
              "      <td>333.00</td>\n",
              "      <td>01/03/2023,</td>\n",
              "      <td>21:28:38</td>\n",
              "    </tr>\n",
              "    <tr>\n",
              "      <th>8504</th>\n",
              "      <td>15</td>\n",
              "      <td>15</td>\n",
              "      <td>01/03/2023</td>\n",
              "      <td>21:26:19</td>\n",
              "    </tr>\n",
              "    <tr>\n",
              "      <th>8505</th>\n",
              "      <td>333</td>\n",
              "      <td>333</td>\n",
              "      <td>01/03/2023</td>\n",
              "      <td>23:24:21</td>\n",
              "    </tr>\n",
              "    <tr>\n",
              "      <th>8506</th>\n",
              "      <td>10</td>\n",
              "      <td>10</td>\n",
              "      <td>01/03/2023</td>\n",
              "      <td>20:12:30</td>\n",
              "    </tr>\n",
              "    <tr>\n",
              "      <th>8507</th>\n",
              "      <td>2</td>\n",
              "      <td>3</td>\n",
              "      <td>01/03/2023</td>\n",
              "      <td>20:11:53</td>\n",
              "    </tr>\n",
              "  </tbody>\n",
              "</table>\n",
              "<p>8508 rows × 4 columns</p>\n",
              "</div>\n",
              "      <button class=\"colab-df-convert\" onclick=\"convertToInteractive('df-5acdba44-e33b-4e1c-bf42-413005552cc0')\"\n",
              "              title=\"Convert this dataframe to an interactive table.\"\n",
              "              style=\"display:none;\">\n",
              "        \n",
              "  <svg xmlns=\"http://www.w3.org/2000/svg\" height=\"24px\"viewBox=\"0 0 24 24\"\n",
              "       width=\"24px\">\n",
              "    <path d=\"M0 0h24v24H0V0z\" fill=\"none\"/>\n",
              "    <path d=\"M18.56 5.44l.94 2.06.94-2.06 2.06-.94-2.06-.94-.94-2.06-.94 2.06-2.06.94zm-11 1L8.5 8.5l.94-2.06 2.06-.94-2.06-.94L8.5 2.5l-.94 2.06-2.06.94zm10 10l.94 2.06.94-2.06 2.06-.94-2.06-.94-.94-2.06-.94 2.06-2.06.94z\"/><path d=\"M17.41 7.96l-1.37-1.37c-.4-.4-.92-.59-1.43-.59-.52 0-1.04.2-1.43.59L10.3 9.45l-7.72 7.72c-.78.78-.78 2.05 0 2.83L4 21.41c.39.39.9.59 1.41.59.51 0 1.02-.2 1.41-.59l7.78-7.78 2.81-2.81c.8-.78.8-2.07 0-2.86zM5.41 20L4 18.59l7.72-7.72 1.47 1.35L5.41 20z\"/>\n",
              "  </svg>\n",
              "      </button>\n",
              "      \n",
              "  <style>\n",
              "    .colab-df-container {\n",
              "      display:flex;\n",
              "      flex-wrap:wrap;\n",
              "      gap: 12px;\n",
              "    }\n",
              "\n",
              "    .colab-df-convert {\n",
              "      background-color: #E8F0FE;\n",
              "      border: none;\n",
              "      border-radius: 50%;\n",
              "      cursor: pointer;\n",
              "      display: none;\n",
              "      fill: #1967D2;\n",
              "      height: 32px;\n",
              "      padding: 0 0 0 0;\n",
              "      width: 32px;\n",
              "    }\n",
              "\n",
              "    .colab-df-convert:hover {\n",
              "      background-color: #E2EBFA;\n",
              "      box-shadow: 0px 1px 2px rgba(60, 64, 67, 0.3), 0px 1px 3px 1px rgba(60, 64, 67, 0.15);\n",
              "      fill: #174EA6;\n",
              "    }\n",
              "\n",
              "    [theme=dark] .colab-df-convert {\n",
              "      background-color: #3B4455;\n",
              "      fill: #D2E3FC;\n",
              "    }\n",
              "\n",
              "    [theme=dark] .colab-df-convert:hover {\n",
              "      background-color: #434B5C;\n",
              "      box-shadow: 0px 1px 3px 1px rgba(0, 0, 0, 0.15);\n",
              "      filter: drop-shadow(0px 1px 2px rgba(0, 0, 0, 0.3));\n",
              "      fill: #FFFFFF;\n",
              "    }\n",
              "  </style>\n",
              "\n",
              "      <script>\n",
              "        const buttonEl =\n",
              "          document.querySelector('#df-5acdba44-e33b-4e1c-bf42-413005552cc0 button.colab-df-convert');\n",
              "        buttonEl.style.display =\n",
              "          google.colab.kernel.accessAllowed ? 'block' : 'none';\n",
              "\n",
              "        async function convertToInteractive(key) {\n",
              "          const element = document.querySelector('#df-5acdba44-e33b-4e1c-bf42-413005552cc0');\n",
              "          const dataTable =\n",
              "            await google.colab.kernel.invokeFunction('convertToInteractive',\n",
              "                                                     [key], {});\n",
              "          if (!dataTable) return;\n",
              "\n",
              "          const docLinkHtml = 'Like what you see? Visit the ' +\n",
              "            '<a target=\"_blank\" href=https://colab.research.google.com/notebooks/data_table.ipynb>data table notebook</a>'\n",
              "            + ' to learn more about interactive tables.';\n",
              "          element.innerHTML = '';\n",
              "          dataTable['output_type'] = 'display_data';\n",
              "          await google.colab.output.renderOutput(dataTable, element);\n",
              "          const docLink = document.createElement('div');\n",
              "          docLink.innerHTML = docLinkHtml;\n",
              "          element.appendChild(docLink);\n",
              "        }\n",
              "      </script>\n",
              "    </div>\n",
              "  </div>\n",
              "  "
            ]
          },
          "metadata": {},
          "execution_count": 14
        }
      ]
    },
    {
      "cell_type": "markdown",
      "source": [
        "Removendo virgula de time.data e concatenando com time.hora para gerar data no formato datetime"
      ],
      "metadata": {
        "id": "UUkKH3D0bapg"
      }
    },
    {
      "cell_type": "code",
      "source": [
        "def converte_data_portugues_para_ingles(df):\n",
        "  return datetime.strptime(df['time.data'], \"%d/%m/%Y\").strftime(\"%Y-%m-%d\");"
      ],
      "metadata": {
        "id": "HRgKTHgXrx0G"
      },
      "execution_count": 15,
      "outputs": []
    },
    {
      "cell_type": "code",
      "source": [
        "dados_projeto['time.data'] = dados_projeto['time.data'].str.replace(',','')\n",
        "dados_projeto['time.data'] = dados_projeto.apply(lambda x: converte_data_portugues_para_ingles(x), axis=1)\n",
        "dados_projeto['data'] = dados_projeto['time.data'] + ' ' + dados_projeto['time.hora']\n",
        "dados_projeto['data'] = dados_projeto['data'].astype('datetime64[ns]')\n",
        "dados_projeto.head()"
      ],
      "metadata": {
        "colab": {
          "base_uri": "https://localhost:8080/",
          "height": 206
        },
        "id": "LvQYDRfjmFhY",
        "outputId": "d4cfe267-d36f-46a9-b315-7fe3e04298f9"
      },
      "execution_count": 16,
      "outputs": [
        {
          "output_type": "execute_result",
          "data": {
            "text/plain": [
              "  temp_ar umid_ar   time.data time.hora                data\n",
              "0   26.70   52.00  2023-03-25  10:50:14 2023-03-25 10:50:14\n",
              "1   26.70   52.00  2023-03-25  10:49:32 2023-03-25 10:49:32\n",
              "2   26.70   52.00  2023-03-25  10:48:50 2023-03-25 10:48:50\n",
              "3   26.70   52.00  2023-03-25  10:48:08 2023-03-25 10:48:08\n",
              "4   26.70   52.00  2023-03-25  10:47:26 2023-03-25 10:47:26"
            ],
            "text/html": [
              "\n",
              "  <div id=\"df-ecbd2da3-c7c4-4805-aeb5-e6703cb6db32\">\n",
              "    <div class=\"colab-df-container\">\n",
              "      <div>\n",
              "<style scoped>\n",
              "    .dataframe tbody tr th:only-of-type {\n",
              "        vertical-align: middle;\n",
              "    }\n",
              "\n",
              "    .dataframe tbody tr th {\n",
              "        vertical-align: top;\n",
              "    }\n",
              "\n",
              "    .dataframe thead th {\n",
              "        text-align: right;\n",
              "    }\n",
              "</style>\n",
              "<table border=\"1\" class=\"dataframe\">\n",
              "  <thead>\n",
              "    <tr style=\"text-align: right;\">\n",
              "      <th></th>\n",
              "      <th>temp_ar</th>\n",
              "      <th>umid_ar</th>\n",
              "      <th>time.data</th>\n",
              "      <th>time.hora</th>\n",
              "      <th>data</th>\n",
              "    </tr>\n",
              "  </thead>\n",
              "  <tbody>\n",
              "    <tr>\n",
              "      <th>0</th>\n",
              "      <td>26.70</td>\n",
              "      <td>52.00</td>\n",
              "      <td>2023-03-25</td>\n",
              "      <td>10:50:14</td>\n",
              "      <td>2023-03-25 10:50:14</td>\n",
              "    </tr>\n",
              "    <tr>\n",
              "      <th>1</th>\n",
              "      <td>26.70</td>\n",
              "      <td>52.00</td>\n",
              "      <td>2023-03-25</td>\n",
              "      <td>10:49:32</td>\n",
              "      <td>2023-03-25 10:49:32</td>\n",
              "    </tr>\n",
              "    <tr>\n",
              "      <th>2</th>\n",
              "      <td>26.70</td>\n",
              "      <td>52.00</td>\n",
              "      <td>2023-03-25</td>\n",
              "      <td>10:48:50</td>\n",
              "      <td>2023-03-25 10:48:50</td>\n",
              "    </tr>\n",
              "    <tr>\n",
              "      <th>3</th>\n",
              "      <td>26.70</td>\n",
              "      <td>52.00</td>\n",
              "      <td>2023-03-25</td>\n",
              "      <td>10:48:08</td>\n",
              "      <td>2023-03-25 10:48:08</td>\n",
              "    </tr>\n",
              "    <tr>\n",
              "      <th>4</th>\n",
              "      <td>26.70</td>\n",
              "      <td>52.00</td>\n",
              "      <td>2023-03-25</td>\n",
              "      <td>10:47:26</td>\n",
              "      <td>2023-03-25 10:47:26</td>\n",
              "    </tr>\n",
              "  </tbody>\n",
              "</table>\n",
              "</div>\n",
              "      <button class=\"colab-df-convert\" onclick=\"convertToInteractive('df-ecbd2da3-c7c4-4805-aeb5-e6703cb6db32')\"\n",
              "              title=\"Convert this dataframe to an interactive table.\"\n",
              "              style=\"display:none;\">\n",
              "        \n",
              "  <svg xmlns=\"http://www.w3.org/2000/svg\" height=\"24px\"viewBox=\"0 0 24 24\"\n",
              "       width=\"24px\">\n",
              "    <path d=\"M0 0h24v24H0V0z\" fill=\"none\"/>\n",
              "    <path d=\"M18.56 5.44l.94 2.06.94-2.06 2.06-.94-2.06-.94-.94-2.06-.94 2.06-2.06.94zm-11 1L8.5 8.5l.94-2.06 2.06-.94-2.06-.94L8.5 2.5l-.94 2.06-2.06.94zm10 10l.94 2.06.94-2.06 2.06-.94-2.06-.94-.94-2.06-.94 2.06-2.06.94z\"/><path d=\"M17.41 7.96l-1.37-1.37c-.4-.4-.92-.59-1.43-.59-.52 0-1.04.2-1.43.59L10.3 9.45l-7.72 7.72c-.78.78-.78 2.05 0 2.83L4 21.41c.39.39.9.59 1.41.59.51 0 1.02-.2 1.41-.59l7.78-7.78 2.81-2.81c.8-.78.8-2.07 0-2.86zM5.41 20L4 18.59l7.72-7.72 1.47 1.35L5.41 20z\"/>\n",
              "  </svg>\n",
              "      </button>\n",
              "      \n",
              "  <style>\n",
              "    .colab-df-container {\n",
              "      display:flex;\n",
              "      flex-wrap:wrap;\n",
              "      gap: 12px;\n",
              "    }\n",
              "\n",
              "    .colab-df-convert {\n",
              "      background-color: #E8F0FE;\n",
              "      border: none;\n",
              "      border-radius: 50%;\n",
              "      cursor: pointer;\n",
              "      display: none;\n",
              "      fill: #1967D2;\n",
              "      height: 32px;\n",
              "      padding: 0 0 0 0;\n",
              "      width: 32px;\n",
              "    }\n",
              "\n",
              "    .colab-df-convert:hover {\n",
              "      background-color: #E2EBFA;\n",
              "      box-shadow: 0px 1px 2px rgba(60, 64, 67, 0.3), 0px 1px 3px 1px rgba(60, 64, 67, 0.15);\n",
              "      fill: #174EA6;\n",
              "    }\n",
              "\n",
              "    [theme=dark] .colab-df-convert {\n",
              "      background-color: #3B4455;\n",
              "      fill: #D2E3FC;\n",
              "    }\n",
              "\n",
              "    [theme=dark] .colab-df-convert:hover {\n",
              "      background-color: #434B5C;\n",
              "      box-shadow: 0px 1px 3px 1px rgba(0, 0, 0, 0.15);\n",
              "      filter: drop-shadow(0px 1px 2px rgba(0, 0, 0, 0.3));\n",
              "      fill: #FFFFFF;\n",
              "    }\n",
              "  </style>\n",
              "\n",
              "      <script>\n",
              "        const buttonEl =\n",
              "          document.querySelector('#df-ecbd2da3-c7c4-4805-aeb5-e6703cb6db32 button.colab-df-convert');\n",
              "        buttonEl.style.display =\n",
              "          google.colab.kernel.accessAllowed ? 'block' : 'none';\n",
              "\n",
              "        async function convertToInteractive(key) {\n",
              "          const element = document.querySelector('#df-ecbd2da3-c7c4-4805-aeb5-e6703cb6db32');\n",
              "          const dataTable =\n",
              "            await google.colab.kernel.invokeFunction('convertToInteractive',\n",
              "                                                     [key], {});\n",
              "          if (!dataTable) return;\n",
              "\n",
              "          const docLinkHtml = 'Like what you see? Visit the ' +\n",
              "            '<a target=\"_blank\" href=https://colab.research.google.com/notebooks/data_table.ipynb>data table notebook</a>'\n",
              "            + ' to learn more about interactive tables.';\n",
              "          element.innerHTML = '';\n",
              "          dataTable['output_type'] = 'display_data';\n",
              "          await google.colab.output.renderOutput(dataTable, element);\n",
              "          const docLink = document.createElement('div');\n",
              "          docLink.innerHTML = docLinkHtml;\n",
              "          element.appendChild(docLink);\n",
              "        }\n",
              "      </script>\n",
              "    </div>\n",
              "  </div>\n",
              "  "
            ]
          },
          "metadata": {},
          "execution_count": 16
        }
      ]
    },
    {
      "cell_type": "code",
      "source": [
        "dados_projeto.tail()"
      ],
      "metadata": {
        "colab": {
          "base_uri": "https://localhost:8080/",
          "height": 206
        },
        "id": "GRAs4yeZmqC9",
        "outputId": "a7231783-4e12-4bd6-a9ff-043338fd430b"
      },
      "execution_count": 17,
      "outputs": [
        {
          "output_type": "execute_result",
          "data": {
            "text/plain": [
              "     temp_ar umid_ar   time.data time.hora                data\n",
              "8503  333.00  333.00  2023-03-01  21:28:38 2023-03-01 21:28:38\n",
              "8504      15      15  2023-03-01  21:26:19 2023-03-01 21:26:19\n",
              "8505     333     333  2023-03-01  23:24:21 2023-03-01 23:24:21\n",
              "8506      10      10  2023-03-01  20:12:30 2023-03-01 20:12:30\n",
              "8507       2       3  2023-03-01  20:11:53 2023-03-01 20:11:53"
            ],
            "text/html": [
              "\n",
              "  <div id=\"df-0720259d-45ce-4efa-a758-0e4e693e7eba\">\n",
              "    <div class=\"colab-df-container\">\n",
              "      <div>\n",
              "<style scoped>\n",
              "    .dataframe tbody tr th:only-of-type {\n",
              "        vertical-align: middle;\n",
              "    }\n",
              "\n",
              "    .dataframe tbody tr th {\n",
              "        vertical-align: top;\n",
              "    }\n",
              "\n",
              "    .dataframe thead th {\n",
              "        text-align: right;\n",
              "    }\n",
              "</style>\n",
              "<table border=\"1\" class=\"dataframe\">\n",
              "  <thead>\n",
              "    <tr style=\"text-align: right;\">\n",
              "      <th></th>\n",
              "      <th>temp_ar</th>\n",
              "      <th>umid_ar</th>\n",
              "      <th>time.data</th>\n",
              "      <th>time.hora</th>\n",
              "      <th>data</th>\n",
              "    </tr>\n",
              "  </thead>\n",
              "  <tbody>\n",
              "    <tr>\n",
              "      <th>8503</th>\n",
              "      <td>333.00</td>\n",
              "      <td>333.00</td>\n",
              "      <td>2023-03-01</td>\n",
              "      <td>21:28:38</td>\n",
              "      <td>2023-03-01 21:28:38</td>\n",
              "    </tr>\n",
              "    <tr>\n",
              "      <th>8504</th>\n",
              "      <td>15</td>\n",
              "      <td>15</td>\n",
              "      <td>2023-03-01</td>\n",
              "      <td>21:26:19</td>\n",
              "      <td>2023-03-01 21:26:19</td>\n",
              "    </tr>\n",
              "    <tr>\n",
              "      <th>8505</th>\n",
              "      <td>333</td>\n",
              "      <td>333</td>\n",
              "      <td>2023-03-01</td>\n",
              "      <td>23:24:21</td>\n",
              "      <td>2023-03-01 23:24:21</td>\n",
              "    </tr>\n",
              "    <tr>\n",
              "      <th>8506</th>\n",
              "      <td>10</td>\n",
              "      <td>10</td>\n",
              "      <td>2023-03-01</td>\n",
              "      <td>20:12:30</td>\n",
              "      <td>2023-03-01 20:12:30</td>\n",
              "    </tr>\n",
              "    <tr>\n",
              "      <th>8507</th>\n",
              "      <td>2</td>\n",
              "      <td>3</td>\n",
              "      <td>2023-03-01</td>\n",
              "      <td>20:11:53</td>\n",
              "      <td>2023-03-01 20:11:53</td>\n",
              "    </tr>\n",
              "  </tbody>\n",
              "</table>\n",
              "</div>\n",
              "      <button class=\"colab-df-convert\" onclick=\"convertToInteractive('df-0720259d-45ce-4efa-a758-0e4e693e7eba')\"\n",
              "              title=\"Convert this dataframe to an interactive table.\"\n",
              "              style=\"display:none;\">\n",
              "        \n",
              "  <svg xmlns=\"http://www.w3.org/2000/svg\" height=\"24px\"viewBox=\"0 0 24 24\"\n",
              "       width=\"24px\">\n",
              "    <path d=\"M0 0h24v24H0V0z\" fill=\"none\"/>\n",
              "    <path d=\"M18.56 5.44l.94 2.06.94-2.06 2.06-.94-2.06-.94-.94-2.06-.94 2.06-2.06.94zm-11 1L8.5 8.5l.94-2.06 2.06-.94-2.06-.94L8.5 2.5l-.94 2.06-2.06.94zm10 10l.94 2.06.94-2.06 2.06-.94-2.06-.94-.94-2.06-.94 2.06-2.06.94z\"/><path d=\"M17.41 7.96l-1.37-1.37c-.4-.4-.92-.59-1.43-.59-.52 0-1.04.2-1.43.59L10.3 9.45l-7.72 7.72c-.78.78-.78 2.05 0 2.83L4 21.41c.39.39.9.59 1.41.59.51 0 1.02-.2 1.41-.59l7.78-7.78 2.81-2.81c.8-.78.8-2.07 0-2.86zM5.41 20L4 18.59l7.72-7.72 1.47 1.35L5.41 20z\"/>\n",
              "  </svg>\n",
              "      </button>\n",
              "      \n",
              "  <style>\n",
              "    .colab-df-container {\n",
              "      display:flex;\n",
              "      flex-wrap:wrap;\n",
              "      gap: 12px;\n",
              "    }\n",
              "\n",
              "    .colab-df-convert {\n",
              "      background-color: #E8F0FE;\n",
              "      border: none;\n",
              "      border-radius: 50%;\n",
              "      cursor: pointer;\n",
              "      display: none;\n",
              "      fill: #1967D2;\n",
              "      height: 32px;\n",
              "      padding: 0 0 0 0;\n",
              "      width: 32px;\n",
              "    }\n",
              "\n",
              "    .colab-df-convert:hover {\n",
              "      background-color: #E2EBFA;\n",
              "      box-shadow: 0px 1px 2px rgba(60, 64, 67, 0.3), 0px 1px 3px 1px rgba(60, 64, 67, 0.15);\n",
              "      fill: #174EA6;\n",
              "    }\n",
              "\n",
              "    [theme=dark] .colab-df-convert {\n",
              "      background-color: #3B4455;\n",
              "      fill: #D2E3FC;\n",
              "    }\n",
              "\n",
              "    [theme=dark] .colab-df-convert:hover {\n",
              "      background-color: #434B5C;\n",
              "      box-shadow: 0px 1px 3px 1px rgba(0, 0, 0, 0.15);\n",
              "      filter: drop-shadow(0px 1px 2px rgba(0, 0, 0, 0.3));\n",
              "      fill: #FFFFFF;\n",
              "    }\n",
              "  </style>\n",
              "\n",
              "      <script>\n",
              "        const buttonEl =\n",
              "          document.querySelector('#df-0720259d-45ce-4efa-a758-0e4e693e7eba button.colab-df-convert');\n",
              "        buttonEl.style.display =\n",
              "          google.colab.kernel.accessAllowed ? 'block' : 'none';\n",
              "\n",
              "        async function convertToInteractive(key) {\n",
              "          const element = document.querySelector('#df-0720259d-45ce-4efa-a758-0e4e693e7eba');\n",
              "          const dataTable =\n",
              "            await google.colab.kernel.invokeFunction('convertToInteractive',\n",
              "                                                     [key], {});\n",
              "          if (!dataTable) return;\n",
              "\n",
              "          const docLinkHtml = 'Like what you see? Visit the ' +\n",
              "            '<a target=\"_blank\" href=https://colab.research.google.com/notebooks/data_table.ipynb>data table notebook</a>'\n",
              "            + ' to learn more about interactive tables.';\n",
              "          element.innerHTML = '';\n",
              "          dataTable['output_type'] = 'display_data';\n",
              "          await google.colab.output.renderOutput(dataTable, element);\n",
              "          const docLink = document.createElement('div');\n",
              "          docLink.innerHTML = docLinkHtml;\n",
              "          element.appendChild(docLink);\n",
              "        }\n",
              "      </script>\n",
              "    </div>\n",
              "  </div>\n",
              "  "
            ]
          },
          "metadata": {},
          "execution_count": 17
        }
      ]
    },
    {
      "cell_type": "code",
      "source": [
        "dados_projeto.info()"
      ],
      "metadata": {
        "colab": {
          "base_uri": "https://localhost:8080/"
        },
        "id": "N1eeH4JamcdX",
        "outputId": "8d9d549e-2cbf-445e-ddd5-bc773e1f2693"
      },
      "execution_count": 18,
      "outputs": [
        {
          "output_type": "stream",
          "name": "stdout",
          "text": [
            "<class 'pandas.core.frame.DataFrame'>\n",
            "RangeIndex: 8508 entries, 0 to 8507\n",
            "Data columns (total 5 columns):\n",
            " #   Column     Non-Null Count  Dtype         \n",
            "---  ------     --------------  -----         \n",
            " 0   temp_ar    8508 non-null   object        \n",
            " 1   umid_ar    8508 non-null   object        \n",
            " 2   time.data  8508 non-null   object        \n",
            " 3   time.hora  8508 non-null   object        \n",
            " 4   data       8508 non-null   datetime64[ns]\n",
            "dtypes: datetime64[ns](1), object(4)\n",
            "memory usage: 332.5+ KB\n"
          ]
        }
      ]
    },
    {
      "cell_type": "markdown",
      "source": [
        "Verificando nulos novamente"
      ],
      "metadata": {
        "id": "lx9CUgXwb9h4"
      }
    },
    {
      "cell_type": "code",
      "source": [
        "df_dados_api.isnull().sum()"
      ],
      "metadata": {
        "colab": {
          "base_uri": "https://localhost:8080/"
        },
        "id": "ZbbSN_n2cASR",
        "outputId": "b3f6b2eb-d6f3-41cd-d90f-417d647666f1"
      },
      "execution_count": 19,
      "outputs": [
        {
          "output_type": "execute_result",
          "data": {
            "text/plain": [
              "temp_ar      0\n",
              "umid_ar      0\n",
              "time.data    0\n",
              "time.hora    0\n",
              "dtype: int64"
            ]
          },
          "metadata": {},
          "execution_count": 19
        }
      ]
    },
    {
      "cell_type": "markdown",
      "source": [
        "Visualizando contagem de registros agrupados por dia"
      ],
      "metadata": {
        "id": "T3U8VXPEc34L"
      }
    },
    {
      "cell_type": "code",
      "source": [
        "dados_projeto.groupby(by=\"time.data\").count()"
      ],
      "metadata": {
        "colab": {
          "base_uri": "https://localhost:8080/",
          "height": 865
        },
        "id": "uP1NO4JmZbh3",
        "outputId": "6231ce6e-f268-40c7-c69d-415030b64528"
      },
      "execution_count": 20,
      "outputs": [
        {
          "output_type": "execute_result",
          "data": {
            "text/plain": [
              "            temp_ar  umid_ar  time.hora  data\n",
              "time.data                                    \n",
              "2023-03-01       30       30         30    30\n",
              "2023-03-02      189      189        189   189\n",
              "2023-03-03      285      285        285   285\n",
              "2023-03-04      285      285        285   285\n",
              "2023-03-05      286      286        286   286\n",
              "2023-03-06      285      285        285   285\n",
              "2023-03-07      284      284        284   284\n",
              "2023-03-08      282      282        282   282\n",
              "2023-03-09      286      286        286   286\n",
              "2023-03-10      284      284        284   284\n",
              "2023-03-11      285      285        285   285\n",
              "2023-03-12      286      286        286   286\n",
              "2023-03-13      285      285        285   285\n",
              "2023-03-14      216      216        216   216\n",
              "2023-03-15      284      284        284   284\n",
              "2023-03-16      286      286        286   286\n",
              "2023-03-17      286      286        286   286\n",
              "2023-03-18      285      285        285   285\n",
              "2023-03-19      286      286        286   286\n",
              "2023-03-20      286      286        286   286\n",
              "2023-03-21      285      285        285   285\n",
              "2023-03-22      286      286        286   286\n",
              "2023-03-23      284      284        284   284\n",
              "2023-03-24     1444     1444       1444  1444\n",
              "2023-03-25      928      928        928   928"
            ],
            "text/html": [
              "\n",
              "  <div id=\"df-0fef3532-3bca-4711-bdb1-ffaeffb62259\">\n",
              "    <div class=\"colab-df-container\">\n",
              "      <div>\n",
              "<style scoped>\n",
              "    .dataframe tbody tr th:only-of-type {\n",
              "        vertical-align: middle;\n",
              "    }\n",
              "\n",
              "    .dataframe tbody tr th {\n",
              "        vertical-align: top;\n",
              "    }\n",
              "\n",
              "    .dataframe thead th {\n",
              "        text-align: right;\n",
              "    }\n",
              "</style>\n",
              "<table border=\"1\" class=\"dataframe\">\n",
              "  <thead>\n",
              "    <tr style=\"text-align: right;\">\n",
              "      <th></th>\n",
              "      <th>temp_ar</th>\n",
              "      <th>umid_ar</th>\n",
              "      <th>time.hora</th>\n",
              "      <th>data</th>\n",
              "    </tr>\n",
              "    <tr>\n",
              "      <th>time.data</th>\n",
              "      <th></th>\n",
              "      <th></th>\n",
              "      <th></th>\n",
              "      <th></th>\n",
              "    </tr>\n",
              "  </thead>\n",
              "  <tbody>\n",
              "    <tr>\n",
              "      <th>2023-03-01</th>\n",
              "      <td>30</td>\n",
              "      <td>30</td>\n",
              "      <td>30</td>\n",
              "      <td>30</td>\n",
              "    </tr>\n",
              "    <tr>\n",
              "      <th>2023-03-02</th>\n",
              "      <td>189</td>\n",
              "      <td>189</td>\n",
              "      <td>189</td>\n",
              "      <td>189</td>\n",
              "    </tr>\n",
              "    <tr>\n",
              "      <th>2023-03-03</th>\n",
              "      <td>285</td>\n",
              "      <td>285</td>\n",
              "      <td>285</td>\n",
              "      <td>285</td>\n",
              "    </tr>\n",
              "    <tr>\n",
              "      <th>2023-03-04</th>\n",
              "      <td>285</td>\n",
              "      <td>285</td>\n",
              "      <td>285</td>\n",
              "      <td>285</td>\n",
              "    </tr>\n",
              "    <tr>\n",
              "      <th>2023-03-05</th>\n",
              "      <td>286</td>\n",
              "      <td>286</td>\n",
              "      <td>286</td>\n",
              "      <td>286</td>\n",
              "    </tr>\n",
              "    <tr>\n",
              "      <th>2023-03-06</th>\n",
              "      <td>285</td>\n",
              "      <td>285</td>\n",
              "      <td>285</td>\n",
              "      <td>285</td>\n",
              "    </tr>\n",
              "    <tr>\n",
              "      <th>2023-03-07</th>\n",
              "      <td>284</td>\n",
              "      <td>284</td>\n",
              "      <td>284</td>\n",
              "      <td>284</td>\n",
              "    </tr>\n",
              "    <tr>\n",
              "      <th>2023-03-08</th>\n",
              "      <td>282</td>\n",
              "      <td>282</td>\n",
              "      <td>282</td>\n",
              "      <td>282</td>\n",
              "    </tr>\n",
              "    <tr>\n",
              "      <th>2023-03-09</th>\n",
              "      <td>286</td>\n",
              "      <td>286</td>\n",
              "      <td>286</td>\n",
              "      <td>286</td>\n",
              "    </tr>\n",
              "    <tr>\n",
              "      <th>2023-03-10</th>\n",
              "      <td>284</td>\n",
              "      <td>284</td>\n",
              "      <td>284</td>\n",
              "      <td>284</td>\n",
              "    </tr>\n",
              "    <tr>\n",
              "      <th>2023-03-11</th>\n",
              "      <td>285</td>\n",
              "      <td>285</td>\n",
              "      <td>285</td>\n",
              "      <td>285</td>\n",
              "    </tr>\n",
              "    <tr>\n",
              "      <th>2023-03-12</th>\n",
              "      <td>286</td>\n",
              "      <td>286</td>\n",
              "      <td>286</td>\n",
              "      <td>286</td>\n",
              "    </tr>\n",
              "    <tr>\n",
              "      <th>2023-03-13</th>\n",
              "      <td>285</td>\n",
              "      <td>285</td>\n",
              "      <td>285</td>\n",
              "      <td>285</td>\n",
              "    </tr>\n",
              "    <tr>\n",
              "      <th>2023-03-14</th>\n",
              "      <td>216</td>\n",
              "      <td>216</td>\n",
              "      <td>216</td>\n",
              "      <td>216</td>\n",
              "    </tr>\n",
              "    <tr>\n",
              "      <th>2023-03-15</th>\n",
              "      <td>284</td>\n",
              "      <td>284</td>\n",
              "      <td>284</td>\n",
              "      <td>284</td>\n",
              "    </tr>\n",
              "    <tr>\n",
              "      <th>2023-03-16</th>\n",
              "      <td>286</td>\n",
              "      <td>286</td>\n",
              "      <td>286</td>\n",
              "      <td>286</td>\n",
              "    </tr>\n",
              "    <tr>\n",
              "      <th>2023-03-17</th>\n",
              "      <td>286</td>\n",
              "      <td>286</td>\n",
              "      <td>286</td>\n",
              "      <td>286</td>\n",
              "    </tr>\n",
              "    <tr>\n",
              "      <th>2023-03-18</th>\n",
              "      <td>285</td>\n",
              "      <td>285</td>\n",
              "      <td>285</td>\n",
              "      <td>285</td>\n",
              "    </tr>\n",
              "    <tr>\n",
              "      <th>2023-03-19</th>\n",
              "      <td>286</td>\n",
              "      <td>286</td>\n",
              "      <td>286</td>\n",
              "      <td>286</td>\n",
              "    </tr>\n",
              "    <tr>\n",
              "      <th>2023-03-20</th>\n",
              "      <td>286</td>\n",
              "      <td>286</td>\n",
              "      <td>286</td>\n",
              "      <td>286</td>\n",
              "    </tr>\n",
              "    <tr>\n",
              "      <th>2023-03-21</th>\n",
              "      <td>285</td>\n",
              "      <td>285</td>\n",
              "      <td>285</td>\n",
              "      <td>285</td>\n",
              "    </tr>\n",
              "    <tr>\n",
              "      <th>2023-03-22</th>\n",
              "      <td>286</td>\n",
              "      <td>286</td>\n",
              "      <td>286</td>\n",
              "      <td>286</td>\n",
              "    </tr>\n",
              "    <tr>\n",
              "      <th>2023-03-23</th>\n",
              "      <td>284</td>\n",
              "      <td>284</td>\n",
              "      <td>284</td>\n",
              "      <td>284</td>\n",
              "    </tr>\n",
              "    <tr>\n",
              "      <th>2023-03-24</th>\n",
              "      <td>1444</td>\n",
              "      <td>1444</td>\n",
              "      <td>1444</td>\n",
              "      <td>1444</td>\n",
              "    </tr>\n",
              "    <tr>\n",
              "      <th>2023-03-25</th>\n",
              "      <td>928</td>\n",
              "      <td>928</td>\n",
              "      <td>928</td>\n",
              "      <td>928</td>\n",
              "    </tr>\n",
              "  </tbody>\n",
              "</table>\n",
              "</div>\n",
              "      <button class=\"colab-df-convert\" onclick=\"convertToInteractive('df-0fef3532-3bca-4711-bdb1-ffaeffb62259')\"\n",
              "              title=\"Convert this dataframe to an interactive table.\"\n",
              "              style=\"display:none;\">\n",
              "        \n",
              "  <svg xmlns=\"http://www.w3.org/2000/svg\" height=\"24px\"viewBox=\"0 0 24 24\"\n",
              "       width=\"24px\">\n",
              "    <path d=\"M0 0h24v24H0V0z\" fill=\"none\"/>\n",
              "    <path d=\"M18.56 5.44l.94 2.06.94-2.06 2.06-.94-2.06-.94-.94-2.06-.94 2.06-2.06.94zm-11 1L8.5 8.5l.94-2.06 2.06-.94-2.06-.94L8.5 2.5l-.94 2.06-2.06.94zm10 10l.94 2.06.94-2.06 2.06-.94-2.06-.94-.94-2.06-.94 2.06-2.06.94z\"/><path d=\"M17.41 7.96l-1.37-1.37c-.4-.4-.92-.59-1.43-.59-.52 0-1.04.2-1.43.59L10.3 9.45l-7.72 7.72c-.78.78-.78 2.05 0 2.83L4 21.41c.39.39.9.59 1.41.59.51 0 1.02-.2 1.41-.59l7.78-7.78 2.81-2.81c.8-.78.8-2.07 0-2.86zM5.41 20L4 18.59l7.72-7.72 1.47 1.35L5.41 20z\"/>\n",
              "  </svg>\n",
              "      </button>\n",
              "      \n",
              "  <style>\n",
              "    .colab-df-container {\n",
              "      display:flex;\n",
              "      flex-wrap:wrap;\n",
              "      gap: 12px;\n",
              "    }\n",
              "\n",
              "    .colab-df-convert {\n",
              "      background-color: #E8F0FE;\n",
              "      border: none;\n",
              "      border-radius: 50%;\n",
              "      cursor: pointer;\n",
              "      display: none;\n",
              "      fill: #1967D2;\n",
              "      height: 32px;\n",
              "      padding: 0 0 0 0;\n",
              "      width: 32px;\n",
              "    }\n",
              "\n",
              "    .colab-df-convert:hover {\n",
              "      background-color: #E2EBFA;\n",
              "      box-shadow: 0px 1px 2px rgba(60, 64, 67, 0.3), 0px 1px 3px 1px rgba(60, 64, 67, 0.15);\n",
              "      fill: #174EA6;\n",
              "    }\n",
              "\n",
              "    [theme=dark] .colab-df-convert {\n",
              "      background-color: #3B4455;\n",
              "      fill: #D2E3FC;\n",
              "    }\n",
              "\n",
              "    [theme=dark] .colab-df-convert:hover {\n",
              "      background-color: #434B5C;\n",
              "      box-shadow: 0px 1px 3px 1px rgba(0, 0, 0, 0.15);\n",
              "      filter: drop-shadow(0px 1px 2px rgba(0, 0, 0, 0.3));\n",
              "      fill: #FFFFFF;\n",
              "    }\n",
              "  </style>\n",
              "\n",
              "      <script>\n",
              "        const buttonEl =\n",
              "          document.querySelector('#df-0fef3532-3bca-4711-bdb1-ffaeffb62259 button.colab-df-convert');\n",
              "        buttonEl.style.display =\n",
              "          google.colab.kernel.accessAllowed ? 'block' : 'none';\n",
              "\n",
              "        async function convertToInteractive(key) {\n",
              "          const element = document.querySelector('#df-0fef3532-3bca-4711-bdb1-ffaeffb62259');\n",
              "          const dataTable =\n",
              "            await google.colab.kernel.invokeFunction('convertToInteractive',\n",
              "                                                     [key], {});\n",
              "          if (!dataTable) return;\n",
              "\n",
              "          const docLinkHtml = 'Like what you see? Visit the ' +\n",
              "            '<a target=\"_blank\" href=https://colab.research.google.com/notebooks/data_table.ipynb>data table notebook</a>'\n",
              "            + ' to learn more about interactive tables.';\n",
              "          element.innerHTML = '';\n",
              "          dataTable['output_type'] = 'display_data';\n",
              "          await google.colab.output.renderOutput(dataTable, element);\n",
              "          const docLink = document.createElement('div');\n",
              "          docLink.innerHTML = docLinkHtml;\n",
              "          element.appendChild(docLink);\n",
              "        }\n",
              "      </script>\n",
              "    </div>\n",
              "  </div>\n",
              "  "
            ]
          },
          "metadata": {},
          "execution_count": 20
        }
      ]
    },
    {
      "cell_type": "markdown",
      "source": [
        "Deletando colunas que não vamos usar mais"
      ],
      "metadata": {
        "id": "_RgJz_rXdXxe"
      }
    },
    {
      "cell_type": "code",
      "source": [
        "del dados_projeto['time.data']\n",
        "del dados_projeto['time.hora']"
      ],
      "metadata": {
        "id": "zQIQVFl9myhX"
      },
      "execution_count": 21,
      "outputs": []
    },
    {
      "cell_type": "code",
      "source": [
        "dados_projeto.head()"
      ],
      "metadata": {
        "colab": {
          "base_uri": "https://localhost:8080/",
          "height": 206
        },
        "id": "0oA3J77inH68",
        "outputId": "fabcf278-fed0-4d55-f723-33b990fc8a0b"
      },
      "execution_count": 22,
      "outputs": [
        {
          "output_type": "execute_result",
          "data": {
            "text/plain": [
              "  temp_ar umid_ar                data\n",
              "0   26.70   52.00 2023-03-25 10:50:14\n",
              "1   26.70   52.00 2023-03-25 10:49:32\n",
              "2   26.70   52.00 2023-03-25 10:48:50\n",
              "3   26.70   52.00 2023-03-25 10:48:08\n",
              "4   26.70   52.00 2023-03-25 10:47:26"
            ],
            "text/html": [
              "\n",
              "  <div id=\"df-c7a59f91-f8e4-4905-a1b7-6cbd3e4210b0\">\n",
              "    <div class=\"colab-df-container\">\n",
              "      <div>\n",
              "<style scoped>\n",
              "    .dataframe tbody tr th:only-of-type {\n",
              "        vertical-align: middle;\n",
              "    }\n",
              "\n",
              "    .dataframe tbody tr th {\n",
              "        vertical-align: top;\n",
              "    }\n",
              "\n",
              "    .dataframe thead th {\n",
              "        text-align: right;\n",
              "    }\n",
              "</style>\n",
              "<table border=\"1\" class=\"dataframe\">\n",
              "  <thead>\n",
              "    <tr style=\"text-align: right;\">\n",
              "      <th></th>\n",
              "      <th>temp_ar</th>\n",
              "      <th>umid_ar</th>\n",
              "      <th>data</th>\n",
              "    </tr>\n",
              "  </thead>\n",
              "  <tbody>\n",
              "    <tr>\n",
              "      <th>0</th>\n",
              "      <td>26.70</td>\n",
              "      <td>52.00</td>\n",
              "      <td>2023-03-25 10:50:14</td>\n",
              "    </tr>\n",
              "    <tr>\n",
              "      <th>1</th>\n",
              "      <td>26.70</td>\n",
              "      <td>52.00</td>\n",
              "      <td>2023-03-25 10:49:32</td>\n",
              "    </tr>\n",
              "    <tr>\n",
              "      <th>2</th>\n",
              "      <td>26.70</td>\n",
              "      <td>52.00</td>\n",
              "      <td>2023-03-25 10:48:50</td>\n",
              "    </tr>\n",
              "    <tr>\n",
              "      <th>3</th>\n",
              "      <td>26.70</td>\n",
              "      <td>52.00</td>\n",
              "      <td>2023-03-25 10:48:08</td>\n",
              "    </tr>\n",
              "    <tr>\n",
              "      <th>4</th>\n",
              "      <td>26.70</td>\n",
              "      <td>52.00</td>\n",
              "      <td>2023-03-25 10:47:26</td>\n",
              "    </tr>\n",
              "  </tbody>\n",
              "</table>\n",
              "</div>\n",
              "      <button class=\"colab-df-convert\" onclick=\"convertToInteractive('df-c7a59f91-f8e4-4905-a1b7-6cbd3e4210b0')\"\n",
              "              title=\"Convert this dataframe to an interactive table.\"\n",
              "              style=\"display:none;\">\n",
              "        \n",
              "  <svg xmlns=\"http://www.w3.org/2000/svg\" height=\"24px\"viewBox=\"0 0 24 24\"\n",
              "       width=\"24px\">\n",
              "    <path d=\"M0 0h24v24H0V0z\" fill=\"none\"/>\n",
              "    <path d=\"M18.56 5.44l.94 2.06.94-2.06 2.06-.94-2.06-.94-.94-2.06-.94 2.06-2.06.94zm-11 1L8.5 8.5l.94-2.06 2.06-.94-2.06-.94L8.5 2.5l-.94 2.06-2.06.94zm10 10l.94 2.06.94-2.06 2.06-.94-2.06-.94-.94-2.06-.94 2.06-2.06.94z\"/><path d=\"M17.41 7.96l-1.37-1.37c-.4-.4-.92-.59-1.43-.59-.52 0-1.04.2-1.43.59L10.3 9.45l-7.72 7.72c-.78.78-.78 2.05 0 2.83L4 21.41c.39.39.9.59 1.41.59.51 0 1.02-.2 1.41-.59l7.78-7.78 2.81-2.81c.8-.78.8-2.07 0-2.86zM5.41 20L4 18.59l7.72-7.72 1.47 1.35L5.41 20z\"/>\n",
              "  </svg>\n",
              "      </button>\n",
              "      \n",
              "  <style>\n",
              "    .colab-df-container {\n",
              "      display:flex;\n",
              "      flex-wrap:wrap;\n",
              "      gap: 12px;\n",
              "    }\n",
              "\n",
              "    .colab-df-convert {\n",
              "      background-color: #E8F0FE;\n",
              "      border: none;\n",
              "      border-radius: 50%;\n",
              "      cursor: pointer;\n",
              "      display: none;\n",
              "      fill: #1967D2;\n",
              "      height: 32px;\n",
              "      padding: 0 0 0 0;\n",
              "      width: 32px;\n",
              "    }\n",
              "\n",
              "    .colab-df-convert:hover {\n",
              "      background-color: #E2EBFA;\n",
              "      box-shadow: 0px 1px 2px rgba(60, 64, 67, 0.3), 0px 1px 3px 1px rgba(60, 64, 67, 0.15);\n",
              "      fill: #174EA6;\n",
              "    }\n",
              "\n",
              "    [theme=dark] .colab-df-convert {\n",
              "      background-color: #3B4455;\n",
              "      fill: #D2E3FC;\n",
              "    }\n",
              "\n",
              "    [theme=dark] .colab-df-convert:hover {\n",
              "      background-color: #434B5C;\n",
              "      box-shadow: 0px 1px 3px 1px rgba(0, 0, 0, 0.15);\n",
              "      filter: drop-shadow(0px 1px 2px rgba(0, 0, 0, 0.3));\n",
              "      fill: #FFFFFF;\n",
              "    }\n",
              "  </style>\n",
              "\n",
              "      <script>\n",
              "        const buttonEl =\n",
              "          document.querySelector('#df-c7a59f91-f8e4-4905-a1b7-6cbd3e4210b0 button.colab-df-convert');\n",
              "        buttonEl.style.display =\n",
              "          google.colab.kernel.accessAllowed ? 'block' : 'none';\n",
              "\n",
              "        async function convertToInteractive(key) {\n",
              "          const element = document.querySelector('#df-c7a59f91-f8e4-4905-a1b7-6cbd3e4210b0');\n",
              "          const dataTable =\n",
              "            await google.colab.kernel.invokeFunction('convertToInteractive',\n",
              "                                                     [key], {});\n",
              "          if (!dataTable) return;\n",
              "\n",
              "          const docLinkHtml = 'Like what you see? Visit the ' +\n",
              "            '<a target=\"_blank\" href=https://colab.research.google.com/notebooks/data_table.ipynb>data table notebook</a>'\n",
              "            + ' to learn more about interactive tables.';\n",
              "          element.innerHTML = '';\n",
              "          dataTable['output_type'] = 'display_data';\n",
              "          await google.colab.output.renderOutput(dataTable, element);\n",
              "          const docLink = document.createElement('div');\n",
              "          docLink.innerHTML = docLinkHtml;\n",
              "          element.appendChild(docLink);\n",
              "        }\n",
              "      </script>\n",
              "    </div>\n",
              "  </div>\n",
              "  "
            ]
          },
          "metadata": {},
          "execution_count": 22
        }
      ]
    },
    {
      "cell_type": "code",
      "source": [
        "dados_projeto.tail()"
      ],
      "metadata": {
        "colab": {
          "base_uri": "https://localhost:8080/",
          "height": 206
        },
        "id": "-HSEDsa9ddp1",
        "outputId": "158e72ff-3f37-4b4c-f601-f4f28dae9d8d"
      },
      "execution_count": 51,
      "outputs": [
        {
          "output_type": "execute_result",
          "data": {
            "text/plain": [
              "     temp_ar umid_ar                data\n",
              "8503  333.00  333.00 2023-03-01 21:28:38\n",
              "8504      15      15 2023-03-01 21:26:19\n",
              "8505     333     333 2023-03-01 23:24:21\n",
              "8506      10      10 2023-03-01 20:12:30\n",
              "8507       2       3 2023-03-01 20:11:53"
            ],
            "text/html": [
              "\n",
              "  <div id=\"df-22a9ef51-ebdd-4cbf-ba97-e519b110c22d\">\n",
              "    <div class=\"colab-df-container\">\n",
              "      <div>\n",
              "<style scoped>\n",
              "    .dataframe tbody tr th:only-of-type {\n",
              "        vertical-align: middle;\n",
              "    }\n",
              "\n",
              "    .dataframe tbody tr th {\n",
              "        vertical-align: top;\n",
              "    }\n",
              "\n",
              "    .dataframe thead th {\n",
              "        text-align: right;\n",
              "    }\n",
              "</style>\n",
              "<table border=\"1\" class=\"dataframe\">\n",
              "  <thead>\n",
              "    <tr style=\"text-align: right;\">\n",
              "      <th></th>\n",
              "      <th>temp_ar</th>\n",
              "      <th>umid_ar</th>\n",
              "      <th>data</th>\n",
              "    </tr>\n",
              "  </thead>\n",
              "  <tbody>\n",
              "    <tr>\n",
              "      <th>8503</th>\n",
              "      <td>333.00</td>\n",
              "      <td>333.00</td>\n",
              "      <td>2023-03-01 21:28:38</td>\n",
              "    </tr>\n",
              "    <tr>\n",
              "      <th>8504</th>\n",
              "      <td>15</td>\n",
              "      <td>15</td>\n",
              "      <td>2023-03-01 21:26:19</td>\n",
              "    </tr>\n",
              "    <tr>\n",
              "      <th>8505</th>\n",
              "      <td>333</td>\n",
              "      <td>333</td>\n",
              "      <td>2023-03-01 23:24:21</td>\n",
              "    </tr>\n",
              "    <tr>\n",
              "      <th>8506</th>\n",
              "      <td>10</td>\n",
              "      <td>10</td>\n",
              "      <td>2023-03-01 20:12:30</td>\n",
              "    </tr>\n",
              "    <tr>\n",
              "      <th>8507</th>\n",
              "      <td>2</td>\n",
              "      <td>3</td>\n",
              "      <td>2023-03-01 20:11:53</td>\n",
              "    </tr>\n",
              "  </tbody>\n",
              "</table>\n",
              "</div>\n",
              "      <button class=\"colab-df-convert\" onclick=\"convertToInteractive('df-22a9ef51-ebdd-4cbf-ba97-e519b110c22d')\"\n",
              "              title=\"Convert this dataframe to an interactive table.\"\n",
              "              style=\"display:none;\">\n",
              "        \n",
              "  <svg xmlns=\"http://www.w3.org/2000/svg\" height=\"24px\"viewBox=\"0 0 24 24\"\n",
              "       width=\"24px\">\n",
              "    <path d=\"M0 0h24v24H0V0z\" fill=\"none\"/>\n",
              "    <path d=\"M18.56 5.44l.94 2.06.94-2.06 2.06-.94-2.06-.94-.94-2.06-.94 2.06-2.06.94zm-11 1L8.5 8.5l.94-2.06 2.06-.94-2.06-.94L8.5 2.5l-.94 2.06-2.06.94zm10 10l.94 2.06.94-2.06 2.06-.94-2.06-.94-.94-2.06-.94 2.06-2.06.94z\"/><path d=\"M17.41 7.96l-1.37-1.37c-.4-.4-.92-.59-1.43-.59-.52 0-1.04.2-1.43.59L10.3 9.45l-7.72 7.72c-.78.78-.78 2.05 0 2.83L4 21.41c.39.39.9.59 1.41.59.51 0 1.02-.2 1.41-.59l7.78-7.78 2.81-2.81c.8-.78.8-2.07 0-2.86zM5.41 20L4 18.59l7.72-7.72 1.47 1.35L5.41 20z\"/>\n",
              "  </svg>\n",
              "      </button>\n",
              "      \n",
              "  <style>\n",
              "    .colab-df-container {\n",
              "      display:flex;\n",
              "      flex-wrap:wrap;\n",
              "      gap: 12px;\n",
              "    }\n",
              "\n",
              "    .colab-df-convert {\n",
              "      background-color: #E8F0FE;\n",
              "      border: none;\n",
              "      border-radius: 50%;\n",
              "      cursor: pointer;\n",
              "      display: none;\n",
              "      fill: #1967D2;\n",
              "      height: 32px;\n",
              "      padding: 0 0 0 0;\n",
              "      width: 32px;\n",
              "    }\n",
              "\n",
              "    .colab-df-convert:hover {\n",
              "      background-color: #E2EBFA;\n",
              "      box-shadow: 0px 1px 2px rgba(60, 64, 67, 0.3), 0px 1px 3px 1px rgba(60, 64, 67, 0.15);\n",
              "      fill: #174EA6;\n",
              "    }\n",
              "\n",
              "    [theme=dark] .colab-df-convert {\n",
              "      background-color: #3B4455;\n",
              "      fill: #D2E3FC;\n",
              "    }\n",
              "\n",
              "    [theme=dark] .colab-df-convert:hover {\n",
              "      background-color: #434B5C;\n",
              "      box-shadow: 0px 1px 3px 1px rgba(0, 0, 0, 0.15);\n",
              "      filter: drop-shadow(0px 1px 2px rgba(0, 0, 0, 0.3));\n",
              "      fill: #FFFFFF;\n",
              "    }\n",
              "  </style>\n",
              "\n",
              "      <script>\n",
              "        const buttonEl =\n",
              "          document.querySelector('#df-22a9ef51-ebdd-4cbf-ba97-e519b110c22d button.colab-df-convert');\n",
              "        buttonEl.style.display =\n",
              "          google.colab.kernel.accessAllowed ? 'block' : 'none';\n",
              "\n",
              "        async function convertToInteractive(key) {\n",
              "          const element = document.querySelector('#df-22a9ef51-ebdd-4cbf-ba97-e519b110c22d');\n",
              "          const dataTable =\n",
              "            await google.colab.kernel.invokeFunction('convertToInteractive',\n",
              "                                                     [key], {});\n",
              "          if (!dataTable) return;\n",
              "\n",
              "          const docLinkHtml = 'Like what you see? Visit the ' +\n",
              "            '<a target=\"_blank\" href=https://colab.research.google.com/notebooks/data_table.ipynb>data table notebook</a>'\n",
              "            + ' to learn more about interactive tables.';\n",
              "          element.innerHTML = '';\n",
              "          dataTable['output_type'] = 'display_data';\n",
              "          await google.colab.output.renderOutput(dataTable, element);\n",
              "          const docLink = document.createElement('div');\n",
              "          docLink.innerHTML = docLinkHtml;\n",
              "          element.appendChild(docLink);\n",
              "        }\n",
              "      </script>\n",
              "    </div>\n",
              "  </div>\n",
              "  "
            ]
          },
          "metadata": {},
          "execution_count": 51
        }
      ]
    },
    {
      "cell_type": "markdown",
      "source": [
        "# Filtro por período a partir do dia 04/03/2023"
      ],
      "metadata": {
        "id": "6KpjyF3jdla_"
      }
    },
    {
      "cell_type": "code",
      "source": [
        "filtro = (dados_projeto.data >= '2023-03-04 00:00:00') & (dados_projeto.data <= '2023-03-26 00:00:00')\n",
        "serie = dados_projeto.loc[filtro]\n",
        "serie"
      ],
      "metadata": {
        "colab": {
          "base_uri": "https://localhost:8080/",
          "height": 424
        },
        "id": "f7ImwAxppoKN",
        "outputId": "c085f4d2-5bf4-432e-8378-5676d97b8513"
      },
      "execution_count": 64,
      "outputs": [
        {
          "output_type": "execute_result",
          "data": {
            "text/plain": [
              "     temp_ar umid_ar                data\n",
              "0      26.70   52.00 2023-03-25 10:50:14\n",
              "1      26.70   52.00 2023-03-25 10:49:32\n",
              "2      26.70   52.00 2023-03-25 10:48:50\n",
              "3      26.70   52.00 2023-03-25 10:48:08\n",
              "4      26.70   52.00 2023-03-25 10:47:26\n",
              "...      ...     ...                 ...\n",
              "7999   26.60   57.00 2023-03-04 00:24:21\n",
              "8000   26.60   57.00 2023-03-04 00:19:18\n",
              "8001   26.60   57.00 2023-03-04 00:14:16\n",
              "8002   26.60   58.00 2023-03-04 00:09:14\n",
              "8003   26.60   57.00 2023-03-04 00:04:12\n",
              "\n",
              "[8004 rows x 3 columns]"
            ],
            "text/html": [
              "\n",
              "  <div id=\"df-b36a895e-25b7-48bd-b5e0-a9a1b4eb9019\">\n",
              "    <div class=\"colab-df-container\">\n",
              "      <div>\n",
              "<style scoped>\n",
              "    .dataframe tbody tr th:only-of-type {\n",
              "        vertical-align: middle;\n",
              "    }\n",
              "\n",
              "    .dataframe tbody tr th {\n",
              "        vertical-align: top;\n",
              "    }\n",
              "\n",
              "    .dataframe thead th {\n",
              "        text-align: right;\n",
              "    }\n",
              "</style>\n",
              "<table border=\"1\" class=\"dataframe\">\n",
              "  <thead>\n",
              "    <tr style=\"text-align: right;\">\n",
              "      <th></th>\n",
              "      <th>temp_ar</th>\n",
              "      <th>umid_ar</th>\n",
              "      <th>data</th>\n",
              "    </tr>\n",
              "  </thead>\n",
              "  <tbody>\n",
              "    <tr>\n",
              "      <th>0</th>\n",
              "      <td>26.70</td>\n",
              "      <td>52.00</td>\n",
              "      <td>2023-03-25 10:50:14</td>\n",
              "    </tr>\n",
              "    <tr>\n",
              "      <th>1</th>\n",
              "      <td>26.70</td>\n",
              "      <td>52.00</td>\n",
              "      <td>2023-03-25 10:49:32</td>\n",
              "    </tr>\n",
              "    <tr>\n",
              "      <th>2</th>\n",
              "      <td>26.70</td>\n",
              "      <td>52.00</td>\n",
              "      <td>2023-03-25 10:48:50</td>\n",
              "    </tr>\n",
              "    <tr>\n",
              "      <th>3</th>\n",
              "      <td>26.70</td>\n",
              "      <td>52.00</td>\n",
              "      <td>2023-03-25 10:48:08</td>\n",
              "    </tr>\n",
              "    <tr>\n",
              "      <th>4</th>\n",
              "      <td>26.70</td>\n",
              "      <td>52.00</td>\n",
              "      <td>2023-03-25 10:47:26</td>\n",
              "    </tr>\n",
              "    <tr>\n",
              "      <th>...</th>\n",
              "      <td>...</td>\n",
              "      <td>...</td>\n",
              "      <td>...</td>\n",
              "    </tr>\n",
              "    <tr>\n",
              "      <th>7999</th>\n",
              "      <td>26.60</td>\n",
              "      <td>57.00</td>\n",
              "      <td>2023-03-04 00:24:21</td>\n",
              "    </tr>\n",
              "    <tr>\n",
              "      <th>8000</th>\n",
              "      <td>26.60</td>\n",
              "      <td>57.00</td>\n",
              "      <td>2023-03-04 00:19:18</td>\n",
              "    </tr>\n",
              "    <tr>\n",
              "      <th>8001</th>\n",
              "      <td>26.60</td>\n",
              "      <td>57.00</td>\n",
              "      <td>2023-03-04 00:14:16</td>\n",
              "    </tr>\n",
              "    <tr>\n",
              "      <th>8002</th>\n",
              "      <td>26.60</td>\n",
              "      <td>58.00</td>\n",
              "      <td>2023-03-04 00:09:14</td>\n",
              "    </tr>\n",
              "    <tr>\n",
              "      <th>8003</th>\n",
              "      <td>26.60</td>\n",
              "      <td>57.00</td>\n",
              "      <td>2023-03-04 00:04:12</td>\n",
              "    </tr>\n",
              "  </tbody>\n",
              "</table>\n",
              "<p>8004 rows × 3 columns</p>\n",
              "</div>\n",
              "      <button class=\"colab-df-convert\" onclick=\"convertToInteractive('df-b36a895e-25b7-48bd-b5e0-a9a1b4eb9019')\"\n",
              "              title=\"Convert this dataframe to an interactive table.\"\n",
              "              style=\"display:none;\">\n",
              "        \n",
              "  <svg xmlns=\"http://www.w3.org/2000/svg\" height=\"24px\"viewBox=\"0 0 24 24\"\n",
              "       width=\"24px\">\n",
              "    <path d=\"M0 0h24v24H0V0z\" fill=\"none\"/>\n",
              "    <path d=\"M18.56 5.44l.94 2.06.94-2.06 2.06-.94-2.06-.94-.94-2.06-.94 2.06-2.06.94zm-11 1L8.5 8.5l.94-2.06 2.06-.94-2.06-.94L8.5 2.5l-.94 2.06-2.06.94zm10 10l.94 2.06.94-2.06 2.06-.94-2.06-.94-.94-2.06-.94 2.06-2.06.94z\"/><path d=\"M17.41 7.96l-1.37-1.37c-.4-.4-.92-.59-1.43-.59-.52 0-1.04.2-1.43.59L10.3 9.45l-7.72 7.72c-.78.78-.78 2.05 0 2.83L4 21.41c.39.39.9.59 1.41.59.51 0 1.02-.2 1.41-.59l7.78-7.78 2.81-2.81c.8-.78.8-2.07 0-2.86zM5.41 20L4 18.59l7.72-7.72 1.47 1.35L5.41 20z\"/>\n",
              "  </svg>\n",
              "      </button>\n",
              "      \n",
              "  <style>\n",
              "    .colab-df-container {\n",
              "      display:flex;\n",
              "      flex-wrap:wrap;\n",
              "      gap: 12px;\n",
              "    }\n",
              "\n",
              "    .colab-df-convert {\n",
              "      background-color: #E8F0FE;\n",
              "      border: none;\n",
              "      border-radius: 50%;\n",
              "      cursor: pointer;\n",
              "      display: none;\n",
              "      fill: #1967D2;\n",
              "      height: 32px;\n",
              "      padding: 0 0 0 0;\n",
              "      width: 32px;\n",
              "    }\n",
              "\n",
              "    .colab-df-convert:hover {\n",
              "      background-color: #E2EBFA;\n",
              "      box-shadow: 0px 1px 2px rgba(60, 64, 67, 0.3), 0px 1px 3px 1px rgba(60, 64, 67, 0.15);\n",
              "      fill: #174EA6;\n",
              "    }\n",
              "\n",
              "    [theme=dark] .colab-df-convert {\n",
              "      background-color: #3B4455;\n",
              "      fill: #D2E3FC;\n",
              "    }\n",
              "\n",
              "    [theme=dark] .colab-df-convert:hover {\n",
              "      background-color: #434B5C;\n",
              "      box-shadow: 0px 1px 3px 1px rgba(0, 0, 0, 0.15);\n",
              "      filter: drop-shadow(0px 1px 2px rgba(0, 0, 0, 0.3));\n",
              "      fill: #FFFFFF;\n",
              "    }\n",
              "  </style>\n",
              "\n",
              "      <script>\n",
              "        const buttonEl =\n",
              "          document.querySelector('#df-b36a895e-25b7-48bd-b5e0-a9a1b4eb9019 button.colab-df-convert');\n",
              "        buttonEl.style.display =\n",
              "          google.colab.kernel.accessAllowed ? 'block' : 'none';\n",
              "\n",
              "        async function convertToInteractive(key) {\n",
              "          const element = document.querySelector('#df-b36a895e-25b7-48bd-b5e0-a9a1b4eb9019');\n",
              "          const dataTable =\n",
              "            await google.colab.kernel.invokeFunction('convertToInteractive',\n",
              "                                                     [key], {});\n",
              "          if (!dataTable) return;\n",
              "\n",
              "          const docLinkHtml = 'Like what you see? Visit the ' +\n",
              "            '<a target=\"_blank\" href=https://colab.research.google.com/notebooks/data_table.ipynb>data table notebook</a>'\n",
              "            + ' to learn more about interactive tables.';\n",
              "          element.innerHTML = '';\n",
              "          dataTable['output_type'] = 'display_data';\n",
              "          await google.colab.output.renderOutput(dataTable, element);\n",
              "          const docLink = document.createElement('div');\n",
              "          docLink.innerHTML = docLinkHtml;\n",
              "          element.appendChild(docLink);\n",
              "        }\n",
              "      </script>\n",
              "    </div>\n",
              "  </div>\n",
              "  "
            ]
          },
          "metadata": {},
          "execution_count": 64
        }
      ]
    },
    {
      "cell_type": "code",
      "source": [
        "%%time\n",
        "plt.figure(figsize=(30,5))\n",
        "serie.temp_ar.plot()\n",
        "plt.xticks(fontsize=22)\n",
        "plt.yticks(fontsize=22)\n",
        "plt.xlabel('Período',size=22)\n",
        "plt.ylabel('Temperatura do ar',size=22)\n",
        "plt.title('Temperatura do ar',size=22)\n",
        "\n",
        "plt.savefig('data_temp_ar_conjunto_tratado_original.png', facecolor='white', transparent=False)  \n",
        "plt.show() \n",
        "plt.close()"
      ],
      "metadata": {
        "id": "FYAY-01a5TFh",
        "outputId": "ebc7b9ac-3272-4cf2-d333-f8b370ea1d02",
        "colab": {
          "base_uri": "https://localhost:8080/",
          "height": 246
        }
      },
      "execution_count": 65,
      "outputs": [
        {
          "output_type": "display_data",
          "data": {
            "text/plain": [
              "<Figure size 2160x360 with 1 Axes>"
            ],
            "image/png": "[encoded data removed]"
          },
          "metadata": {
            "needs_background": "light"
          }
        },
        {
          "output_type": "stream",
          "name": "stdout",
          "text": [
            "CPU times: user 433 ms, sys: 90.6 ms, total: 524 ms\n",
            "Wall time: 439 ms\n"
          ]
        }
      ]
    },
    {
      "cell_type": "code",
      "source": [
        "%%time\n",
        "plt.figure(figsize=(30,5))\n",
        "serie.umid_ar.plot()\n",
        "plt.xticks(fontsize=22)\n",
        "plt.yticks(fontsize=22)\n",
        "plt.xlabel('Período',size=22)\n",
        "plt.ylabel('Umidade do ar',size=22)\n",
        "plt.title('Umidade do ar',size=22)\n",
        "\n",
        "plt.savefig('data_umidade_ar_conjunto_tratado_original.png', facecolor='white', transparent=False)  \n",
        "plt.show() \n",
        "plt.close()"
      ],
      "metadata": {
        "colab": {
          "base_uri": "https://localhost:8080/",
          "height": 246
        },
        "id": "-L3aYySGyqCt",
        "outputId": "bd3a2389-5957-4bfc-8878-81c395cedecc"
      },
      "execution_count": 66,
      "outputs": [
        {
          "output_type": "display_data",
          "data": {
            "text/plain": [
              "<Figure size 2160x360 with 1 Axes>"
            ],
            "image/png": "[encoded data removed]"
          },
          "metadata": {
            "needs_background": "light"
          }
        },
        {
          "output_type": "stream",
          "name": "stdout",
          "text": [
            "CPU times: user 612 ms, sys: 48.7 ms, total: 661 ms\n",
            "Wall time: 648 ms\n"
          ]
        }
      ]
    },
    {
      "cell_type": "markdown",
      "source": [
        "# Agrupando dados a cada t minuto(s) utilizando a média"
      ],
      "metadata": {
        "id": "uZr7m-fVz5yj"
      }
    },
    {
      "cell_type": "markdown",
      "source": [
        "Definindo os minutos"
      ],
      "metadata": {
        "id": "j57OX5ChCBiG"
      }
    },
    {
      "cell_type": "code",
      "source": [
        "minutos = 30"
      ],
      "metadata": {
        "id": "vuVNvj0FCDSt"
      },
      "execution_count": 67,
      "outputs": []
    },
    {
      "cell_type": "markdown",
      "source": [
        "Setando a data como index"
      ],
      "metadata": {
        "id": "G4A0Txky02jI"
      }
    },
    {
      "cell_type": "code",
      "source": [
        "serie.set_index('data', inplace=True)"
      ],
      "metadata": {
        "id": "a4SinHUd78i3"
      },
      "execution_count": 68,
      "outputs": []
    },
    {
      "cell_type": "code",
      "source": [
        "serie"
      ],
      "metadata": {
        "id": "BXcNjjKx8ute",
        "outputId": "f8352b55-73ed-4a95-d83f-11ea2c70a9e9",
        "colab": {
          "base_uri": "https://localhost:8080/",
          "height": 455
        }
      },
      "execution_count": 69,
      "outputs": [
        {
          "output_type": "execute_result",
          "data": {
            "text/plain": [
              "                    temp_ar umid_ar\n",
              "data                               \n",
              "2023-03-25 10:50:14   26.70   52.00\n",
              "2023-03-25 10:49:32   26.70   52.00\n",
              "2023-03-25 10:48:50   26.70   52.00\n",
              "2023-03-25 10:48:08   26.70   52.00\n",
              "2023-03-25 10:47:26   26.70   52.00\n",
              "...                     ...     ...\n",
              "2023-03-04 00:24:21   26.60   57.00\n",
              "2023-03-04 00:19:18   26.60   57.00\n",
              "2023-03-04 00:14:16   26.60   57.00\n",
              "2023-03-04 00:09:14   26.60   58.00\n",
              "2023-03-04 00:04:12   26.60   57.00\n",
              "\n",
              "[8004 rows x 2 columns]"
            ],
            "text/html": [
              "\n",
              "  <div id=\"df-a6c41756-0fac-4650-9052-c96455080ebd\">\n",
              "    <div class=\"colab-df-container\">\n",
              "      <div>\n",
              "<style scoped>\n",
              "    .dataframe tbody tr th:only-of-type {\n",
              "        vertical-align: middle;\n",
              "    }\n",
              "\n",
              "    .dataframe tbody tr th {\n",
              "        vertical-align: top;\n",
              "    }\n",
              "\n",
              "    .dataframe thead th {\n",
              "        text-align: right;\n",
              "    }\n",
              "</style>\n",
              "<table border=\"1\" class=\"dataframe\">\n",
              "  <thead>\n",
              "    <tr style=\"text-align: right;\">\n",
              "      <th></th>\n",
              "      <th>temp_ar</th>\n",
              "      <th>umid_ar</th>\n",
              "    </tr>\n",
              "    <tr>\n",
              "      <th>data</th>\n",
              "      <th></th>\n",
              "      <th></th>\n",
              "    </tr>\n",
              "  </thead>\n",
              "  <tbody>\n",
              "    <tr>\n",
              "      <th>2023-03-25 10:50:14</th>\n",
              "      <td>26.70</td>\n",
              "      <td>52.00</td>\n",
              "    </tr>\n",
              "    <tr>\n",
              "      <th>2023-03-25 10:49:32</th>\n",
              "      <td>26.70</td>\n",
              "      <td>52.00</td>\n",
              "    </tr>\n",
              "    <tr>\n",
              "      <th>2023-03-25 10:48:50</th>\n",
              "      <td>26.70</td>\n",
              "      <td>52.00</td>\n",
              "    </tr>\n",
              "    <tr>\n",
              "      <th>2023-03-25 10:48:08</th>\n",
              "      <td>26.70</td>\n",
              "      <td>52.00</td>\n",
              "    </tr>\n",
              "    <tr>\n",
              "      <th>2023-03-25 10:47:26</th>\n",
              "      <td>26.70</td>\n",
              "      <td>52.00</td>\n",
              "    </tr>\n",
              "    <tr>\n",
              "      <th>...</th>\n",
              "      <td>...</td>\n",
              "      <td>...</td>\n",
              "    </tr>\n",
              "    <tr>\n",
              "      <th>2023-03-04 00:24:21</th>\n",
              "      <td>26.60</td>\n",
              "      <td>57.00</td>\n",
              "    </tr>\n",
              "    <tr>\n",
              "      <th>2023-03-04 00:19:18</th>\n",
              "      <td>26.60</td>\n",
              "      <td>57.00</td>\n",
              "    </tr>\n",
              "    <tr>\n",
              "      <th>2023-03-04 00:14:16</th>\n",
              "      <td>26.60</td>\n",
              "      <td>57.00</td>\n",
              "    </tr>\n",
              "    <tr>\n",
              "      <th>2023-03-04 00:09:14</th>\n",
              "      <td>26.60</td>\n",
              "      <td>58.00</td>\n",
              "    </tr>\n",
              "    <tr>\n",
              "      <th>2023-03-04 00:04:12</th>\n",
              "      <td>26.60</td>\n",
              "      <td>57.00</td>\n",
              "    </tr>\n",
              "  </tbody>\n",
              "</table>\n",
              "<p>8004 rows × 2 columns</p>\n",
              "</div>\n",
              "      <button class=\"colab-df-convert\" onclick=\"convertToInteractive('df-a6c41756-0fac-4650-9052-c96455080ebd')\"\n",
              "              title=\"Convert this dataframe to an interactive table.\"\n",
              "              style=\"display:none;\">\n",
              "        \n",
              "  <svg xmlns=\"http://www.w3.org/2000/svg\" height=\"24px\"viewBox=\"0 0 24 24\"\n",
              "       width=\"24px\">\n",
              "    <path d=\"M0 0h24v24H0V0z\" fill=\"none\"/>\n",
              "    <path d=\"M18.56 5.44l.94 2.06.94-2.06 2.06-.94-2.06-.94-.94-2.06-.94 2.06-2.06.94zm-11 1L8.5 8.5l.94-2.06 2.06-.94-2.06-.94L8.5 2.5l-.94 2.06-2.06.94zm10 10l.94 2.06.94-2.06 2.06-.94-2.06-.94-.94-2.06-.94 2.06-2.06.94z\"/><path d=\"M17.41 7.96l-1.37-1.37c-.4-.4-.92-.59-1.43-.59-.52 0-1.04.2-1.43.59L10.3 9.45l-7.72 7.72c-.78.78-.78 2.05 0 2.83L4 21.41c.39.39.9.59 1.41.59.51 0 1.02-.2 1.41-.59l7.78-7.78 2.81-2.81c.8-.78.8-2.07 0-2.86zM5.41 20L4 18.59l7.72-7.72 1.47 1.35L5.41 20z\"/>\n",
              "  </svg>\n",
              "      </button>\n",
              "      \n",
              "  <style>\n",
              "    .colab-df-container {\n",
              "      display:flex;\n",
              "      flex-wrap:wrap;\n",
              "      gap: 12px;\n",
              "    }\n",
              "\n",
              "    .colab-df-convert {\n",
              "      background-color: #E8F0FE;\n",
              "      border: none;\n",
              "      border-radius: 50%;\n",
              "      cursor: pointer;\n",
              "      display: none;\n",
              "      fill: #1967D2;\n",
              "      height: 32px;\n",
              "      padding: 0 0 0 0;\n",
              "      width: 32px;\n",
              "    }\n",
              "\n",
              "    .colab-df-convert:hover {\n",
              "      background-color: #E2EBFA;\n",
              "      box-shadow: 0px 1px 2px rgba(60, 64, 67, 0.3), 0px 1px 3px 1px rgba(60, 64, 67, 0.15);\n",
              "      fill: #174EA6;\n",
              "    }\n",
              "\n",
              "    [theme=dark] .colab-df-convert {\n",
              "      background-color: #3B4455;\n",
              "      fill: #D2E3FC;\n",
              "    }\n",
              "\n",
              "    [theme=dark] .colab-df-convert:hover {\n",
              "      background-color: #434B5C;\n",
              "      box-shadow: 0px 1px 3px 1px rgba(0, 0, 0, 0.15);\n",
              "      filter: drop-shadow(0px 1px 2px rgba(0, 0, 0, 0.3));\n",
              "      fill: #FFFFFF;\n",
              "    }\n",
              "  </style>\n",
              "\n",
              "      <script>\n",
              "        const buttonEl =\n",
              "          document.querySelector('#df-a6c41756-0fac-4650-9052-c96455080ebd button.colab-df-convert');\n",
              "        buttonEl.style.display =\n",
              "          google.colab.kernel.accessAllowed ? 'block' : 'none';\n",
              "\n",
              "        async function convertToInteractive(key) {\n",
              "          const element = document.querySelector('#df-a6c41756-0fac-4650-9052-c96455080ebd');\n",
              "          const dataTable =\n",
              "            await google.colab.kernel.invokeFunction('convertToInteractive',\n",
              "                                                     [key], {});\n",
              "          if (!dataTable) return;\n",
              "\n",
              "          const docLinkHtml = 'Like what you see? Visit the ' +\n",
              "            '<a target=\"_blank\" href=https://colab.research.google.com/notebooks/data_table.ipynb>data table notebook</a>'\n",
              "            + ' to learn more about interactive tables.';\n",
              "          element.innerHTML = '';\n",
              "          dataTable['output_type'] = 'display_data';\n",
              "          await google.colab.output.renderOutput(dataTable, element);\n",
              "          const docLink = document.createElement('div');\n",
              "          docLink.innerHTML = docLinkHtml;\n",
              "          element.appendChild(docLink);\n",
              "        }\n",
              "      </script>\n",
              "    </div>\n",
              "  </div>\n",
              "  "
            ]
          },
          "metadata": {},
          "execution_count": 69
        }
      ]
    },
    {
      "cell_type": "markdown",
      "source": [
        "Agrupando os valores de data para cada t minuto(s) pela média"
      ],
      "metadata": {
        "id": "HpJJWbLo07J9"
      }
    },
    {
      "cell_type": "code",
      "source": [
        "%%time\n",
        "dados_agrupados_minutos = serie.resample(str(minutos) + 'T').mean()\n",
        "dados_agrupados_minutos.head()"
      ],
      "metadata": {
        "id": "9bp9YQUzzKY1",
        "outputId": "8e3d5591-3322-460c-a62d-7532415c7d74",
        "colab": {
          "base_uri": "https://localhost:8080/",
          "height": 272
        }
      },
      "execution_count": 70,
      "outputs": [
        {
          "output_type": "stream",
          "name": "stdout",
          "text": [
            "CPU times: user 379 ms, sys: 0 ns, total: 379 ms\n",
            "Wall time: 396 ms\n"
          ]
        },
        {
          "output_type": "execute_result",
          "data": {
            "text/plain": [
              "                     temp_ar  umid_ar\n",
              "data                                 \n",
              "2023-03-04 00:00:00    26.60    57.17\n",
              "2023-03-04 00:30:00    26.60    58.00\n",
              "2023-03-04 01:00:00    26.60    58.00\n",
              "2023-03-04 01:30:00    26.58    57.60\n",
              "2023-03-04 02:00:00    26.60    57.83"
            ],
            "text/html": [
              "\n",
              "  <div id=\"df-d72d73b2-1b2d-4acc-8333-e0fc6b20bd53\">\n",
              "    <div class=\"colab-df-container\">\n",
              "      <div>\n",
              "<style scoped>\n",
              "    .dataframe tbody tr th:only-of-type {\n",
              "        vertical-align: middle;\n",
              "    }\n",
              "\n",
              "    .dataframe tbody tr th {\n",
              "        vertical-align: top;\n",
              "    }\n",
              "\n",
              "    .dataframe thead th {\n",
              "        text-align: right;\n",
              "    }\n",
              "</style>\n",
              "<table border=\"1\" class=\"dataframe\">\n",
              "  <thead>\n",
              "    <tr style=\"text-align: right;\">\n",
              "      <th></th>\n",
              "      <th>temp_ar</th>\n",
              "      <th>umid_ar</th>\n",
              "    </tr>\n",
              "    <tr>\n",
              "      <th>data</th>\n",
              "      <th></th>\n",
              "      <th></th>\n",
              "    </tr>\n",
              "  </thead>\n",
              "  <tbody>\n",
              "    <tr>\n",
              "      <th>2023-03-04 00:00:00</th>\n",
              "      <td>26.60</td>\n",
              "      <td>57.17</td>\n",
              "    </tr>\n",
              "    <tr>\n",
              "      <th>2023-03-04 00:30:00</th>\n",
              "      <td>26.60</td>\n",
              "      <td>58.00</td>\n",
              "    </tr>\n",
              "    <tr>\n",
              "      <th>2023-03-04 01:00:00</th>\n",
              "      <td>26.60</td>\n",
              "      <td>58.00</td>\n",
              "    </tr>\n",
              "    <tr>\n",
              "      <th>2023-03-04 01:30:00</th>\n",
              "      <td>26.58</td>\n",
              "      <td>57.60</td>\n",
              "    </tr>\n",
              "    <tr>\n",
              "      <th>2023-03-04 02:00:00</th>\n",
              "      <td>26.60</td>\n",
              "      <td>57.83</td>\n",
              "    </tr>\n",
              "  </tbody>\n",
              "</table>\n",
              "</div>\n",
              "      <button class=\"colab-df-convert\" onclick=\"convertToInteractive('df-d72d73b2-1b2d-4acc-8333-e0fc6b20bd53')\"\n",
              "              title=\"Convert this dataframe to an interactive table.\"\n",
              "              style=\"display:none;\">\n",
              "        \n",
              "  <svg xmlns=\"http://www.w3.org/2000/svg\" height=\"24px\"viewBox=\"0 0 24 24\"\n",
              "       width=\"24px\">\n",
              "    <path d=\"M0 0h24v24H0V0z\" fill=\"none\"/>\n",
              "    <path d=\"M18.56 5.44l.94 2.06.94-2.06 2.06-.94-2.06-.94-.94-2.06-.94 2.06-2.06.94zm-11 1L8.5 8.5l.94-2.06 2.06-.94-2.06-.94L8.5 2.5l-.94 2.06-2.06.94zm10 10l.94 2.06.94-2.06 2.06-.94-2.06-.94-.94-2.06-.94 2.06-2.06.94z\"/><path d=\"M17.41 7.96l-1.37-1.37c-.4-.4-.92-.59-1.43-.59-.52 0-1.04.2-1.43.59L10.3 9.45l-7.72 7.72c-.78.78-.78 2.05 0 2.83L4 21.41c.39.39.9.59 1.41.59.51 0 1.02-.2 1.41-.59l7.78-7.78 2.81-2.81c.8-.78.8-2.07 0-2.86zM5.41 20L4 18.59l7.72-7.72 1.47 1.35L5.41 20z\"/>\n",
              "  </svg>\n",
              "      </button>\n",
              "      \n",
              "  <style>\n",
              "    .colab-df-container {\n",
              "      display:flex;\n",
              "      flex-wrap:wrap;\n",
              "      gap: 12px;\n",
              "    }\n",
              "\n",
              "    .colab-df-convert {\n",
              "      background-color: #E8F0FE;\n",
              "      border: none;\n",
              "      border-radius: 50%;\n",
              "      cursor: pointer;\n",
              "      display: none;\n",
              "      fill: #1967D2;\n",
              "      height: 32px;\n",
              "      padding: 0 0 0 0;\n",
              "      width: 32px;\n",
              "    }\n",
              "\n",
              "    .colab-df-convert:hover {\n",
              "      background-color: #E2EBFA;\n",
              "      box-shadow: 0px 1px 2px rgba(60, 64, 67, 0.3), 0px 1px 3px 1px rgba(60, 64, 67, 0.15);\n",
              "      fill: #174EA6;\n",
              "    }\n",
              "\n",
              "    [theme=dark] .colab-df-convert {\n",
              "      background-color: #3B4455;\n",
              "      fill: #D2E3FC;\n",
              "    }\n",
              "\n",
              "    [theme=dark] .colab-df-convert:hover {\n",
              "      background-color: #434B5C;\n",
              "      box-shadow: 0px 1px 3px 1px rgba(0, 0, 0, 0.15);\n",
              "      filter: drop-shadow(0px 1px 2px rgba(0, 0, 0, 0.3));\n",
              "      fill: #FFFFFF;\n",
              "    }\n",
              "  </style>\n",
              "\n",
              "      <script>\n",
              "        const buttonEl =\n",
              "          document.querySelector('#df-d72d73b2-1b2d-4acc-8333-e0fc6b20bd53 button.colab-df-convert');\n",
              "        buttonEl.style.display =\n",
              "          google.colab.kernel.accessAllowed ? 'block' : 'none';\n",
              "\n",
              "        async function convertToInteractive(key) {\n",
              "          const element = document.querySelector('#df-d72d73b2-1b2d-4acc-8333-e0fc6b20bd53');\n",
              "          const dataTable =\n",
              "            await google.colab.kernel.invokeFunction('convertToInteractive',\n",
              "                                                     [key], {});\n",
              "          if (!dataTable) return;\n",
              "\n",
              "          const docLinkHtml = 'Like what you see? Visit the ' +\n",
              "            '<a target=\"_blank\" href=https://colab.research.google.com/notebooks/data_table.ipynb>data table notebook</a>'\n",
              "            + ' to learn more about interactive tables.';\n",
              "          element.innerHTML = '';\n",
              "          dataTable['output_type'] = 'display_data';\n",
              "          await google.colab.output.renderOutput(dataTable, element);\n",
              "          const docLink = document.createElement('div');\n",
              "          docLink.innerHTML = docLinkHtml;\n",
              "          element.appendChild(docLink);\n",
              "        }\n",
              "      </script>\n",
              "    </div>\n",
              "  </div>\n",
              "  "
            ]
          },
          "metadata": {},
          "execution_count": 70
        }
      ]
    },
    {
      "cell_type": "markdown",
      "source": [
        "Tamanho do conjunto gerado"
      ],
      "metadata": {
        "id": "1jp3S_9h1DuN"
      }
    },
    {
      "cell_type": "code",
      "source": [
        "dados_agrupados_minutos.shape"
      ],
      "metadata": {
        "colab": {
          "base_uri": "https://localhost:8080/"
        },
        "id": "1n1qwO5bz3Sk",
        "outputId": "056a1c2f-1ea1-49e9-fb07-7d68faaa9859"
      },
      "execution_count": 71,
      "outputs": [
        {
          "output_type": "execute_result",
          "data": {
            "text/plain": [
              "(1030, 2)"
            ]
          },
          "metadata": {},
          "execution_count": 71
        }
      ]
    },
    {
      "cell_type": "markdown",
      "source": [
        "Verificando nulos"
      ],
      "metadata": {
        "id": "YI744jKb1GFl"
      }
    },
    {
      "cell_type": "code",
      "source": [
        "dados_agrupados_minutos.isnull().sum()"
      ],
      "metadata": {
        "colab": {
          "base_uri": "https://localhost:8080/"
        },
        "id": "ezrI0MAbz5Mh",
        "outputId": "ed700fb3-be02-4b23-cbce-ff31d6c4a09a"
      },
      "execution_count": 72,
      "outputs": [
        {
          "output_type": "execute_result",
          "data": {
            "text/plain": [
              "temp_ar    11\n",
              "umid_ar    11\n",
              "dtype: int64"
            ]
          },
          "metadata": {},
          "execution_count": 72
        }
      ]
    },
    {
      "cell_type": "markdown",
      "source": [
        "Preenchendo nulos com os valores anteriores"
      ],
      "metadata": {
        "id": "EveBdTwj1IjJ"
      }
    },
    {
      "cell_type": "code",
      "source": [
        "dados_agrupados_minutos.fillna(method=\"ffill\", inplace = True)"
      ],
      "metadata": {
        "id": "Tluy0suy1NF_"
      },
      "execution_count": 73,
      "outputs": []
    },
    {
      "cell_type": "markdown",
      "source": [
        "Verificando novamente os nulos"
      ],
      "metadata": {
        "id": "M7rX-w791e7G"
      }
    },
    {
      "cell_type": "code",
      "source": [
        "dados_agrupados_minutos.isnull().sum()"
      ],
      "metadata": {
        "colab": {
          "base_uri": "https://localhost:8080/"
        },
        "id": "qSabStUV1hAy",
        "outputId": "cdccb328-f47f-48d1-e7fc-e79f0fd80f1f"
      },
      "execution_count": 74,
      "outputs": [
        {
          "output_type": "execute_result",
          "data": {
            "text/plain": [
              "temp_ar    0\n",
              "umid_ar    0\n",
              "dtype: int64"
            ]
          },
          "metadata": {},
          "execution_count": 74
        }
      ]
    },
    {
      "cell_type": "markdown",
      "source": [
        "# Gráficos"
      ],
      "metadata": {
        "id": "yXWdwsZnnRgc"
      }
    },
    {
      "cell_type": "code",
      "source": [
        "%%time\n",
        "plt.figure(figsize=(30,10))\n",
        "dados_agrupados_minutos['temp_ar'].plot()\n",
        "plt.xticks(fontsize=22)\n",
        "plt.yticks(fontsize=22)\n",
        "plt.xlabel('Medição',size=16)\n",
        "plt.ylabel('Temperatura',size=16)\n",
        "plt.title(f'Temperatura - Dados agrupados de {minutos} em {minutos} minutos pela média',size=22)\n",
        "\n",
        "plt.savefig(f'data_temperatura_ar_conjunto_dados_agrupados_{minutos}_minutos.png', facecolor='white', transparent=False)  \n",
        "plt.show() \n",
        "plt.close()\n",
        "\n",
        "plt.show()"
      ],
      "metadata": {
        "colab": {
          "base_uri": "https://localhost:8080/",
          "height": 412
        },
        "id": "GRIjMOGAnKas",
        "outputId": "7141a9ac-f375-4dee-c17e-fbdba359b563"
      },
      "execution_count": 75,
      "outputs": [
        {
          "output_type": "display_data",
          "data": {
            "text/plain": [
              "<Figure size 2160x720 with 1 Axes>"
            ],
            "image/png": "[encoded data removed]"
          },
          "metadata": {
            "needs_background": "light"
          }
        },
        {
          "output_type": "stream",
          "name": "stdout",
          "text": [
            "CPU times: user 686 ms, sys: 111 ms, total: 798 ms\n",
            "Wall time: 688 ms\n"
          ]
        }
      ]
    },
    {
      "cell_type": "code",
      "source": [
        "%%time\n",
        "plt.figure(figsize=(30,10))\n",
        "dados_agrupados_minutos['umid_ar'].plot()\n",
        "plt.xticks(fontsize=22)\n",
        "plt.yticks(fontsize=22)\n",
        "plt.xlabel('Medição',size=22)\n",
        "plt.ylabel('Umidade',size=22)\n",
        "plt.title(f'Umidade do ar - Dados agrupados de {minutos} em {minutos} minutos pela média',size=22)\n",
        "\n",
        "plt.savefig(f'data_umidade_ar_conjunto_dados_agrupados_{minutos}_minutos.png', facecolor='white', transparent=False)  \n",
        "plt.show() \n",
        "plt.close()\n",
        "\n",
        "plt.show()"
      ],
      "metadata": {
        "id": "azhXIcYt07CW",
        "outputId": "e83025ee-03a7-45b2-e8e5-e65bb62d9fbf",
        "colab": {
          "base_uri": "https://localhost:8080/",
          "height": 418
        }
      },
      "execution_count": 76,
      "outputs": [
        {
          "output_type": "display_data",
          "data": {
            "text/plain": [
              "<Figure size 2160x720 with 1 Axes>"
            ],
            "image/png": "[encoded data removed]"
          },
          "metadata": {
            "needs_background": "light"
          }
        },
        {
          "output_type": "stream",
          "name": "stdout",
          "text": [
            "CPU times: user 1.22 s, sys: 48.1 ms, total: 1.26 s\n",
            "Wall time: 1.79 s\n"
          ]
        }
      ]
    }
  ]
}